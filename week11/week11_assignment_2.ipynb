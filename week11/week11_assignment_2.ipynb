{
 "cells": [
  {
   "cell_type": "markdown",
   "metadata": {},
   "source": [
    "# Week 11 Assignment\n",
    "\n",
    "Because I was unable to conduct our workshop this week, I'm keeping the assignment light as well.  Below you'll find just two steps for this week: one programming exercise and then a planning activity for your final project.\n",
    "\n",
    "For clarification, the \"final project\" I've been referring to is your \"final.\"  It is not a project in addition to a final exam.  They're one-in-the-same.\n",
    "\n",
    "Please do the programming exercise and verify that your code works using the tests, then think about your final project and fill out the questions in the second part.\n",
    "\n",
    "---\n",
    "---"
   ]
  },
  {
   "cell_type": "markdown",
   "metadata": {},
   "source": [
    "### 47.1: Filtering and summarizing data\n",
    "\n",
    "For this work, you'll find a data file in `/data/complications_all.csv`.\n",
    "\n",
    "Read in the data file and create a variable called `mo_hospitals` that contains a data frame from the `complications_all.csv` file, filtered down to only contain those hospitals from the state of Missouri (MO).\n",
    "\n",
    "Then aggregate that data by hospital into a variable named `mo_summary`.  There are some key fields that we want to summarize:\n",
    "* We want to know the earliest date that each hospital was participating in any program\n",
    "* We want to know the latest date that each hospital stopped participating in any program\n",
    "* We want to know the total number of patients in the denominators of these programs\n",
    "\n",
    "Some things to note:\n",
    "* You will need to convert the `Start Date` and `End Date` to actual datetime fields\n",
    "* You will need to clean up and convert the `Denominator` field to just be numeric - the rule that you should use it to simply remove any records where the `Denominator` is `'Not Available'`\n",
    "\n",
    "\n",
    "The final result of this step should be a new data frame called `mo_summary` that contains one row for each hospital and contains the min start date, max end date, and total denominator.  Use the names `start_date`, `end_date`, and `number` for those columns in `mo_summary`.\n",
    "\n",
    "\n",
    "You do not need to create your code in the form of a function, just make sure your variable names match what I've described above so the tests work."
   ]
  },
  {
   "cell_type": "code",
   "execution_count": 1,
   "metadata": {},
   "outputs": [],
   "source": [
    "import pandas as pd\n",
    "# This is just to show you the name to use for the variable you need to create for this step to pass.\n",
    "hospitals = pd.read_csv('/data/complications_all.csv')\n",
    "mo = hospitals['State'] == 'MO'\n"
   ]
  },
  {
   "cell_type": "code",
   "execution_count": 2,
   "metadata": {},
   "outputs": [
    {
     "data": {
      "text/plain": [
       "False    89262\n",
       "True      2133\n",
       "Name: State, dtype: int64"
      ]
     },
     "execution_count": 2,
     "metadata": {},
     "output_type": "execute_result"
    }
   ],
   "source": [
    "mo.value_counts()"
   ]
  },
  {
   "cell_type": "code",
   "execution_count": 3,
   "metadata": {},
   "outputs": [],
   "source": [
    "mo_hospitals = hospitals[mo]"
   ]
  },
  {
   "cell_type": "code",
   "execution_count": 4,
   "metadata": {},
   "outputs": [
    {
     "data": {
      "text/html": [
       "<div>\n",
       "<style scoped>\n",
       "    .dataframe tbody tr th:only-of-type {\n",
       "        vertical-align: middle;\n",
       "    }\n",
       "\n",
       "    .dataframe tbody tr th {\n",
       "        vertical-align: top;\n",
       "    }\n",
       "\n",
       "    .dataframe thead th {\n",
       "        text-align: right;\n",
       "    }\n",
       "</style>\n",
       "<table border=\"1\" class=\"dataframe\">\n",
       "  <thead>\n",
       "    <tr style=\"text-align: right;\">\n",
       "      <th></th>\n",
       "      <th>Facility ID</th>\n",
       "      <th>Facility Name</th>\n",
       "      <th>Address</th>\n",
       "      <th>City</th>\n",
       "      <th>State</th>\n",
       "      <th>ZIP Code</th>\n",
       "      <th>County Name</th>\n",
       "      <th>Phone Number</th>\n",
       "      <th>Measure ID</th>\n",
       "      <th>Measure Name</th>\n",
       "      <th>Compared to National</th>\n",
       "      <th>Denominator</th>\n",
       "      <th>Score</th>\n",
       "      <th>Lower Estimate</th>\n",
       "      <th>Higher Estimate</th>\n",
       "      <th>Footnote</th>\n",
       "      <th>Start Date</th>\n",
       "      <th>End Date</th>\n",
       "    </tr>\n",
       "  </thead>\n",
       "  <tbody>\n",
       "    <tr>\n",
       "      <th>45534</th>\n",
       "      <td>260001</td>\n",
       "      <td>MERCY HOSPITAL JOPLIN</td>\n",
       "      <td>100 MERCY WAY</td>\n",
       "      <td>JOPLIN</td>\n",
       "      <td>MO</td>\n",
       "      <td>64804</td>\n",
       "      <td>JASPER</td>\n",
       "      <td>(417) 781-2727</td>\n",
       "      <td>COMP_HIP_KNEE</td>\n",
       "      <td>Rate of complications for hip/knee replacement...</td>\n",
       "      <td>No Different Than the National Rate</td>\n",
       "      <td>26</td>\n",
       "      <td>2.5</td>\n",
       "      <td>1.4</td>\n",
       "      <td>4.2</td>\n",
       "      <td>NaN</td>\n",
       "      <td>04/01/2015</td>\n",
       "      <td>03/31/2018</td>\n",
       "    </tr>\n",
       "    <tr>\n",
       "      <th>45535</th>\n",
       "      <td>260001</td>\n",
       "      <td>MERCY HOSPITAL JOPLIN</td>\n",
       "      <td>100 MERCY WAY</td>\n",
       "      <td>JOPLIN</td>\n",
       "      <td>MO</td>\n",
       "      <td>64804</td>\n",
       "      <td>JASPER</td>\n",
       "      <td>(417) 781-2727</td>\n",
       "      <td>MORT_30_AMI</td>\n",
       "      <td>Death rate for heart attack patients</td>\n",
       "      <td>No Different Than the National Rate</td>\n",
       "      <td>175</td>\n",
       "      <td>13.9</td>\n",
       "      <td>11.0</td>\n",
       "      <td>16.9</td>\n",
       "      <td>NaN</td>\n",
       "      <td>07/01/2015</td>\n",
       "      <td>06/30/2018</td>\n",
       "    </tr>\n",
       "    <tr>\n",
       "      <th>45536</th>\n",
       "      <td>260001</td>\n",
       "      <td>MERCY HOSPITAL JOPLIN</td>\n",
       "      <td>100 MERCY WAY</td>\n",
       "      <td>JOPLIN</td>\n",
       "      <td>MO</td>\n",
       "      <td>64804</td>\n",
       "      <td>JASPER</td>\n",
       "      <td>(417) 781-2727</td>\n",
       "      <td>MORT_30_CABG</td>\n",
       "      <td>Death rate for CABG surgery patients</td>\n",
       "      <td>No Different Than the National Rate</td>\n",
       "      <td>91</td>\n",
       "      <td>2.5</td>\n",
       "      <td>1.2</td>\n",
       "      <td>5.1</td>\n",
       "      <td>NaN</td>\n",
       "      <td>07/01/2015</td>\n",
       "      <td>06/30/2018</td>\n",
       "    </tr>\n",
       "    <tr>\n",
       "      <th>45537</th>\n",
       "      <td>260001</td>\n",
       "      <td>MERCY HOSPITAL JOPLIN</td>\n",
       "      <td>100 MERCY WAY</td>\n",
       "      <td>JOPLIN</td>\n",
       "      <td>MO</td>\n",
       "      <td>64804</td>\n",
       "      <td>JASPER</td>\n",
       "      <td>(417) 781-2727</td>\n",
       "      <td>MORT_30_COPD</td>\n",
       "      <td>Death rate for COPD patients</td>\n",
       "      <td>No Different Than the National Rate</td>\n",
       "      <td>326</td>\n",
       "      <td>8.5</td>\n",
       "      <td>6.5</td>\n",
       "      <td>10.9</td>\n",
       "      <td>NaN</td>\n",
       "      <td>07/01/2015</td>\n",
       "      <td>06/30/2018</td>\n",
       "    </tr>\n",
       "    <tr>\n",
       "      <th>45538</th>\n",
       "      <td>260001</td>\n",
       "      <td>MERCY HOSPITAL JOPLIN</td>\n",
       "      <td>100 MERCY WAY</td>\n",
       "      <td>JOPLIN</td>\n",
       "      <td>MO</td>\n",
       "      <td>64804</td>\n",
       "      <td>JASPER</td>\n",
       "      <td>(417) 781-2727</td>\n",
       "      <td>MORT_30_HF</td>\n",
       "      <td>Death rate for heart failure patients</td>\n",
       "      <td>No Different Than the National Rate</td>\n",
       "      <td>461</td>\n",
       "      <td>13.1</td>\n",
       "      <td>10.7</td>\n",
       "      <td>15.9</td>\n",
       "      <td>NaN</td>\n",
       "      <td>07/01/2015</td>\n",
       "      <td>06/30/2018</td>\n",
       "    </tr>\n",
       "  </tbody>\n",
       "</table>\n",
       "</div>"
      ],
      "text/plain": [
       "      Facility ID          Facility Name        Address    City State  \\\n",
       "45534      260001  MERCY HOSPITAL JOPLIN  100 MERCY WAY  JOPLIN    MO   \n",
       "45535      260001  MERCY HOSPITAL JOPLIN  100 MERCY WAY  JOPLIN    MO   \n",
       "45536      260001  MERCY HOSPITAL JOPLIN  100 MERCY WAY  JOPLIN    MO   \n",
       "45537      260001  MERCY HOSPITAL JOPLIN  100 MERCY WAY  JOPLIN    MO   \n",
       "45538      260001  MERCY HOSPITAL JOPLIN  100 MERCY WAY  JOPLIN    MO   \n",
       "\n",
       "       ZIP Code County Name    Phone Number     Measure ID  \\\n",
       "45534     64804      JASPER  (417) 781-2727  COMP_HIP_KNEE   \n",
       "45535     64804      JASPER  (417) 781-2727    MORT_30_AMI   \n",
       "45536     64804      JASPER  (417) 781-2727   MORT_30_CABG   \n",
       "45537     64804      JASPER  (417) 781-2727   MORT_30_COPD   \n",
       "45538     64804      JASPER  (417) 781-2727     MORT_30_HF   \n",
       "\n",
       "                                            Measure Name  \\\n",
       "45534  Rate of complications for hip/knee replacement...   \n",
       "45535               Death rate for heart attack patients   \n",
       "45536               Death rate for CABG surgery patients   \n",
       "45537                       Death rate for COPD patients   \n",
       "45538              Death rate for heart failure patients   \n",
       "\n",
       "                      Compared to National Denominator Score Lower Estimate  \\\n",
       "45534  No Different Than the National Rate          26   2.5            1.4   \n",
       "45535  No Different Than the National Rate         175  13.9           11.0   \n",
       "45536  No Different Than the National Rate          91   2.5            1.2   \n",
       "45537  No Different Than the National Rate         326   8.5            6.5   \n",
       "45538  No Different Than the National Rate         461  13.1           10.7   \n",
       "\n",
       "      Higher Estimate  Footnote  Start Date    End Date  \n",
       "45534             4.2       NaN  04/01/2015  03/31/2018  \n",
       "45535            16.9       NaN  07/01/2015  06/30/2018  \n",
       "45536             5.1       NaN  07/01/2015  06/30/2018  \n",
       "45537            10.9       NaN  07/01/2015  06/30/2018  \n",
       "45538            15.9       NaN  07/01/2015  06/30/2018  "
      ]
     },
     "execution_count": 4,
     "metadata": {},
     "output_type": "execute_result"
    }
   ],
   "source": [
    "mo_hospitals.head()"
   ]
  },
  {
   "cell_type": "code",
   "execution_count": 5,
   "metadata": {},
   "outputs": [],
   "source": [
    "# These assertions will help make sure that you're on the right track.\n",
    "assert(mo_hospitals['State'].unique() == ['MO'])\n",
    "assert(mo_hospitals.shape == (2133,18))"
   ]
  },
  {
   "cell_type": "code",
   "execution_count": 6,
   "metadata": {},
   "outputs": [],
   "source": [
    "from dateutil import parser\n",
    "from datetime import datetime\n",
    "import pandasql as ps\n",
    "\n",
    "## creating a subset of the original data\n",
    "mo_hospitals_subset = mo_hospitals[['Facility Name','Start Date', 'End Date', 'Denominator']]\n"
   ]
  },
  {
   "cell_type": "code",
   "execution_count": 7,
   "metadata": {},
   "outputs": [],
   "source": [
    "## converting the start date to string \n",
    "earliest_date = mo_hospitals_subset['Start Date'].astype(str)"
   ]
  },
  {
   "cell_type": "code",
   "execution_count": 8,
   "metadata": {},
   "outputs": [],
   "source": [
    "## converting the dates in string type to datetime format and assigning to another variable\n",
    "start = pd.to_datetime(earliest_date.str[0:10], format=\"%m/%d/%Y\")"
   ]
  },
  {
   "cell_type": "code",
   "execution_count": 9,
   "metadata": {},
   "outputs": [
    {
     "name": "stderr",
     "output_type": "stream",
     "text": [
      "/opt/tljh/user/lib/python3.6/site-packages/ipykernel_launcher.py:2: SettingWithCopyWarning: \n",
      "A value is trying to be set on a copy of a slice from a DataFrame.\n",
      "Try using .loc[row_indexer,col_indexer] = value instead\n",
      "\n",
      "See the caveats in the documentation: https://pandas.pydata.org/pandas-docs/stable/user_guide/indexing.html#returning-a-view-versus-a-copy\n",
      "  \n"
     ]
    }
   ],
   "source": [
    "## creating a new column with the start_date\n",
    "mo_hospitals_subset['start_date'] = start"
   ]
  },
  {
   "cell_type": "code",
   "execution_count": 10,
   "metadata": {},
   "outputs": [],
   "source": [
    "## converting the end date to string \n",
    "latest_date = mo_hospitals_subset['End Date'].astype(str)"
   ]
  },
  {
   "cell_type": "code",
   "execution_count": 11,
   "metadata": {},
   "outputs": [],
   "source": [
    "## converting the dates in string type to datetime format and assigning to another variable\n",
    "end = pd.to_datetime(latest_date.str[0:10], format = \"%m/%d/%Y\")"
   ]
  },
  {
   "cell_type": "code",
   "execution_count": 12,
   "metadata": {},
   "outputs": [
    {
     "name": "stderr",
     "output_type": "stream",
     "text": [
      "/opt/tljh/user/lib/python3.6/site-packages/ipykernel_launcher.py:2: SettingWithCopyWarning: \n",
      "A value is trying to be set on a copy of a slice from a DataFrame.\n",
      "Try using .loc[row_indexer,col_indexer] = value instead\n",
      "\n",
      "See the caveats in the documentation: https://pandas.pydata.org/pandas-docs/stable/user_guide/indexing.html#returning-a-view-versus-a-copy\n",
      "  \n"
     ]
    }
   ],
   "source": [
    "## creating a new column with the end_date\n",
    "mo_hospitals_subset['end_date'] = end"
   ]
  },
  {
   "cell_type": "code",
   "execution_count": 13,
   "metadata": {},
   "outputs": [
    {
     "name": "stderr",
     "output_type": "stream",
     "text": [
      "/opt/tljh/user/lib/python3.6/site-packages/ipykernel_launcher.py:15: SettingWithCopyWarning: \n",
      "A value is trying to be set on a copy of a slice from a DataFrame.\n",
      "Try using .loc[row_indexer,col_indexer] = value instead\n",
      "\n",
      "See the caveats in the documentation: https://pandas.pydata.org/pandas-docs/stable/user_guide/indexing.html#returning-a-view-versus-a-copy\n",
      "  from ipykernel import kernelapp as app\n"
     ]
    }
   ],
   "source": [
    "## filtering the data where the denominator is not 'Not Available'\n",
    "\n",
    "patients_in_denominator = mo_hospitals_subset['Denominator'] != 'Not Available'\n",
    "\n",
    "## creating a new data frame with filtered data\n",
    "\n",
    "mo_hospital_data = mo_hospitals_subset[patients_in_denominator]\n",
    "\n",
    "## converting the denominator column to numeric\n",
    "\n",
    "denominator = mo_hospital_data['Denominator'].astype(int)\n",
    "\n",
    "## creating a new column with name hospital\n",
    "\n",
    "mo_hospital_data['hospital'] = mo_hospital_data['Facility Name']"
   ]
  },
  {
   "cell_type": "code",
   "execution_count": 14,
   "metadata": {},
   "outputs": [
    {
     "data": {
      "text/html": [
       "<div>\n",
       "<style scoped>\n",
       "    .dataframe tbody tr th:only-of-type {\n",
       "        vertical-align: middle;\n",
       "    }\n",
       "\n",
       "    .dataframe tbody tr th {\n",
       "        vertical-align: top;\n",
       "    }\n",
       "\n",
       "    .dataframe thead th {\n",
       "        text-align: right;\n",
       "    }\n",
       "</style>\n",
       "<table border=\"1\" class=\"dataframe\">\n",
       "  <thead>\n",
       "    <tr style=\"text-align: right;\">\n",
       "      <th></th>\n",
       "      <th>Facility Name</th>\n",
       "      <th>Start Date</th>\n",
       "      <th>End Date</th>\n",
       "      <th>Denominator</th>\n",
       "      <th>start_date</th>\n",
       "      <th>end_date</th>\n",
       "      <th>hospital</th>\n",
       "    </tr>\n",
       "  </thead>\n",
       "  <tbody>\n",
       "    <tr>\n",
       "      <th>45534</th>\n",
       "      <td>MERCY HOSPITAL JOPLIN</td>\n",
       "      <td>04/01/2015</td>\n",
       "      <td>03/31/2018</td>\n",
       "      <td>26</td>\n",
       "      <td>2015-04-01</td>\n",
       "      <td>2018-03-31</td>\n",
       "      <td>MERCY HOSPITAL JOPLIN</td>\n",
       "    </tr>\n",
       "    <tr>\n",
       "      <th>45535</th>\n",
       "      <td>MERCY HOSPITAL JOPLIN</td>\n",
       "      <td>07/01/2015</td>\n",
       "      <td>06/30/2018</td>\n",
       "      <td>175</td>\n",
       "      <td>2015-07-01</td>\n",
       "      <td>2018-06-30</td>\n",
       "      <td>MERCY HOSPITAL JOPLIN</td>\n",
       "    </tr>\n",
       "    <tr>\n",
       "      <th>45536</th>\n",
       "      <td>MERCY HOSPITAL JOPLIN</td>\n",
       "      <td>07/01/2015</td>\n",
       "      <td>06/30/2018</td>\n",
       "      <td>91</td>\n",
       "      <td>2015-07-01</td>\n",
       "      <td>2018-06-30</td>\n",
       "      <td>MERCY HOSPITAL JOPLIN</td>\n",
       "    </tr>\n",
       "    <tr>\n",
       "      <th>45537</th>\n",
       "      <td>MERCY HOSPITAL JOPLIN</td>\n",
       "      <td>07/01/2015</td>\n",
       "      <td>06/30/2018</td>\n",
       "      <td>326</td>\n",
       "      <td>2015-07-01</td>\n",
       "      <td>2018-06-30</td>\n",
       "      <td>MERCY HOSPITAL JOPLIN</td>\n",
       "    </tr>\n",
       "    <tr>\n",
       "      <th>45538</th>\n",
       "      <td>MERCY HOSPITAL JOPLIN</td>\n",
       "      <td>07/01/2015</td>\n",
       "      <td>06/30/2018</td>\n",
       "      <td>461</td>\n",
       "      <td>2015-07-01</td>\n",
       "      <td>2018-06-30</td>\n",
       "      <td>MERCY HOSPITAL JOPLIN</td>\n",
       "    </tr>\n",
       "  </tbody>\n",
       "</table>\n",
       "</div>"
      ],
      "text/plain": [
       "               Facility Name  Start Date    End Date Denominator start_date  \\\n",
       "45534  MERCY HOSPITAL JOPLIN  04/01/2015  03/31/2018          26 2015-04-01   \n",
       "45535  MERCY HOSPITAL JOPLIN  07/01/2015  06/30/2018         175 2015-07-01   \n",
       "45536  MERCY HOSPITAL JOPLIN  07/01/2015  06/30/2018          91 2015-07-01   \n",
       "45537  MERCY HOSPITAL JOPLIN  07/01/2015  06/30/2018         326 2015-07-01   \n",
       "45538  MERCY HOSPITAL JOPLIN  07/01/2015  06/30/2018         461 2015-07-01   \n",
       "\n",
       "        end_date               hospital  \n",
       "45534 2018-03-31  MERCY HOSPITAL JOPLIN  \n",
       "45535 2018-06-30  MERCY HOSPITAL JOPLIN  \n",
       "45536 2018-06-30  MERCY HOSPITAL JOPLIN  \n",
       "45537 2018-06-30  MERCY HOSPITAL JOPLIN  \n",
       "45538 2018-06-30  MERCY HOSPITAL JOPLIN  "
      ]
     },
     "execution_count": 14,
     "metadata": {},
     "output_type": "execute_result"
    }
   ],
   "source": [
    "mo_hospital_data.head()"
   ]
  },
  {
   "cell_type": "code",
   "execution_count": 15,
   "metadata": {},
   "outputs": [],
   "source": [
    "## writing an SQL query to group the data by hospitals and select the columns hospital, sum(denominator), start_date, and end_date\n",
    "\n",
    "sql = \"\"\"\n",
    "select  hospital, sum(denominator) as number, start_date, end_date\n",
    "from mo_hospital_data  \n",
    "group by hospital\n",
    "\"\"\""
   ]
  },
  {
   "cell_type": "code",
   "execution_count": 16,
   "metadata": {},
   "outputs": [],
   "source": [
    "mo_summary = ps.sqldf(sql, locals())"
   ]
  },
  {
   "cell_type": "code",
   "execution_count": 17,
   "metadata": {},
   "outputs": [
    {
     "data": {
      "text/html": [
       "<div>\n",
       "<style scoped>\n",
       "    .dataframe tbody tr th:only-of-type {\n",
       "        vertical-align: middle;\n",
       "    }\n",
       "\n",
       "    .dataframe tbody tr th {\n",
       "        vertical-align: top;\n",
       "    }\n",
       "\n",
       "    .dataframe thead th {\n",
       "        text-align: right;\n",
       "    }\n",
       "</style>\n",
       "<table border=\"1\" class=\"dataframe\">\n",
       "  <thead>\n",
       "    <tr style=\"text-align: right;\">\n",
       "      <th></th>\n",
       "      <th>hospital</th>\n",
       "      <th>number</th>\n",
       "      <th>start_date</th>\n",
       "      <th>end_date</th>\n",
       "    </tr>\n",
       "  </thead>\n",
       "  <tbody>\n",
       "    <tr>\n",
       "      <th>0</th>\n",
       "      <td>BARNES JEWISH HOSPITAL</td>\n",
       "      <td>131313</td>\n",
       "      <td>2015-04-01 00:00:00.000000</td>\n",
       "      <td>2018-03-31 00:00:00.000000</td>\n",
       "    </tr>\n",
       "    <tr>\n",
       "      <th>1</th>\n",
       "      <td>BARNES-JEWISH ST PETERS HOSPITAL</td>\n",
       "      <td>15668</td>\n",
       "      <td>2015-04-01 00:00:00.000000</td>\n",
       "      <td>2018-03-31 00:00:00.000000</td>\n",
       "    </tr>\n",
       "    <tr>\n",
       "      <th>2</th>\n",
       "      <td>BARNES-JEWISH WEST COUNTY HOSPITAL</td>\n",
       "      <td>9622</td>\n",
       "      <td>2015-04-01 00:00:00.000000</td>\n",
       "      <td>2018-03-31 00:00:00.000000</td>\n",
       "    </tr>\n",
       "    <tr>\n",
       "      <th>3</th>\n",
       "      <td>BATES COUNTY MEMORIAL HOSPITAL</td>\n",
       "      <td>3117</td>\n",
       "      <td>2015-07-01 00:00:00.000000</td>\n",
       "      <td>2018-06-30 00:00:00.000000</td>\n",
       "    </tr>\n",
       "    <tr>\n",
       "      <th>4</th>\n",
       "      <td>BELTON REGIONAL MEDICAL CENTER</td>\n",
       "      <td>9270</td>\n",
       "      <td>2015-04-01 00:00:00.000000</td>\n",
       "      <td>2018-03-31 00:00:00.000000</td>\n",
       "    </tr>\n",
       "  </tbody>\n",
       "</table>\n",
       "</div>"
      ],
      "text/plain": [
       "                             hospital  number                  start_date  \\\n",
       "0              BARNES JEWISH HOSPITAL  131313  2015-04-01 00:00:00.000000   \n",
       "1    BARNES-JEWISH ST PETERS HOSPITAL   15668  2015-04-01 00:00:00.000000   \n",
       "2  BARNES-JEWISH WEST COUNTY HOSPITAL    9622  2015-04-01 00:00:00.000000   \n",
       "3      BATES COUNTY MEMORIAL HOSPITAL    3117  2015-07-01 00:00:00.000000   \n",
       "4      BELTON REGIONAL MEDICAL CENTER    9270  2015-04-01 00:00:00.000000   \n",
       "\n",
       "                     end_date  \n",
       "0  2018-03-31 00:00:00.000000  \n",
       "1  2018-03-31 00:00:00.000000  \n",
       "2  2018-03-31 00:00:00.000000  \n",
       "3  2018-06-30 00:00:00.000000  \n",
       "4  2018-03-31 00:00:00.000000  "
      ]
     },
     "execution_count": 17,
     "metadata": {},
     "output_type": "execute_result"
    }
   ],
   "source": [
    "mo_summary.head()"
   ]
  },
  {
   "cell_type": "code",
   "execution_count": 18,
   "metadata": {},
   "outputs": [],
   "source": [
    "assert(mo_summary['number'].sum() == 1766908)\n",
    "assert(parser.parse(mo_summary['start_date'].min()).date() == pd.Timestamp(2015,4,1))\n",
    "assert(parser.parse(mo_summary['end_date'].max()).date() == pd.Timestamp(2018,6,30))\n",
    "# according to the question there should be 4 columns (hospital, start_date, end_date, number), so thereare 4 columns in the data set.\n",
    "assert(mo_summary.shape == (108,4))\n",
    "assert(mo_summary.loc[mo_summary['hospital'] =='BARNES JEWISH HOSPITAL', 'number'].iloc[0] == 131313)\n",
    "assert(mo_summary.loc[mo_summary['hospital'] == \"BOONE HOSPITAL CENTER\", 'number'].iloc[0] == 63099)"
   ]
  },
  {
   "cell_type": "markdown",
   "metadata": {},
   "source": [
    "---\n",
    "\n",
    "### 47.2 Planning your final project\n",
    "\n",
    "You should be thinking about the things we've been learning and how you can apply them to your final project.  Use the rubric to help guid your thinking and then answer the questions below.  This is meant as a guide to help you think through what you will do."
   ]
  },
  {
   "cell_type": "markdown",
   "metadata": {},
   "source": [
    "#### A) Data Access\n",
    "\n",
    "Your project should include data from at least three distinct types of sources.  For example: AWS S3, Relational Databases, Internet, Web Services, local files.  List what data sources you're planning to use."
   ]
  },
  {
   "cell_type": "markdown",
   "metadata": {},
   "source": [
    "**Double-click to enter your answer**\n",
    "\n",
    "Kaggle Data set, National Cancer Institute website and CDC data set\n",
    "\n"
   ]
  },
  {
   "cell_type": "markdown",
   "metadata": {},
   "source": [
    "#### B. Data Formats\n",
    "\n",
    "Your project should include data that comes in different file formats.  For example: HL7, EDI, HTML, CSV, Excel, JSON, XML.  List what data formats you're planning to use."
   ]
  },
  {
   "cell_type": "markdown",
   "metadata": {},
   "source": [
    "**Double-click to enter your answer**\n",
    "\n",
    "HTML, CSV, EXCEL\n"
   ]
  },
  {
   "cell_type": "markdown",
   "metadata": {},
   "source": [
    "#### C. Objective\n",
    "\n",
    "What purpose would your project serve in a real work setting?  Take a couple of paragraphs to write down why this is an interesting product."
   ]
  },
  {
   "cell_type": "markdown",
   "metadata": {},
   "source": [
    "**Double-click to enter your answer**\n",
    "\n",
    "I'm trying to merge data from Kaggle, National Cancer Institue and CDC data set to know the prevalence of breast cancer in USA and the characteristcs of breast cancer. This product also produces the visualization charts enabling us to diagnose the Breast cancer in the patients and try to cure in initial stages of the incidence. I think this might help in understanding it more precisely by every individual.\n",
    "\n",
    "\n"
   ]
  },
  {
   "cell_type": "markdown",
   "metadata": {},
   "source": [
    "\n",
    "\n",
    "---\n",
    "\n",
    "\n",
    "\n",
    "## Submitting Your Work\n",
    "\n",
    "In order to submit your work, you'll need to use the `git` command line program to **add** your homework file (this file) to your local repository, **commit** your changes to your local repository, and then **push** those changes up to github.com.  From there, I'll be able to **pull** the changes down and do my grading.  I'll provide some feedback, **commit** and **push** my comments back to you.  Next week, I'll show you how to **pull** down my comments.\n",
    "\n",
    "To run through everything one last time and submit your work:\n",
    "1. Use the `Kernel` -> `Restart Kernel and Run All Cells` menu option to run everything from top to bottom and stop here.\n",
    "2. Follow the instruction on the prompt below to either ssave and submit your work, or continue working.\n",
    "\n",
    "If anything fails along the way with this submission part of the process, let me know.  I'll help you troubleshoort."
   ]
  },
  {
   "cell_type": "markdown",
   "metadata": {},
   "source": [
    "---"
   ]
  },
  {
   "cell_type": "code",
   "execution_count": 19,
   "metadata": {
    "jupyter": {
     "source_hidden": true
    }
   },
   "outputs": [
    {
     "name": "stdin",
     "output_type": "stream",
     "text": [
      "\n",
      "Are you ready to submit your work?\n",
      "1. Click the Save icon (or do Ctrl-S / Cmd-S)\n",
      "2. Type \"yes\" or \"no\" below\n",
      "3. Press Enter\n",
      "\n",
      " yes\n"
     ]
    },
    {
     "name": "stdout",
     "output_type": "stream",
     "text": [
      "[main d25d7ae] Submitting the week 11 programming assignment\n",
      " 2 files changed, 946 insertions(+), 3 deletions(-)\n",
      " create mode 100644 week11/week11_assignment_2.ipynb\n",
      "Counting objects: 5, done.\n",
      "Delta compression using up to 2 threads.\n",
      "Compressing objects: 100% (5/5), done.\n",
      "Writing objects: 100% (5/5), 6.77 KiB | 6.77 MiB/s, done.\n",
      "Total 5 (delta 2), reused 0 (delta 0)\n",
      "remote: Resolving deltas: 100% (2/2), completed with 2 local objects.\u001b[K\n",
      "remote: This repository moved. Please use the new location:\u001b[K\n",
      "remote:   git@github.com:Sravani9544/hds5210-2022.git\u001b[K\n",
      "To github.com:sravani9544/hds5210-2022.git\n",
      "   b348666..d25d7ae  main -> main\n"
     ]
    }
   ],
   "source": [
    "a=input('''\n",
    "Are you ready to submit your work?\n",
    "1. Click the Save icon (or do Ctrl-S / Cmd-S)\n",
    "2. Type \"yes\" or \"no\" below\n",
    "3. Press Enter\n",
    "\n",
    "''')\n",
    "\n",
    "if a=='yes':\n",
    "    !git add week11_assignment_2.ipynb\n",
    "    !git commit -a -m \"Submitting the week 11 programming assignment\"\n",
    "    !git push\n",
    "else:\n",
    "    print('''\n",
    "    \n",
    "OK. We can wait.\n",
    "''')"
   ]
  },
  {
   "cell_type": "code",
   "execution_count": null,
   "metadata": {},
   "outputs": [],
   "source": []
  }
 ],
 "metadata": {
  "kernelspec": {
   "display_name": "Python 3",
   "language": "python",
   "name": "python3"
  },
  "language_info": {
   "codemirror_mode": {
    "name": "ipython",
    "version": 3
   },
   "file_extension": ".py",
   "mimetype": "text/x-python",
   "name": "python",
   "nbconvert_exporter": "python",
   "pygments_lexer": "ipython3",
   "version": "3.6.7"
  }
 },
 "nbformat": 4,
 "nbformat_minor": 4
}
