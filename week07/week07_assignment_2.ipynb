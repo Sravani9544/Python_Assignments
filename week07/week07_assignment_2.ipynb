{
 "cells": [
  {
   "cell_type": "markdown",
   "metadata": {},
   "source": [
    "# Week 7 Assignment\n",
    "\n",
    "_MkKinney 6.1_\n",
    "\n",
    "This week has been all about getting information off the internet both in structured data formats (CSV, JSON, etc) as well as HTML.  For these exercises, we're going to use two practical examples of fetching data from web pages to show how to use Pandas and BeautifulSoup to extract structured information from the web.\n",
    "\n",
    "---\n",
    "---"
   ]
  },
  {
   "cell_type": "markdown",
   "metadata": {},
   "source": [
    "### 33.1 Parsing a list in HTML\n",
    "\n",
    "Go to the Banner Health Price Transparency Page: https://www.bannerhealth.com/patients/billing/pricing-resources/hospital-price-transparency\n",
    "\n",
    "Notice that there is a list of hospitals and the city they are in.  We want to parse the underlying HTML to create a list of all the hospitals along with which city they're in.\n",
    "\n",
    "```json\n",
    "[\n",
    "    [\"Banner - University Medical Center Phoenix\", \"Arizona\"],\n",
    "    [\"Banner - University Medical Center South \", \"Arizona\"],\n",
    "    ...\n",
    "]\n",
    "```\n",
    "\n",
    "To examine the underlying HTML code, you can use Chrome, right-click, and choose **Inspect**.\n",
    "\n",
    "For reference, the documentation for BeautifulSoup is here: https://www.crummy.com/software/BeautifulSoup/bs4/doc/\n"
   ]
  },
  {
   "cell_type": "markdown",
   "metadata": {},
   "source": [
    "In the cell below, create a function called **parse_banner(url)** that takes as it's one parameter the URL of the webpage to be parsed for links.  Make sure you include docstrings and a good test case using hte URL provided above."
   ]
  },
  {
   "cell_type": "code",
   "execution_count": 1,
   "metadata": {},
   "outputs": [],
   "source": [
    "from bs4 import BeautifulSoup\n",
    "import requests\n",
    "\n",
    "# Note that you'll need to fetch the data using the following syntax to include headers\n",
    "# that make the web server think you're a real web browser.\n",
    "\n",
    "url = 'https://www.bannerhealth.com/patients/billing/pricing-resources/hospital-price-transparency'\n",
    "headers = { \"User-Agent\": \"Mozilla/5.0 (Macintosh; Intel Mac OS X 11_2_3) AppleWebKit/537.36 (KHTML, like Gecko) Chrome/89.0.4389.90 Safari/537.36\" }\n",
    "response = requests.get(url, headers=headers)"
   ]
  },
  {
   "cell_type": "code",
   "execution_count": 2,
   "metadata": {},
   "outputs": [
    {
     "data": {
      "text/plain": [
       "200"
      ]
     },
     "execution_count": 2,
     "metadata": {},
     "output_type": "execute_result"
    }
   ],
   "source": [
    "response.status_code"
   ]
  },
  {
   "cell_type": "code",
   "execution_count": 3,
   "metadata": {},
   "outputs": [],
   "source": [
    "price_transparency = BeautifulSoup(response.text)"
   ]
  },
  {
   "cell_type": "code",
   "execution_count": 4,
   "metadata": {},
   "outputs": [],
   "source": [
    "def parse_banner(url):\n",
    "    \"\"\"(str) - > (list)\n",
    "    This function takes the url of the site, reads the undelying HTML and returns the list of lists containing states and hospitals.\n",
    "    \n",
    "    >>> len(parse_banner('https://www.bannerhealth.com/patients/billing/pricing-resources/hospital-price-transparency'))\n",
    "    32\n",
    "    \n",
    "    >>> element = parse_banner(url)\n",
    "    >>> element[0]\n",
    "    ['Banner - University Medical Center Phoenix', 'Arizona']\n",
    "    \n",
    "    >>> element[4][0]\n",
    "    'Banner Behavioral Health Hospital'\n",
    "    \n",
    "    \"\"\"\n",
    "   \n",
    "    ## finding all the paragraphs in the HTML and assigning it to allPara\n",
    "    \n",
    "    allPara = price_transparency.find_all('p')\n",
    "    \n",
    "    ## creating empty lists and dictionary\n",
    "    \n",
    "    list2 = []\n",
    "    dictionary = {}\n",
    "    \n",
    "    ## looping through all the paragraphs and selscting only paragraphs containing states. Then assigning them in the dictionary to the empty list\n",
    "    \n",
    "    for states in allPara:\n",
    "        for state in states.find_all('strong'):\n",
    "            if state.text not in dictionary:\n",
    "                dictionary[state.text] = []\n",
    "    \n",
    "    ## finding all the next siblings.\n",
    "            list1= []\n",
    "        \n",
    "            for hospitals in states.findNextSiblings():\n",
    "     \n",
    "    ## breaking the loop if the next sibling is p, else running it to find the li tags\n",
    "                \n",
    "                if hospitals.name == 'p':\n",
    "                    break\n",
    "                if hospitals.name == 'ul':\n",
    "                    for hospital in hospitals.find_all('li'):\n",
    "                \n",
    "    ## appending the text of li to list1 if it is not there in the dictionary keys\n",
    "                        \n",
    "                        if hospital.text not in dictionary.keys():\n",
    "                            list1.append(hospital.text.replace(\"\\xa0\", \"\"))\n",
    "\n",
    "            dictionary[state.text] = list1\n",
    "\n",
    "    ## for every key and values in the dictionary appending them in list2 \n",
    "            \n",
    "    for key in dictionary:\n",
    "        values = dictionary[key]\n",
    "        for value in values:\n",
    "            list2.append([value,key])\n",
    "#     print(list2)\n",
    "    return list2"
   ]
  },
  {
   "cell_type": "code",
   "execution_count": 5,
   "metadata": {},
   "outputs": [
    {
     "name": "stdout",
     "output_type": "stream",
     "text": [
      "Finding tests in NoName\n",
      "Trying:\n",
      "    len(parse_banner('https://www.bannerhealth.com/patients/billing/pricing-resources/hospital-price-transparency'))\n",
      "Expecting:\n",
      "    32\n",
      "ok\n",
      "Trying:\n",
      "    element = parse_banner(url)\n",
      "Expecting nothing\n",
      "ok\n",
      "Trying:\n",
      "    element[0]\n",
      "Expecting:\n",
      "    ['Banner - University Medical Center Phoenix', 'Arizona']\n",
      "ok\n",
      "Trying:\n",
      "    element[4][0]\n",
      "Expecting:\n",
      "    'Banner Behavioral Health Hospital'\n",
      "ok\n"
     ]
    }
   ],
   "source": [
    "import doctest\n",
    "doctest.run_docstring_examples(parse_banner, globals(), verbose=True)"
   ]
  },
  {
   "cell_type": "code",
   "execution_count": 6,
   "metadata": {},
   "outputs": [],
   "source": [
    "banner = parse_banner('https://www.bannerhealth.com/patients/billing/pricing-resources/hospital-price-transparency')\n",
    "assert len(banner)==32, 'Length of result should have been 38, but {} returned.'.format(len(banner))\n",
    "assert banner[0][1]=='Arizona', 'Wrong data found in the first result item: {}'.format(banner[0])"
   ]
  },
  {
   "cell_type": "markdown",
   "metadata": {},
   "source": [
    "---\n",
    "\n",
    "## 33.2 Using a REST API (from GitHub.com)\n",
    "\n",
    "Many websites provide something called a REST API to access information from their site programatically, rather than relying on HTML.  One example is GitHub.com, whose API allows you do to things like \"list all the public repositories for a user.\"\n",
    "\n",
    "The documentation for GitHub.com's REST API can be found here: https://docs.github.com/en/rest/guides/getting-started-with-the-rest-api\n",
    "\n",
    "Create a function called **repo_summary(user)** that takes a GitHub.com user name as it's parameter and retrieves a list of all the repositories you can see for that user.  The specific documentation for the this kind of request can be found here: https://docs.github.com/en/rest/reference/repos#list-repositories-for-a-user. Make sure your function is well documented with a docstring and includes a simple test to verify that you get back 12 repositories when querying for the repositories for user **paulboal**.\n",
    "\n",
    "I've provided a related example to help you out."
   ]
  },
  {
   "cell_type": "code",
   "execution_count": 7,
   "metadata": {},
   "outputs": [
    {
     "name": "stdout",
     "output_type": "stream",
     "text": [
      "This information is about paulboal. His website is www.amitechsolutions.com.\n"
     ]
    }
   ],
   "source": [
    "# Example -- this example of code shows how to get basic information on the user paulboal\n",
    "# For your solution, make sure you meet the requirements in the instructions above.\n",
    "\n",
    "import requests\n",
    "\n",
    "response = requests.get('https://api.github.com/users/paulboal')\n",
    "data = response.json()\n",
    "print('This information is about {}. His website is {}.'.format(data.get('login'), data.get('blog')))"
   ]
  },
  {
   "cell_type": "code",
   "execution_count": 8,
   "metadata": {},
   "outputs": [],
   "source": [
    "def repo_summary(user):\n",
    "    \"\"\"('str') -> ['repository names']\n",
    "    This function takes the username and searches the total repositories of that user. Then append them into a list.\n",
    "    \n",
    "    >>> len(repo_summary('paulboal'))\n",
    "    12\n",
    "    \"\"\"\n",
    "    ## creating a empty list called repository\n",
    "    \n",
    "    repository = []\n",
    "    \n",
    "    ## appending the input user to the url and assigning it to variable called request\n",
    "    \n",
    "    request = requests.get('https://api.github.com/users/'+user+'/repos')\n",
    "    json = request.json()    \n",
    "    \n",
    "    ## looping through the entire json file to find repository name, and appending it to the empty list called repository\n",
    "    \n",
    "    for i in range(0,len(json)):\n",
    "        repository_name = (json[i]['name'])\n",
    "        repository.append(repository_name)\n",
    "    return repository\n"
   ]
  },
  {
   "cell_type": "code",
   "execution_count": 9,
   "metadata": {},
   "outputs": [
    {
     "name": "stdout",
     "output_type": "stream",
     "text": [
      "Finding tests in NoName\n",
      "Trying:\n",
      "    len(repo_summary('paulboal'))\n",
      "Expecting:\n",
      "    12\n",
      "ok\n"
     ]
    }
   ],
   "source": [
    "import doctest\n",
    "doctest.run_docstring_examples(repo_summary, globals(), verbose=True)"
   ]
  },
  {
   "cell_type": "code",
   "execution_count": 10,
   "metadata": {},
   "outputs": [],
   "source": [
    "repos = repo_summary('paulboal')\n",
    "assert len(repos)==12, 'Expecing 12, but {} were found'.format(len(repos))"
   ]
  },
  {
   "cell_type": "markdown",
   "metadata": {},
   "source": [
    "---\n",
    "\n",
    "### 33.3 Find Something of Your Own\n",
    "\n",
    "Do some web searches and find an HTML page with some data that is interesting to something you're studying.  You can extract and parse that information using either BeautifulSoup or Pandas.  If you're using Pandas, then do something interesting to format and structure your data.  If you're using BeautifulSoup, you'll just need to do the work of parsing the data out of HTML -- that's hard enough!\n",
    "\n",
    "You don't need to build this as a function.  Just use notebook cells as I've done above.  You will be graded based on _style_.  Use variable names that make sense for your problem / solution. Cleanup anything you don't need before you submit your work."
   ]
  },
  {
   "cell_type": "code",
   "execution_count": 11,
   "metadata": {},
   "outputs": [],
   "source": [
    "# Your Code Here"
   ]
  },
  {
   "cell_type": "code",
   "execution_count": 12,
   "metadata": {},
   "outputs": [
    {
     "data": {
      "text/html": [
       "<div>\n",
       "<style scoped>\n",
       "    .dataframe tbody tr th:only-of-type {\n",
       "        vertical-align: middle;\n",
       "    }\n",
       "\n",
       "    .dataframe tbody tr th {\n",
       "        vertical-align: top;\n",
       "    }\n",
       "\n",
       "    .dataframe thead th {\n",
       "        text-align: right;\n",
       "    }\n",
       "</style>\n",
       "<table border=\"1\" class=\"dataframe\">\n",
       "  <thead>\n",
       "    <tr style=\"text-align: right;\">\n",
       "      <th></th>\n",
       "      <th>Research</th>\n",
       "      <th>Impact</th>\n",
       "    </tr>\n",
       "  </thead>\n",
       "  <tbody>\n",
       "    <tr>\n",
       "      <th>0</th>\n",
       "      <td>Static electricity and magnetism (c. 1600)Elec...</td>\n",
       "      <td>All electric appliances, dynamos, electric pow...</td>\n",
       "    </tr>\n",
       "    <tr>\n",
       "      <th>1</th>\n",
       "      <td>Diffraction (1665)</td>\n",
       "      <td>Optics, hence fiber optic cable (1840s), moder...</td>\n",
       "    </tr>\n",
       "    <tr>\n",
       "      <th>2</th>\n",
       "      <td>Germ theory (1700)</td>\n",
       "      <td>Hygiene, leading to decreased transmission of ...</td>\n",
       "    </tr>\n",
       "    <tr>\n",
       "      <th>3</th>\n",
       "      <td>Vaccination (1798)</td>\n",
       "      <td>Leading to the elimination of most infectious ...</td>\n",
       "    </tr>\n",
       "    <tr>\n",
       "      <th>4</th>\n",
       "      <td>Photovoltaic effect (1839)</td>\n",
       "      <td>Solar cells (1883), hence solar power, solar p...</td>\n",
       "    </tr>\n",
       "    <tr>\n",
       "      <th>5</th>\n",
       "      <td>The strange orbit of Mercury (1859) and other ...</td>\n",
       "      <td>Satellite-based technology such as GPS (1973),...</td>\n",
       "    </tr>\n",
       "    <tr>\n",
       "      <th>6</th>\n",
       "      <td>Radio waves (1887)</td>\n",
       "      <td>Radio had become used in innumerable ways beyo...</td>\n",
       "    </tr>\n",
       "    <tr>\n",
       "      <th>7</th>\n",
       "      <td>Radioactivity (1896) and antimatter (1932)</td>\n",
       "      <td>Cancer treatment (1896), Radiometric dating (1...</td>\n",
       "    </tr>\n",
       "    <tr>\n",
       "      <th>8</th>\n",
       "      <td>X-rays (1896)</td>\n",
       "      <td>Medical imaging, including computed tomography.</td>\n",
       "    </tr>\n",
       "    <tr>\n",
       "      <th>9</th>\n",
       "      <td>Crystallography and quantum mechanics (1900)</td>\n",
       "      <td>Semiconductor devices (1906), hence modern com...</td>\n",
       "    </tr>\n",
       "    <tr>\n",
       "      <th>10</th>\n",
       "      <td>Plastics (1907)</td>\n",
       "      <td>Starting with Bakelite, many types of artifici...</td>\n",
       "    </tr>\n",
       "    <tr>\n",
       "      <th>11</th>\n",
       "      <td>Antibiotics (1880s, 1928)</td>\n",
       "      <td>Salvarsan, Penicillin, doxycycline, etc.</td>\n",
       "    </tr>\n",
       "    <tr>\n",
       "      <th>12</th>\n",
       "      <td>Nuclear magnetic resonance (1930s)</td>\n",
       "      <td>Nuclear magnetic resonance spectroscopy (1946)...</td>\n",
       "    </tr>\n",
       "  </tbody>\n",
       "</table>\n",
       "</div>"
      ],
      "text/plain": [
       "                                             Research  \\\n",
       "0   Static electricity and magnetism (c. 1600)Elec...   \n",
       "1                                  Diffraction (1665)   \n",
       "2                                  Germ theory (1700)   \n",
       "3                                  Vaccination (1798)   \n",
       "4                          Photovoltaic effect (1839)   \n",
       "5   The strange orbit of Mercury (1859) and other ...   \n",
       "6                                  Radio waves (1887)   \n",
       "7          Radioactivity (1896) and antimatter (1932)   \n",
       "8                                       X-rays (1896)   \n",
       "9        Crystallography and quantum mechanics (1900)   \n",
       "10                                    Plastics (1907)   \n",
       "11                          Antibiotics (1880s, 1928)   \n",
       "12                 Nuclear magnetic resonance (1930s)   \n",
       "\n",
       "                                               Impact  \n",
       "0   All electric appliances, dynamos, electric pow...  \n",
       "1   Optics, hence fiber optic cable (1840s), moder...  \n",
       "2   Hygiene, leading to decreased transmission of ...  \n",
       "3   Leading to the elimination of most infectious ...  \n",
       "4   Solar cells (1883), hence solar power, solar p...  \n",
       "5   Satellite-based technology such as GPS (1973),...  \n",
       "6   Radio had become used in innumerable ways beyo...  \n",
       "7   Cancer treatment (1896), Radiometric dating (1...  \n",
       "8     Medical imaging, including computed tomography.  \n",
       "9   Semiconductor devices (1906), hence modern com...  \n",
       "10  Starting with Bakelite, many types of artifici...  \n",
       "11           Salvarsan, Penicillin, doxycycline, etc.  \n",
       "12  Nuclear magnetic resonance spectroscopy (1946)...  "
      ]
     },
     "execution_count": 12,
     "metadata": {},
     "output_type": "execute_result"
    }
   ],
   "source": [
    "## importing pandas \n",
    "\n",
    "import pandas as pd\n",
    "\n",
    "## reading the html of wikipedia page 'science' and assigning it to the variable called table\n",
    "\n",
    "table = pd.read_html('https://en.wikipedia.org/wiki/Science')\n",
    "\n",
    "## selecting the required table i.e., table 2 and assigning it to research_impactcs to know the important researches and their impact on science  \n",
    "\n",
    "research_impacts = table[2]\n",
    "research_impacts"
   ]
  },
  {
   "cell_type": "code",
   "execution_count": 13,
   "metadata": {},
   "outputs": [
    {
     "data": {
      "text/plain": [
       "['Research', 'Impact']"
      ]
     },
     "execution_count": 13,
     "metadata": {},
     "output_type": "execute_result"
    }
   ],
   "source": [
    "## printing the column names in the form of a list\n",
    "\n",
    "list(research_impacts.columns)"
   ]
  },
  {
   "cell_type": "code",
   "execution_count": 14,
   "metadata": {},
   "outputs": [
    {
     "data": {
      "text/html": [
       "<style  type=\"text/css\" >\n",
       "#T_481a5ea2_9e29_11ec_ad8f_0ed564d06023row0_col0,#T_481a5ea2_9e29_11ec_ad8f_0ed564d06023row0_col1,#T_481a5ea2_9e29_11ec_ad8f_0ed564d06023row1_col0,#T_481a5ea2_9e29_11ec_ad8f_0ed564d06023row1_col1,#T_481a5ea2_9e29_11ec_ad8f_0ed564d06023row2_col0,#T_481a5ea2_9e29_11ec_ad8f_0ed564d06023row2_col1,#T_481a5ea2_9e29_11ec_ad8f_0ed564d06023row3_col0,#T_481a5ea2_9e29_11ec_ad8f_0ed564d06023row3_col1,#T_481a5ea2_9e29_11ec_ad8f_0ed564d06023row4_col0,#T_481a5ea2_9e29_11ec_ad8f_0ed564d06023row4_col1,#T_481a5ea2_9e29_11ec_ad8f_0ed564d06023row5_col0,#T_481a5ea2_9e29_11ec_ad8f_0ed564d06023row5_col1,#T_481a5ea2_9e29_11ec_ad8f_0ed564d06023row6_col0,#T_481a5ea2_9e29_11ec_ad8f_0ed564d06023row6_col1,#T_481a5ea2_9e29_11ec_ad8f_0ed564d06023row7_col0,#T_481a5ea2_9e29_11ec_ad8f_0ed564d06023row7_col1,#T_481a5ea2_9e29_11ec_ad8f_0ed564d06023row8_col0,#T_481a5ea2_9e29_11ec_ad8f_0ed564d06023row8_col1,#T_481a5ea2_9e29_11ec_ad8f_0ed564d06023row9_col0,#T_481a5ea2_9e29_11ec_ad8f_0ed564d06023row9_col1,#T_481a5ea2_9e29_11ec_ad8f_0ed564d06023row10_col0,#T_481a5ea2_9e29_11ec_ad8f_0ed564d06023row10_col1,#T_481a5ea2_9e29_11ec_ad8f_0ed564d06023row11_col0,#T_481a5ea2_9e29_11ec_ad8f_0ed564d06023row11_col1,#T_481a5ea2_9e29_11ec_ad8f_0ed564d06023row12_col0,#T_481a5ea2_9e29_11ec_ad8f_0ed564d06023row12_col1{\n",
       "            background-color:  pink;\n",
       "            border:  1.3px solid grey;\n",
       "            color:  purple;\n",
       "        }</style><table id=\"T_481a5ea2_9e29_11ec_ad8f_0ed564d06023\" ><thead>    <tr>        <th class=\"blank level0\" ></th>        <th class=\"col_heading level0 col0\" >Research</th>        <th class=\"col_heading level0 col1\" >Impact</th>    </tr></thead><tbody>\n",
       "                <tr>\n",
       "                        <th id=\"T_481a5ea2_9e29_11ec_ad8f_0ed564d06023level0_row0\" class=\"row_heading level0 row0\" >0</th>\n",
       "                        <td id=\"T_481a5ea2_9e29_11ec_ad8f_0ed564d06023row0_col0\" class=\"data row0 col0\" >Static electricity and magnetism (c. 1600)Electric current (18th century)</td>\n",
       "                        <td id=\"T_481a5ea2_9e29_11ec_ad8f_0ed564d06023row0_col1\" class=\"data row0 col1\" >All electric appliances, dynamos, electric power stations, modern electronics, including electric lighting, television, electric heating, transcranial magnetic stimulation, deep brain stimulation, magnetic tape, loudspeaker, and the compass and lightning rod.</td>\n",
       "            </tr>\n",
       "            <tr>\n",
       "                        <th id=\"T_481a5ea2_9e29_11ec_ad8f_0ed564d06023level0_row1\" class=\"row_heading level0 row1\" >1</th>\n",
       "                        <td id=\"T_481a5ea2_9e29_11ec_ad8f_0ed564d06023row1_col0\" class=\"data row1 col0\" >Diffraction (1665)</td>\n",
       "                        <td id=\"T_481a5ea2_9e29_11ec_ad8f_0ed564d06023row1_col1\" class=\"data row1 col1\" >Optics, hence fiber optic cable (1840s), modern intercontinental communications, and cable TV and internet.</td>\n",
       "            </tr>\n",
       "            <tr>\n",
       "                        <th id=\"T_481a5ea2_9e29_11ec_ad8f_0ed564d06023level0_row2\" class=\"row_heading level0 row2\" >2</th>\n",
       "                        <td id=\"T_481a5ea2_9e29_11ec_ad8f_0ed564d06023row2_col0\" class=\"data row2 col0\" >Germ theory (1700)</td>\n",
       "                        <td id=\"T_481a5ea2_9e29_11ec_ad8f_0ed564d06023row2_col1\" class=\"data row2 col1\" >Hygiene, leading to decreased transmission of infectious diseases; antibodies, leading to techniques for disease diagnosis and targeted anticancer therapies.</td>\n",
       "            </tr>\n",
       "            <tr>\n",
       "                        <th id=\"T_481a5ea2_9e29_11ec_ad8f_0ed564d06023level0_row3\" class=\"row_heading level0 row3\" >3</th>\n",
       "                        <td id=\"T_481a5ea2_9e29_11ec_ad8f_0ed564d06023row3_col0\" class=\"data row3 col0\" >Vaccination (1798)</td>\n",
       "                        <td id=\"T_481a5ea2_9e29_11ec_ad8f_0ed564d06023row3_col1\" class=\"data row3 col1\" >Leading to the elimination of most infectious diseases from developed countries and the worldwide eradication of smallpox.</td>\n",
       "            </tr>\n",
       "            <tr>\n",
       "                        <th id=\"T_481a5ea2_9e29_11ec_ad8f_0ed564d06023level0_row4\" class=\"row_heading level0 row4\" >4</th>\n",
       "                        <td id=\"T_481a5ea2_9e29_11ec_ad8f_0ed564d06023row4_col0\" class=\"data row4 col0\" >Photovoltaic effect (1839)</td>\n",
       "                        <td id=\"T_481a5ea2_9e29_11ec_ad8f_0ed564d06023row4_col1\" class=\"data row4 col1\" >Solar cells (1883), hence solar power, solar powered watches, calculators and other devices.</td>\n",
       "            </tr>\n",
       "            <tr>\n",
       "                        <th id=\"T_481a5ea2_9e29_11ec_ad8f_0ed564d06023level0_row5\" class=\"row_heading level0 row5\" >5</th>\n",
       "                        <td id=\"T_481a5ea2_9e29_11ec_ad8f_0ed564d06023row5_col0\" class=\"data row5 col0\" >The strange orbit of Mercury (1859) and other researchleading to special (1905) and general relativity (1916)</td>\n",
       "                        <td id=\"T_481a5ea2_9e29_11ec_ad8f_0ed564d06023row5_col1\" class=\"data row5 col1\" >Satellite-based technology such as GPS (1973), satnav and satellite communications.[l]</td>\n",
       "            </tr>\n",
       "            <tr>\n",
       "                        <th id=\"T_481a5ea2_9e29_11ec_ad8f_0ed564d06023level0_row6\" class=\"row_heading level0 row6\" >6</th>\n",
       "                        <td id=\"T_481a5ea2_9e29_11ec_ad8f_0ed564d06023row6_col0\" class=\"data row6 col0\" >Radio waves (1887)</td>\n",
       "                        <td id=\"T_481a5ea2_9e29_11ec_ad8f_0ed564d06023row6_col1\" class=\"data row6 col1\" >Radio had become used in innumerable ways beyond its better-known areas of telephony, and broadcast television (1927) and radio (1906) entertainment. Other uses included – emergency services, radar (navigation and weather prediction), medicine, astronomy, wireless communications, geophysics, and networking. Radio waves also led researchers to adjacent frequencies such as microwaves, used worldwide for heating and cooking food.</td>\n",
       "            </tr>\n",
       "            <tr>\n",
       "                        <th id=\"T_481a5ea2_9e29_11ec_ad8f_0ed564d06023level0_row7\" class=\"row_heading level0 row7\" >7</th>\n",
       "                        <td id=\"T_481a5ea2_9e29_11ec_ad8f_0ed564d06023row7_col0\" class=\"data row7 col0\" >Radioactivity (1896) and antimatter (1932)</td>\n",
       "                        <td id=\"T_481a5ea2_9e29_11ec_ad8f_0ed564d06023row7_col1\" class=\"data row7 col1\" >Cancer treatment (1896), Radiometric dating (1905), nuclear reactors (1942) and weapons (1945), mineral exploration, PET scans (1961), and medical research (via isotopic labeling).</td>\n",
       "            </tr>\n",
       "            <tr>\n",
       "                        <th id=\"T_481a5ea2_9e29_11ec_ad8f_0ed564d06023level0_row8\" class=\"row_heading level0 row8\" >8</th>\n",
       "                        <td id=\"T_481a5ea2_9e29_11ec_ad8f_0ed564d06023row8_col0\" class=\"data row8 col0\" >X-rays (1896)</td>\n",
       "                        <td id=\"T_481a5ea2_9e29_11ec_ad8f_0ed564d06023row8_col1\" class=\"data row8 col1\" >Medical imaging, including computed tomography.</td>\n",
       "            </tr>\n",
       "            <tr>\n",
       "                        <th id=\"T_481a5ea2_9e29_11ec_ad8f_0ed564d06023level0_row9\" class=\"row_heading level0 row9\" >9</th>\n",
       "                        <td id=\"T_481a5ea2_9e29_11ec_ad8f_0ed564d06023row9_col0\" class=\"data row9 col0\" >Crystallography and quantum mechanics (1900)</td>\n",
       "                        <td id=\"T_481a5ea2_9e29_11ec_ad8f_0ed564d06023row9_col1\" class=\"data row9 col1\" >Semiconductor devices (1906), hence modern computing and telecommunications including the integration with wireless devices: the mobile phone,[l] LED lamps and lasers.</td>\n",
       "            </tr>\n",
       "            <tr>\n",
       "                        <th id=\"T_481a5ea2_9e29_11ec_ad8f_0ed564d06023level0_row10\" class=\"row_heading level0 row10\" >10</th>\n",
       "                        <td id=\"T_481a5ea2_9e29_11ec_ad8f_0ed564d06023row10_col0\" class=\"data row10 col0\" >Plastics (1907)</td>\n",
       "                        <td id=\"T_481a5ea2_9e29_11ec_ad8f_0ed564d06023row10_col1\" class=\"data row10 col1\" >Starting with Bakelite, many types of artificial polymers for numerous applications in industry and daily life.</td>\n",
       "            </tr>\n",
       "            <tr>\n",
       "                        <th id=\"T_481a5ea2_9e29_11ec_ad8f_0ed564d06023level0_row11\" class=\"row_heading level0 row11\" >11</th>\n",
       "                        <td id=\"T_481a5ea2_9e29_11ec_ad8f_0ed564d06023row11_col0\" class=\"data row11 col0\" >Antibiotics (1880s, 1928)</td>\n",
       "                        <td id=\"T_481a5ea2_9e29_11ec_ad8f_0ed564d06023row11_col1\" class=\"data row11 col1\" >Salvarsan, Penicillin, doxycycline, etc.</td>\n",
       "            </tr>\n",
       "            <tr>\n",
       "                        <th id=\"T_481a5ea2_9e29_11ec_ad8f_0ed564d06023level0_row12\" class=\"row_heading level0 row12\" >12</th>\n",
       "                        <td id=\"T_481a5ea2_9e29_11ec_ad8f_0ed564d06023row12_col0\" class=\"data row12 col0\" >Nuclear magnetic resonance (1930s)</td>\n",
       "                        <td id=\"T_481a5ea2_9e29_11ec_ad8f_0ed564d06023row12_col1\" class=\"data row12 col1\" >Nuclear magnetic resonance spectroscopy (1946), magnetic resonance imaging (1971), functional magnetic resonance imaging (1990s).</td>\n",
       "            </tr>\n",
       "    </tbody></table>"
      ],
      "text/plain": [
       "<pandas.io.formats.style.Styler at 0x7fdf0da8dcc0>"
      ]
     },
     "execution_count": 14,
     "metadata": {},
     "output_type": "execute_result"
    }
   ],
   "source": [
    "## styling the dataframe using style.set_properties and giving the dataframe a background colour, border, and color\n",
    "\n",
    "research_impacts.style.set_properties(**{'background-color': 'pink',\n",
    "                               'border': '1.3px solid grey',   \n",
    "                                'color': 'purple'})"
   ]
  },
  {
   "cell_type": "code",
   "execution_count": 15,
   "metadata": {},
   "outputs": [
    {
     "data": {
      "text/html": [
       "<style  type=\"text/css\" >\n",
       "#T_481a5ea3_9e29_11ec_ad8f_0ed564d06023row0_col0,#T_481a5ea3_9e29_11ec_ad8f_0ed564d06023row0_col1,#T_481a5ea3_9e29_11ec_ad8f_0ed564d06023row1_col0,#T_481a5ea3_9e29_11ec_ad8f_0ed564d06023row1_col1,#T_481a5ea3_9e29_11ec_ad8f_0ed564d06023row2_col0,#T_481a5ea3_9e29_11ec_ad8f_0ed564d06023row2_col1,#T_481a5ea3_9e29_11ec_ad8f_0ed564d06023row3_col0,#T_481a5ea3_9e29_11ec_ad8f_0ed564d06023row3_col1,#T_481a5ea3_9e29_11ec_ad8f_0ed564d06023row4_col0,#T_481a5ea3_9e29_11ec_ad8f_0ed564d06023row4_col1,#T_481a5ea3_9e29_11ec_ad8f_0ed564d06023row5_col0,#T_481a5ea3_9e29_11ec_ad8f_0ed564d06023row5_col1,#T_481a5ea3_9e29_11ec_ad8f_0ed564d06023row6_col0,#T_481a5ea3_9e29_11ec_ad8f_0ed564d06023row6_col1,#T_481a5ea3_9e29_11ec_ad8f_0ed564d06023row7_col0,#T_481a5ea3_9e29_11ec_ad8f_0ed564d06023row7_col1,#T_481a5ea3_9e29_11ec_ad8f_0ed564d06023row8_col0,#T_481a5ea3_9e29_11ec_ad8f_0ed564d06023row8_col1,#T_481a5ea3_9e29_11ec_ad8f_0ed564d06023row9_col0,#T_481a5ea3_9e29_11ec_ad8f_0ed564d06023row9_col1,#T_481a5ea3_9e29_11ec_ad8f_0ed564d06023row10_col0,#T_481a5ea3_9e29_11ec_ad8f_0ed564d06023row10_col1,#T_481a5ea3_9e29_11ec_ad8f_0ed564d06023row11_col0,#T_481a5ea3_9e29_11ec_ad8f_0ed564d06023row11_col1,#T_481a5ea3_9e29_11ec_ad8f_0ed564d06023row12_col0,#T_481a5ea3_9e29_11ec_ad8f_0ed564d06023row12_col1{\n",
       "            border:  1.3px solid grey;\n",
       "            color:  blue;\n",
       "        }</style><table id=\"T_481a5ea3_9e29_11ec_ad8f_0ed564d06023\" ><thead>    <tr>        <th class=\"blank level0\" ></th>        <th class=\"col_heading level0 col0\" >Research</th>        <th class=\"col_heading level0 col1\" >Impact</th>    </tr></thead><tbody>\n",
       "                <tr>\n",
       "                        <th id=\"T_481a5ea3_9e29_11ec_ad8f_0ed564d06023level0_row0\" class=\"row_heading level0 row0\" >0</th>\n",
       "                        <td id=\"T_481a5ea3_9e29_11ec_ad8f_0ed564d06023row0_col0\" class=\"data row0 col0\" >Static electricity and magnetism (c. 1600)Electric current (18th century)</td>\n",
       "                        <td id=\"T_481a5ea3_9e29_11ec_ad8f_0ed564d06023row0_col1\" class=\"data row0 col1\" >All electric appliances, dynamos, electric power stations, modern electronics, including electric lighting, television, electric heating, transcranial magnetic stimulation, deep brain stimulation, magnetic tape, loudspeaker, and the compass and lightning rod.</td>\n",
       "            </tr>\n",
       "            <tr>\n",
       "                        <th id=\"T_481a5ea3_9e29_11ec_ad8f_0ed564d06023level0_row1\" class=\"row_heading level0 row1\" >1</th>\n",
       "                        <td id=\"T_481a5ea3_9e29_11ec_ad8f_0ed564d06023row1_col0\" class=\"data row1 col0\" >Diffraction (1665)</td>\n",
       "                        <td id=\"T_481a5ea3_9e29_11ec_ad8f_0ed564d06023row1_col1\" class=\"data row1 col1\" >Optics, hence fiber optic cable (1840s), modern intercontinental communications, and cable TV and internet.</td>\n",
       "            </tr>\n",
       "            <tr>\n",
       "                        <th id=\"T_481a5ea3_9e29_11ec_ad8f_0ed564d06023level0_row2\" class=\"row_heading level0 row2\" >2</th>\n",
       "                        <td id=\"T_481a5ea3_9e29_11ec_ad8f_0ed564d06023row2_col0\" class=\"data row2 col0\" >Germ theory (1700)</td>\n",
       "                        <td id=\"T_481a5ea3_9e29_11ec_ad8f_0ed564d06023row2_col1\" class=\"data row2 col1\" >Hygiene, leading to decreased transmission of infectious diseases; antibodies, leading to techniques for disease diagnosis and targeted anticancer therapies.</td>\n",
       "            </tr>\n",
       "            <tr>\n",
       "                        <th id=\"T_481a5ea3_9e29_11ec_ad8f_0ed564d06023level0_row3\" class=\"row_heading level0 row3\" >3</th>\n",
       "                        <td id=\"T_481a5ea3_9e29_11ec_ad8f_0ed564d06023row3_col0\" class=\"data row3 col0\" >Vaccination (1798)</td>\n",
       "                        <td id=\"T_481a5ea3_9e29_11ec_ad8f_0ed564d06023row3_col1\" class=\"data row3 col1\" >Leading to the elimination of most infectious diseases from developed countries and the worldwide eradication of smallpox.</td>\n",
       "            </tr>\n",
       "            <tr>\n",
       "                        <th id=\"T_481a5ea3_9e29_11ec_ad8f_0ed564d06023level0_row4\" class=\"row_heading level0 row4\" >4</th>\n",
       "                        <td id=\"T_481a5ea3_9e29_11ec_ad8f_0ed564d06023row4_col0\" class=\"data row4 col0\" >Photovoltaic effect (1839)</td>\n",
       "                        <td id=\"T_481a5ea3_9e29_11ec_ad8f_0ed564d06023row4_col1\" class=\"data row4 col1\" >Solar cells (1883), hence solar power, solar powered watches, calculators and other devices.</td>\n",
       "            </tr>\n",
       "            <tr>\n",
       "                        <th id=\"T_481a5ea3_9e29_11ec_ad8f_0ed564d06023level0_row5\" class=\"row_heading level0 row5\" >5</th>\n",
       "                        <td id=\"T_481a5ea3_9e29_11ec_ad8f_0ed564d06023row5_col0\" class=\"data row5 col0\" >The strange orbit of Mercury (1859) and other researchleading to special (1905) and general relativity (1916)</td>\n",
       "                        <td id=\"T_481a5ea3_9e29_11ec_ad8f_0ed564d06023row5_col1\" class=\"data row5 col1\" >Satellite-based technology such as GPS (1973), satnav and satellite communications.[l]</td>\n",
       "            </tr>\n",
       "            <tr>\n",
       "                        <th id=\"T_481a5ea3_9e29_11ec_ad8f_0ed564d06023level0_row6\" class=\"row_heading level0 row6\" >6</th>\n",
       "                        <td id=\"T_481a5ea3_9e29_11ec_ad8f_0ed564d06023row6_col0\" class=\"data row6 col0\" >Radio waves (1887)</td>\n",
       "                        <td id=\"T_481a5ea3_9e29_11ec_ad8f_0ed564d06023row6_col1\" class=\"data row6 col1\" >Radio had become used in innumerable ways beyond its better-known areas of telephony, and broadcast television (1927) and radio (1906) entertainment. Other uses included – emergency services, radar (navigation and weather prediction), medicine, astronomy, wireless communications, geophysics, and networking. Radio waves also led researchers to adjacent frequencies such as microwaves, used worldwide for heating and cooking food.</td>\n",
       "            </tr>\n",
       "            <tr>\n",
       "                        <th id=\"T_481a5ea3_9e29_11ec_ad8f_0ed564d06023level0_row7\" class=\"row_heading level0 row7\" >7</th>\n",
       "                        <td id=\"T_481a5ea3_9e29_11ec_ad8f_0ed564d06023row7_col0\" class=\"data row7 col0\" >Radioactivity (1896) and antimatter (1932)</td>\n",
       "                        <td id=\"T_481a5ea3_9e29_11ec_ad8f_0ed564d06023row7_col1\" class=\"data row7 col1\" >Cancer treatment (1896), Radiometric dating (1905), nuclear reactors (1942) and weapons (1945), mineral exploration, PET scans (1961), and medical research (via isotopic labeling).</td>\n",
       "            </tr>\n",
       "            <tr>\n",
       "                        <th id=\"T_481a5ea3_9e29_11ec_ad8f_0ed564d06023level0_row8\" class=\"row_heading level0 row8\" >8</th>\n",
       "                        <td id=\"T_481a5ea3_9e29_11ec_ad8f_0ed564d06023row8_col0\" class=\"data row8 col0\" >X-rays (1896)</td>\n",
       "                        <td id=\"T_481a5ea3_9e29_11ec_ad8f_0ed564d06023row8_col1\" class=\"data row8 col1\" >Medical imaging, including computed tomography.</td>\n",
       "            </tr>\n",
       "            <tr>\n",
       "                        <th id=\"T_481a5ea3_9e29_11ec_ad8f_0ed564d06023level0_row9\" class=\"row_heading level0 row9\" >9</th>\n",
       "                        <td id=\"T_481a5ea3_9e29_11ec_ad8f_0ed564d06023row9_col0\" class=\"data row9 col0\" >Crystallography and quantum mechanics (1900)</td>\n",
       "                        <td id=\"T_481a5ea3_9e29_11ec_ad8f_0ed564d06023row9_col1\" class=\"data row9 col1\" >Semiconductor devices (1906), hence modern computing and telecommunications including the integration with wireless devices: the mobile phone,[l] LED lamps and lasers.</td>\n",
       "            </tr>\n",
       "            <tr>\n",
       "                        <th id=\"T_481a5ea3_9e29_11ec_ad8f_0ed564d06023level0_row10\" class=\"row_heading level0 row10\" >10</th>\n",
       "                        <td id=\"T_481a5ea3_9e29_11ec_ad8f_0ed564d06023row10_col0\" class=\"data row10 col0\" >Plastics (1907)</td>\n",
       "                        <td id=\"T_481a5ea3_9e29_11ec_ad8f_0ed564d06023row10_col1\" class=\"data row10 col1\" >Starting with Bakelite, many types of artificial polymers for numerous applications in industry and daily life.</td>\n",
       "            </tr>\n",
       "            <tr>\n",
       "                        <th id=\"T_481a5ea3_9e29_11ec_ad8f_0ed564d06023level0_row11\" class=\"row_heading level0 row11\" >11</th>\n",
       "                        <td id=\"T_481a5ea3_9e29_11ec_ad8f_0ed564d06023row11_col0\" class=\"data row11 col0\" >Antibiotics (1880s, 1928)</td>\n",
       "                        <td id=\"T_481a5ea3_9e29_11ec_ad8f_0ed564d06023row11_col1\" class=\"data row11 col1\" >Salvarsan, Penicillin, doxycycline, etc.</td>\n",
       "            </tr>\n",
       "            <tr>\n",
       "                        <th id=\"T_481a5ea3_9e29_11ec_ad8f_0ed564d06023level0_row12\" class=\"row_heading level0 row12\" >12</th>\n",
       "                        <td id=\"T_481a5ea3_9e29_11ec_ad8f_0ed564d06023row12_col0\" class=\"data row12 col0\" >Nuclear magnetic resonance (1930s)</td>\n",
       "                        <td id=\"T_481a5ea3_9e29_11ec_ad8f_0ed564d06023row12_col1\" class=\"data row12 col1\" >Nuclear magnetic resonance spectroscopy (1946), magnetic resonance imaging (1971), functional magnetic resonance imaging (1990s).</td>\n",
       "            </tr>\n",
       "    </tbody></table>"
      ],
      "text/plain": [
       "<pandas.io.formats.style.Styler at 0x7fdf1baffc88>"
      ]
     },
     "execution_count": 15,
     "metadata": {},
     "output_type": "execute_result"
    }
   ],
   "source": [
    "## styling the dataframe using style.set_properties and giving the dataframe a background colour, border, and color\n",
    "\n",
    "research_impacts.style.set_properties(**{'border': '1.3px solid grey',\n",
    "                                'color': 'blue'})"
   ]
  },
  {
   "cell_type": "markdown",
   "metadata": {},
   "source": [
    "---\n",
    "\n",
    "## Check your work above\n",
    "\n",
    "If you didn't get them all correct, take a few minutes to think through those that aren't correct.\n",
    "\n",
    "\n",
    "## Submitting Your Work\n",
    "\n",
    "In order to submit your work, you'll need to use the `git` command line program to **add** your homework file (this file) to your local repository, **commit** your changes to your local repository, and then **push** those changes up to github.com.  From there, I'll be able to **pull** the changes down and do my grading.  I'll provide some feedback, **commit** and **push** my comments back to you.  Next week, I'll show you how to **pull** down my comments.\n",
    "\n",
    "To run through everything one last time and submit your work:\n",
    "1. Use the `Kernel` -> `Restart Kernel and Run All Cells` menu option to run everything from top to bottom and stop here.\n",
    "2. Follow the instruction on the prompt below to either ssave and submit your work, or continue working.\n",
    "\n",
    "If anything fails along the way with this submission part of the process, let me know.  I'll help you troubleshoort."
   ]
  },
  {
   "cell_type": "markdown",
   "metadata": {},
   "source": [
    "---"
   ]
  },
  {
   "cell_type": "code",
   "execution_count": null,
   "metadata": {
    "jupyter": {
     "source_hidden": true
    }
   },
   "outputs": [],
   "source": [
    "a=input('''\n",
    "Are you ready to submit your work?\n",
    "1. Click the Save icon (or do Ctrl-S / Cmd-S)\n",
    "2. Type \"yes\" or \"no\" below\n",
    "3. Press Enter\n",
    "\n",
    "''')\n",
    "\n",
    "if a=='yes':\n",
    "    !git add week07_assignment_2.ipynb\n",
    "    !git commit -a -m \"Submitting the week 7 programming exercises\"\n",
    "    !git push\n",
    "else:\n",
    "    print('''\n",
    "    \n",
    "OK. We can wait.\n",
    "''')"
   ]
  },
  {
   "cell_type": "code",
   "execution_count": null,
   "metadata": {},
   "outputs": [],
   "source": []
  }
 ],
 "metadata": {
  "kernelspec": {
   "display_name": "Python 3",
   "language": "python",
   "name": "python3"
  },
  "language_info": {
   "codemirror_mode": {
    "name": "ipython",
    "version": 3
   },
   "file_extension": ".py",
   "mimetype": "text/x-python",
   "name": "python",
   "nbconvert_exporter": "python",
   "pygments_lexer": "ipython3",
   "version": "3.6.7"
  }
 },
 "nbformat": 4,
 "nbformat_minor": 4
}
