{
 "cells": [
  {
   "cell_type": "code",
   "execution_count": null,
   "metadata": {},
   "outputs": [],
   "source": [
    "import csv\n",
    "\n",
    "with open('data.csv') as f:\n",
    "    reader = csv.reader(f)\n",
    "    for line in reader:\n",
    "        print(line)\n",
    "        break"
   ]
  },
  {
   "cell_type": "code",
   "execution_count": null,
   "metadata": {},
   "outputs": [],
   "source": [
    "import json\n",
    "\n",
    "data = \"\"\"\n",
    "[\"\"], [\"\"], [\"\"]\n",
    "\n",
    "\"\"\"\n",
    "\n",
    "my_lists = json.loads(data)\n",
    "my_lists"
   ]
  },
  {
   "cell_type": "code",
   "execution_count": null,
   "metadata": {},
   "outputs": [],
   "source": [
    "with open(file.json) as f:\n",
    "    obj = json.load(f)\n",
    "    \n",
    "obj"
   ]
  },
  {
   "cell_type": "code",
   "execution_count": null,
   "metadata": {},
   "outputs": [],
   "source": [
    "obj.keys()"
   ]
  },
  {
   "cell_type": "code",
   "execution_count": null,
   "metadata": {},
   "outputs": [],
   "source": [
    "obj.get('identifier')[index]"
   ]
  },
  {
   "cell_type": "code",
   "execution_count": null,
   "metadata": {},
   "outputs": [],
   "source": [
    "for i in patient_allergy['entry']:\n",
    "            for i['resource']['patient'] in patient_allergy['entry']:\n",
    "                unique_patients.append(i['resource']['patient'])\n",
    "                if(i['resource']['substance'] in unique_patients):\n",
    "                    unique_patients.append(i['resource']['substance'])\n",
    "                    \n",
    "            return unique_patients"
   ]
  },
  {
   "cell_type": "code",
   "execution_count": null,
   "metadata": {},
   "outputs": [],
   "source": [
    "values = []\n",
    "        allergy = []\n",
    "        for i in patient_allergy['entry']:\n",
    "            if i['resource']['substance']  in patient_allergy['entry']:\n",
    "                allergy.append(i['resource']['substance'])\n",
    "                values.append(i)\n",
    "        return values"
   ]
  }
 ],
 "metadata": {
  "kernelspec": {
   "display_name": "Python 3",
   "language": "python",
   "name": "python3"
  },
  "language_info": {
   "codemirror_mode": {
    "name": "ipython",
    "version": 3
   },
   "file_extension": ".py",
   "mimetype": "text/x-python",
   "name": "python",
   "nbconvert_exporter": "python",
   "pygments_lexer": "ipython3",
   "version": "3.6.7"
  }
 },
 "nbformat": 4,
 "nbformat_minor": 4
}
