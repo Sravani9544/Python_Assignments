{
 "cells": [
  {
   "cell_type": "code",
   "execution_count": 4,
   "metadata": {},
   "outputs": [
    {
     "name": "stdout",
     "output_type": "stream",
     "text": [
      "['SUMLEV', 'REGION', 'DIVISION', 'STATE', 'NAME', 'POPESTIMATE2018', 'POPEST18PLUS2018', 'PCNT_POPEST18PLUS']\n",
      "['010', '0', '0', '00', 'United States', '327167434', '253768092', '77.6']\n",
      "['040', '3', '6', '01', 'Alabama', '4887871', '3798031', '77.7']\n",
      "['040', '4', '9', '02', 'Alaska', '737438', '553622', '75.1']\n",
      "['040', '4', '8', '04', 'Arizona', '7171646', '5528989', '77.1']\n",
      "['040', '3', '7', '05', 'Arkansas', '3013825', '2310645', '76.7']\n",
      "['040', '4', '9', '06', 'California', '39557045', '30567090', '77.3']\n",
      "['040', '4', '8', '08', 'Colorado', '5695564', '4430329', '77.8']\n",
      "['040', '1', '1', '09', 'Connecticut', '3572665', '2837472', '79.4']\n",
      "['040', '3', '5', '10', 'Delaware', '967171', '763555', '78.9']\n",
      "['040', '3', '5', '11', 'District of Columbia', '702455', '574961', '81.9']\n",
      "['040', '3', '5', '12', 'Florida', '21299325', '17070244', '80.1']\n",
      "['040', '3', '5', '13', 'Georgia', '10519475', '8013724', '76.2']\n",
      "['040', '4', '9', '15', 'Hawaii', '1420491', '1117077', '78.6']\n",
      "['040', '4', '8', '16', 'Idaho', '1754208', '1307236', '74.5']\n",
      "['040', '2', '3', '17', 'Illinois', '12741080', '9883814', '77.6']\n",
      "['040', '2', '3', '18', 'Indiana', '6691878', '5123748', '76.6']\n",
      "['040', '2', '4', '19', 'Iowa', '3156145', '2425378', '76.8']\n",
      "['040', '2', '4', '20', 'Kansas', '2911505', '2205544', '75.8']\n",
      "['040', '3', '6', '21', 'Kentucky', '4468402', '3459573', '77.4']\n",
      "['040', '3', '7', '22', 'Louisiana', '4659978', '3564062', '76.5']\n",
      "['040', '1', '1', '23', 'Maine', '1338404', '1088000', '81.3']\n",
      "['040', '3', '5', '24', 'Maryland', '6042718', '4702570', '77.8']\n",
      "['040', '1', '1', '25', 'Massachusetts', '6902149', '5535291', '80.2']\n",
      "['040', '2', '3', '26', 'Michigan', '9995915', '7831247', '78.3']\n",
      "['040', '2', '4', '27', 'Minnesota', '5611179', '4308564', '76.8']\n",
      "['040', '3', '6', '28', 'Mississippi', '2986530', '2280389', '76.4']\n",
      "['040', '2', '4', '29', 'Missouri', '6126452', '4749622', '77.5']\n",
      "['040', '4', '8', '30', 'Montana', '1062305', '832871', '78.4']\n",
      "['040', '2', '4', '31', 'Nebraska', '1929268', '1452427', '75.3']\n",
      "['040', '4', '8', '32', 'Nevada', '3034392', '2345395', '77.3']\n",
      "['040', '1', '1', '33', 'New Hampshire', '1356458', '1098288', '81']\n",
      "['040', '1', '2', '34', 'New Jersey', '8908520', '6954877', '78.1']\n",
      "['040', '4', '8', '35', 'New Mexico', '2095428', '1613275', '77']\n",
      "['040', '1', '2', '36', 'New York', '19542209', '15474107', '79.2']\n",
      "['040', '3', '5', '37', 'North Carolina', '10383620', '8082975', '77.8']\n",
      "['040', '2', '4', '38', 'North Dakota', '760077', '581379', '76.5']\n",
      "['040', '2', '3', '39', 'Ohio', '11689442', '9096117', '77.8']\n",
      "['040', '3', '7', '40', 'Oklahoma', '3943079', '2986593', '75.7']\n",
      "['040', '4', '9', '41', 'Oregon', '4190713', '3317146', '79.2']\n",
      "['040', '1', '2', '42', 'Pennsylvania', '12807060', '10158149', '79.3']\n",
      "['040', '1', '1', '44', 'Rhode Island', '1057315', '852102', '80.6']\n",
      "['040', '3', '5', '45', 'South Carolina', '5084127', '3978182', '78.2']\n",
      "['040', '2', '4', '46', 'South Dakota', '882235', '664629', '75.3']\n",
      "['040', '3', '6', '47', 'Tennessee', '6770010', '5263790', '77.8']\n",
      "['040', '3', '7', '48', 'Texas', '28701845', '21303746', '74.2']\n",
      "['040', '4', '8', '49', 'Utah', '3161105', '2228643', '70.5']\n",
      "['040', '1', '1', '50', 'Vermont', '626299', '510326', '81.5']\n",
      "['040', '3', '5', '51', 'Virginia', '8517685', '6647893', '78']\n",
      "['040', '4', '9', '53', 'Washington', '7535591', '5872306', '77.9']\n",
      "['040', '3', '5', '54', 'West Virginia', '1805832', '1441672', '79.8']\n",
      "['040', '2', '3', '55', 'Wisconsin', '5813568', '4537465', '78']\n",
      "['040', '4', '8', '56', 'Wyoming', '577737', '442962', '76.7']\n",
      "['040', 'X', 'X', '72', 'Puerto Rico Commonwealth', '3195153', '2601142', '81.4']\n"
     ]
    }
   ],
   "source": [
    "import csv\n",
    "\n",
    "with open('/data/est2018-pop-res.csv') as f:\n",
    "    reader = csv.reader(f, delimiter=',')\n",
    "    for line in reader:\n",
    "        print(line)\n",
    "        "
   ]
  },
  {
   "cell_type": "code",
   "execution_count": 7,
   "metadata": {},
   "outputs": [],
   "source": [
    "import json\n",
    "\n",
    "data = \"\"\"\n",
    "[\n",
    "    [\"010\", \"0\", \"0\", \"00\", \"United States\", \"327167434\"],\n",
    "    [\"040\", \"4\", \"9\", \"02\"]\n",
    "]\n",
    "\"\"\"\n",
    "\n",
    "my_lists = json.loads(data)"
   ]
  },
  {
   "cell_type": "code",
   "execution_count": 8,
   "metadata": {},
   "outputs": [
    {
     "data": {
      "text/plain": [
       "[['010', '0', '0', '00', 'United States', '327167434'],\n",
       " ['040', '4', '9', '02']]"
      ]
     },
     "execution_count": 8,
     "metadata": {},
     "output_type": "execute_result"
    }
   ],
   "source": [
    "my_lists"
   ]
  },
  {
   "cell_type": "code",
   "execution_count": 9,
   "metadata": {},
   "outputs": [],
   "source": [
    "with open('/data/patient.json') as f:\n",
    "    obj = json.load(f)"
   ]
  },
  {
   "cell_type": "code",
   "execution_count": 11,
   "metadata": {},
   "outputs": [
    {
     "data": {
      "text/plain": [
       "dict_keys(['resourceType', 'id', 'identifier', 'active', 'name', 'telecom', 'gender', 'birthDate', '_birthDate', 'deceasedBoolean', 'address', 'contact', 'managingOrganization'])"
      ]
     },
     "execution_count": 11,
     "metadata": {},
     "output_type": "execute_result"
    }
   ],
   "source": [
    "obj.keys()"
   ]
  },
  {
   "cell_type": "code",
   "execution_count": 13,
   "metadata": {},
   "outputs": [
    {
     "data": {
      "text/plain": [
       "{'use': 'official', 'family': 'Chalmers', 'given': ['Peter', 'James']}"
      ]
     },
     "execution_count": 13,
     "metadata": {},
     "output_type": "execute_result"
    }
   ],
   "source": [
    "obj.get('name')[0]"
   ]
  },
  {
   "cell_type": "code",
   "execution_count": 14,
   "metadata": {},
   "outputs": [
    {
     "data": {
      "text/plain": [
       "{'use': 'official', 'family': 'Chalmers', 'given': ['Peter', 'James']}"
      ]
     },
     "execution_count": 14,
     "metadata": {},
     "output_type": "execute_result"
    }
   ],
   "source": [
    "obj['name'][0]"
   ]
  },
  {
   "cell_type": "code",
   "execution_count": 16,
   "metadata": {},
   "outputs": [
    {
     "name": "stdout",
     "output_type": "stream",
     "text": [
      "{'use': 'official', 'family': 'Chalmers', 'given': ['Peter', 'James']}\n"
     ]
    }
   ],
   "source": [
    "for name in obj['name']:\n",
    "    if name['use'] == 'official':\n",
    "        print(name)"
   ]
  },
  {
   "cell_type": "code",
   "execution_count": null,
   "metadata": {},
   "outputs": [],
   "source": []
  },
  {
   "cell_type": "code",
   "execution_count": 17,
   "metadata": {},
   "outputs": [],
   "source": [
    "data = '''[\n",
    "    {\n",
    "        \"System\": \"BJC\",\n",
    "        \"Hospitals\": [\n",
    "            {\n",
    "                \"Beds\": 1432,\n",
    "                \"Hospital\": \"BJH\",\n",
    "                \"City\": \"St. Louis\"\n",
    "            },\n",
    "            {\n",
    "                \"Beds\": 1107,\n",
    "                \"Hospital\": \"MOBap\",\n",
    "                \"City\": \"Creve Coeur\"\n",
    "            }\n",
    "        ]\n",
    "    },\n",
    "    {\n",
    "        \"System\": \"SSM\",\n",
    "        \"Hospitals\": [\n",
    "            {\n",
    "                \"Beds\": 965,\n",
    "                \"Hospital\": \"SLUH\",\n",
    "                \"City\": \"St. Louis\"\n",
    "            }\n",
    "        ]\n",
    "    },\n",
    "    {\n",
    "        \"System\": \"Mercy\",\n",
    "        \"Hospitals\": [\n",
    "            {\n",
    "                \"Beds\": 983,\n",
    "                \"Hospital\": \"Mercy STL\",\n",
    "                \"City\": \"Creve Coeur\"\n",
    "            }\n",
    "        ]\n",
    "    }\n",
    "]\n",
    "'''\n"
   ]
  },
  {
   "cell_type": "code",
   "execution_count": 21,
   "metadata": {},
   "outputs": [],
   "source": [
    "import json\n",
    "\n",
    "# output will be the total beds for each city\n",
    "output = {}\n",
    "\n",
    "systems = json.loads(data)\n",
    "\n",
    "for sys in systems:\n",
    "  name = sys['System']\n",
    "  for hosp in sys['Hospitals']:\n",
    "    city = hosp['City']\n",
    "    output.setdefault(city, {  \"Beds\": 0 })\n",
    "    output[city]['Beds'] += hosp['Beds']\n"
   ]
  },
  {
   "cell_type": "code",
   "execution_count": 22,
   "metadata": {},
   "outputs": [
    {
     "data": {
      "text/plain": [
       "{'St. Louis': {'Beds': 2397}, 'Creve Coeur': {'Beds': 2090}}"
      ]
     },
     "execution_count": 22,
     "metadata": {},
     "output_type": "execute_result"
    }
   ],
   "source": [
    "output"
   ]
  },
  {
   "cell_type": "code",
   "execution_count": null,
   "metadata": {},
   "outputs": [],
   "source": []
  }
 ],
 "metadata": {
  "kernelspec": {
   "display_name": "Python 3",
   "language": "python",
   "name": "python3"
  },
  "language_info": {
   "codemirror_mode": {
    "name": "ipython",
    "version": 3
   },
   "file_extension": ".py",
   "mimetype": "text/x-python",
   "name": "python",
   "nbconvert_exporter": "python",
   "pygments_lexer": "ipython3",
   "version": "3.6.7"
  }
 },
 "nbformat": 4,
 "nbformat_minor": 4
}
