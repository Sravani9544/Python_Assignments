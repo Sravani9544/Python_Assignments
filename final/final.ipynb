{
 "cells": [
  {
   "cell_type": "markdown",
   "metadata": {},
   "source": [
    "# FINAL PROJECT"
   ]
  },
  {
   "cell_type": "markdown",
   "metadata": {},
   "source": [
    "## BACKGROUND\n",
    "\n",
    "##### This project has seven parts, which performs the following actions:\n",
    "##### 1. Analyses the risks for sample of patients along with data visualization. \n",
    "##### 2. Calculates the risk using a Dummy score for the patients and to run it on a sample dataset.\n",
    "##### 3. Calculates the stage of cancer.\n",
    "##### 4. Suggests the Drugs.\n",
    "##### 5. Suggests the chemotherapy requirements.\n",
    "##### 6. Suggests the drugs for residual cancer after chemotherapy.\n",
    "##### 7. Runs the calculator on the population."
   ]
  },
  {
   "cell_type": "markdown",
   "metadata": {},
   "source": [
    "### Importing the Modules"
   ]
  },
  {
   "cell_type": "code",
   "execution_count": 1,
   "metadata": {},
   "outputs": [],
   "source": [
    "import pandas as pd\n",
    "import os\n",
    "import numpy as np\n",
    "import requests\n",
    "from bs4 import BeautifulSoup\n",
    "import json\n",
    "import ast\n",
    "import pandasql as ps\n",
    "import seaborn as sns\n",
    "import matplotlib.pyplot as plt\n",
    "from matplotlib.gridspec import GridSpec"
   ]
  },
  {
   "cell_type": "markdown",
   "metadata": {},
   "source": [
    "## PART 1\n",
    "\n",
    "\n",
    "#### In this section the 2019 data of recovered, under_treatment, died patients existing in three excel files are analysed and visulaized.The features of this data are described as bellow:\n",
    "\n",
    "##### 1) patient_id: the id of the patient,\n",
    "##### 2) gender: the gender of the patient which “Female” is 0 and “Male” is 1\n",
    "##### 3) education: the education levels of the patient which Illiterate=0, Elementary= 1, Middle School =2 , High School =3 , Diploma = 4, Associate =5 , Bachelor =6 ,                       Master = 7\n",
    "##### 4) treatment_date : the date(year) which the patient would receive the treatment\n",
    "##### 5) id_healthcenter : is the id for the healthcare center\n",
    "##### 6) idtreatmentregion: the region which the patient would receive the treatment\n",
    "##### 7) hereditary_history: the patient has the hereditary history of disease which 1 means “Yes” and 0 means “No”\n",
    "##### 8) birth_date: birth date (year) of the patient\n",
    "##### 9) age: the age of the patient\n",
    "##### 10) weight: the weight of the patient\n",
    "##### 11) thickness_tumor: the thickness of the tumor detected in the patient body\n",
    "##### 12) marital_status: the marital status of the patient includes : 1 means married and 0 means single\n",
    "##### 13) marital_length: the age of the martial status includes 0 means under 10 years, 1 means above 10 years\n",
    "##### 14) pregnency_experience: the patient has the pregnancy experience which 0 means has not experience and 1 means has experience\n",
    "##### 15) giving_birth: the patient has experienced giving the birth. Each number means the number of giving birth\n",
    "##### 16) age_FirstGivingBirth : in which age the patient has the first experience of giving a birth, which before age 30 equals 0 and after age 30 equals 1\n",
    "##### 17) abortion: the patient has experience of abortion which 0 means has not and 1 means has\n",
    "##### 18) blood: the types of bloods A+ =0, A- = 1, AB+ = 2, AB- = 3, B+ = 4, B- = 5, O+ = 6, O- = 7\n",
    "##### 19) taking_heartMedicine: it says if the patient takes the heart medicine or not which 0 means does not and 1 means does\n",
    "##### 20) takingbloodpressure_medicine: it says if the patient takes the blood pressure or not which 0 means does not and 1 means does\n",
    "##### 21) takinggallbladderdisease_medicine: it says the patient takes the gallbladder medicine or not which 0 means does not and 1 means does\n",
    "##### 22) smoking: it says if the patient smokes or not which 0 means does not and 1 means does\n",
    "##### 23) alcohol: it says if the patient drinks alcohol or not which 0 means does not and 1 means does\n",
    "##### 24) breast_pain: if the patient has pain in breast part which 0 means has not and 1 means has\n",
    "##### 25) radiation_history: if the patient has experience with radiation in breast area which 0 means has not and 1 means has\n",
    "##### 26) Birth_control(Contraception): the patient takes actions for birth control which 0 means does not and 1 means does\n",
    "##### 27) menstrual_age: at which age the patient starts natural menstrual which 0 means the patient does not start menstrual, 1 means under age 12, and 2 means above age           12\n",
    "##### 28) menopausal_age: at which age the patient starts natural menopausal which 0 means does not starts, 1 means at under age 50, and 2 means above age 50\n",
    "##### 29) condition: the condition of the patient which categorized into different categories such as under treatment, recovered, death\n",
    "##### 30) Benignmalignanttumor: is the target of our datasets, the type of tumor which Benign is 0 and malignant is 1\n",
    "\n",
    "##### This data is taken from kaggle and the link to the dataset is: \n",
    "##### https://www.kaggle.com/datasets/homayoonkhadivi/breast-cancer-datasets?select=under+treatment.xlsx\n"
   ]
  },
  {
   "cell_type": "markdown",
   "metadata": {},
   "source": [
    "### a) Data Cleaning and Data Transformations\n",
    "##### In this subsection, Data cleaning and transformations are done for future usage in this project"
   ]
  },
  {
   "cell_type": "code",
   "execution_count": 2,
   "metadata": {},
   "outputs": [],
   "source": [
    "## Reading the three excel files\n",
    "\n",
    "death = pd.read_excel('death.xlsx')\n",
    "under_treatment = pd.read_excel('under treatment.xlsx')\n",
    "recovered =  pd.read_excel('recovered.xlsx')"
   ]
  },
  {
   "cell_type": "code",
   "execution_count": 3,
   "metadata": {},
   "outputs": [],
   "source": [
    "## listing the datafiles into a variable\n",
    "\n",
    "cancer_risk = [death, under_treatment, recovered]\n",
    "\n",
    "## concatenating the files as data frames with the year names as key\n",
    "\n",
    "breast_cancer_risks = pd.concat(cancer_risk, keys=['death', 'under_treatment','recovered'])\n",
    "\n",
    "## resetting the index\n",
    "\n",
    "breast_cancer_assessment = breast_cancer_risks.reset_index()\n",
    "\n",
    "## deleting the index level\n",
    "\n",
    "breast_cancer_assessment.pop(\"level_1\")\n",
    "\n",
    "## renaming the column names for convinience\n",
    "\n",
    "breast_cancer_assessment.rename(columns = {'level_0':'file'}, inplace = True)\n",
    "breast_cancer_assessment.rename(columns = {'age_FirstGivingBirth  ':'age_pregnancy'}, inplace = True)"
   ]
  },
  {
   "cell_type": "code",
   "execution_count": 4,
   "metadata": {},
   "outputs": [
    {
     "data": {
      "text/html": [
       "<div>\n",
       "<style scoped>\n",
       "    .dataframe tbody tr th:only-of-type {\n",
       "        vertical-align: middle;\n",
       "    }\n",
       "\n",
       "    .dataframe tbody tr th {\n",
       "        vertical-align: top;\n",
       "    }\n",
       "\n",
       "    .dataframe thead th {\n",
       "        text-align: right;\n",
       "    }\n",
       "</style>\n",
       "<table border=\"1\" class=\"dataframe\">\n",
       "  <thead>\n",
       "    <tr style=\"text-align: right;\">\n",
       "      <th></th>\n",
       "      <th>file</th>\n",
       "      <th>patient_id</th>\n",
       "      <th>gender</th>\n",
       "      <th>education</th>\n",
       "      <th>treatment_data</th>\n",
       "      <th>id_healthcenter</th>\n",
       "      <th>id_treatment_region</th>\n",
       "      <th>hereditary_history</th>\n",
       "      <th>birth_date</th>\n",
       "      <th>age</th>\n",
       "      <th>...</th>\n",
       "      <th>taking_gallbladder_disease_medicine</th>\n",
       "      <th>smoking</th>\n",
       "      <th>alcohol</th>\n",
       "      <th>breast_pain</th>\n",
       "      <th>radiation_history</th>\n",
       "      <th>Birth_control(Contraception)</th>\n",
       "      <th>\\nmenstrual_age</th>\n",
       "      <th>\\nmenopausal_age</th>\n",
       "      <th>\\nBenign_malignant_cancer</th>\n",
       "      <th>condition</th>\n",
       "    </tr>\n",
       "  </thead>\n",
       "  <tbody>\n",
       "    <tr>\n",
       "      <th>0</th>\n",
       "      <td>death</td>\n",
       "      <td>111036008041</td>\n",
       "      <td>0</td>\n",
       "      <td>4</td>\n",
       "      <td>2019</td>\n",
       "      <td>1110000256</td>\n",
       "      <td>1110000329</td>\n",
       "      <td>1</td>\n",
       "      <td>1989</td>\n",
       "      <td>30</td>\n",
       "      <td>...</td>\n",
       "      <td>1</td>\n",
       "      <td>0</td>\n",
       "      <td>0</td>\n",
       "      <td>1</td>\n",
       "      <td>1</td>\n",
       "      <td>1</td>\n",
       "      <td>1</td>\n",
       "      <td>0.0</td>\n",
       "      <td>1</td>\n",
       "      <td>death</td>\n",
       "    </tr>\n",
       "    <tr>\n",
       "      <th>1</th>\n",
       "      <td>death</td>\n",
       "      <td>111035996130</td>\n",
       "      <td>0</td>\n",
       "      <td>6</td>\n",
       "      <td>2019</td>\n",
       "      <td>1110000316</td>\n",
       "      <td>1110000331</td>\n",
       "      <td>0</td>\n",
       "      <td>1989</td>\n",
       "      <td>30</td>\n",
       "      <td>...</td>\n",
       "      <td>1</td>\n",
       "      <td>0</td>\n",
       "      <td>1</td>\n",
       "      <td>0</td>\n",
       "      <td>0</td>\n",
       "      <td>0</td>\n",
       "      <td>2</td>\n",
       "      <td>0.0</td>\n",
       "      <td>0</td>\n",
       "      <td>death</td>\n",
       "    </tr>\n",
       "    <tr>\n",
       "      <th>2</th>\n",
       "      <td>death</td>\n",
       "      <td>111035971333</td>\n",
       "      <td>0</td>\n",
       "      <td>5</td>\n",
       "      <td>2019</td>\n",
       "      <td>1110000288</td>\n",
       "      <td>1110000330</td>\n",
       "      <td>0</td>\n",
       "      <td>1989</td>\n",
       "      <td>30</td>\n",
       "      <td>...</td>\n",
       "      <td>0</td>\n",
       "      <td>0</td>\n",
       "      <td>0</td>\n",
       "      <td>1</td>\n",
       "      <td>1</td>\n",
       "      <td>0</td>\n",
       "      <td>1</td>\n",
       "      <td>0.0</td>\n",
       "      <td>1</td>\n",
       "      <td>death</td>\n",
       "    </tr>\n",
       "    <tr>\n",
       "      <th>3</th>\n",
       "      <td>death</td>\n",
       "      <td>111036018485</td>\n",
       "      <td>0</td>\n",
       "      <td>5</td>\n",
       "      <td>2019</td>\n",
       "      <td>1110000042</td>\n",
       "      <td>1110000329</td>\n",
       "      <td>1</td>\n",
       "      <td>1989</td>\n",
       "      <td>30</td>\n",
       "      <td>...</td>\n",
       "      <td>1</td>\n",
       "      <td>1</td>\n",
       "      <td>0</td>\n",
       "      <td>0</td>\n",
       "      <td>0</td>\n",
       "      <td>0</td>\n",
       "      <td>2</td>\n",
       "      <td>0.0</td>\n",
       "      <td>0</td>\n",
       "      <td>death</td>\n",
       "    </tr>\n",
       "    <tr>\n",
       "      <th>4</th>\n",
       "      <td>death</td>\n",
       "      <td>111035985474</td>\n",
       "      <td>0</td>\n",
       "      <td>1</td>\n",
       "      <td>2019</td>\n",
       "      <td>1110000116</td>\n",
       "      <td>1110000330</td>\n",
       "      <td>0</td>\n",
       "      <td>2009</td>\n",
       "      <td>10</td>\n",
       "      <td>...</td>\n",
       "      <td>0</td>\n",
       "      <td>0</td>\n",
       "      <td>0</td>\n",
       "      <td>0</td>\n",
       "      <td>0</td>\n",
       "      <td>0</td>\n",
       "      <td>0</td>\n",
       "      <td>0.0</td>\n",
       "      <td>0</td>\n",
       "      <td>death</td>\n",
       "    </tr>\n",
       "  </tbody>\n",
       "</table>\n",
       "<p>5 rows × 31 columns</p>\n",
       "</div>"
      ],
      "text/plain": [
       "    file    patient_id  gender   education  treatment_data  id_healthcenter  \\\n",
       "0  death  111036008041        0          4            2019       1110000256   \n",
       "1  death  111035996130        0          6            2019       1110000316   \n",
       "2  death  111035971333        0          5            2019       1110000288   \n",
       "3  death  111036018485        0          5            2019       1110000042   \n",
       "4  death  111035985474        0          1            2019       1110000116   \n",
       "\n",
       "   id_treatment_region  hereditary_history birth_date  age  ...  \\\n",
       "0           1110000329                   1       1989   30  ...   \n",
       "1           1110000331                   0       1989   30  ...   \n",
       "2           1110000330                   0       1989   30  ...   \n",
       "3           1110000329                   1       1989   30  ...   \n",
       "4           1110000330                   0       2009   10  ...   \n",
       "\n",
       "   taking_gallbladder_disease_medicine  smoking  alcohol breast_pain  \\\n",
       "0                                    1        0        0           1   \n",
       "1                                    1        0        1           0   \n",
       "2                                    0        0        0           1   \n",
       "3                                    1        1        0           0   \n",
       "4                                    0        0        0           0   \n",
       "\n",
       "  radiation_history Birth_control(Contraception) \\nmenstrual_age  \\\n",
       "0                 1                            1               1   \n",
       "1                 0                            0               2   \n",
       "2                 1                            0               1   \n",
       "3                 0                            0               2   \n",
       "4                 0                            0               0   \n",
       "\n",
       "  \\nmenopausal_age  \\nBenign_malignant_cancer  condition  \n",
       "0              0.0                          1      death  \n",
       "1              0.0                          0      death  \n",
       "2              0.0                          1      death  \n",
       "3              0.0                          0      death  \n",
       "4              0.0                          0      death  \n",
       "\n",
       "[5 rows x 31 columns]"
      ]
     },
     "execution_count": 4,
     "metadata": {},
     "output_type": "execute_result"
    }
   ],
   "source": [
    "breast_cancer_assessment.head()"
   ]
  },
  {
   "cell_type": "code",
   "execution_count": 5,
   "metadata": {},
   "outputs": [
    {
     "data": {
      "text/plain": [
       "Index(['file', 'patient_id', 'gender ', 'education', 'treatment_data',\n",
       "       'id_healthcenter', 'id_treatment_region', 'hereditary_history',\n",
       "       'birth_date', 'age', 'weight', 'thickness_tumor', 'marital_status',\n",
       "       'marital_length', 'pregnency_experience', 'giving_birth',\n",
       "       'age_pregnancy', '\\nabortion', 'blood', 'taking_heartMedicine',\n",
       "       'taking_blood_pressure_medicine', 'taking_gallbladder_disease_medicine',\n",
       "       'smoking', 'alcohol', 'breast_pain', 'radiation_history',\n",
       "       'Birth_control(Contraception)', '\\nmenstrual_age', '\\nmenopausal_age',\n",
       "       '\\nBenign_malignant_cancer', 'condition'],\n",
       "      dtype='object')"
      ]
     },
     "execution_count": 5,
     "metadata": {},
     "output_type": "execute_result"
    }
   ],
   "source": [
    "breast_cancer_assessment.columns"
   ]
  },
  {
   "cell_type": "code",
   "execution_count": 6,
   "metadata": {},
   "outputs": [],
   "source": [
    "## filtering the data where age_pregnancy is 2 as it has no value\n",
    "\n",
    "breast_cancer_assessment = breast_cancer_assessment[breast_cancer_assessment.age_pregnancy != 2]"
   ]
  },
  {
   "cell_type": "code",
   "execution_count": 7,
   "metadata": {},
   "outputs": [],
   "source": [
    "## dropping the NA values from the data set\n",
    "\n",
    "cancer = breast_cancer_assessment.dropna( axis=0, how='any')"
   ]
  },
  {
   "cell_type": "code",
   "execution_count": 8,
   "metadata": {},
   "outputs": [
    {
     "data": {
      "text/html": [
       "<div>\n",
       "<style scoped>\n",
       "    .dataframe tbody tr th:only-of-type {\n",
       "        vertical-align: middle;\n",
       "    }\n",
       "\n",
       "    .dataframe tbody tr th {\n",
       "        vertical-align: top;\n",
       "    }\n",
       "\n",
       "    .dataframe thead th {\n",
       "        text-align: right;\n",
       "    }\n",
       "</style>\n",
       "<table border=\"1\" class=\"dataframe\">\n",
       "  <thead>\n",
       "    <tr style=\"text-align: right;\">\n",
       "      <th></th>\n",
       "      <th>file</th>\n",
       "      <th>patient_id</th>\n",
       "      <th>gender</th>\n",
       "      <th>education</th>\n",
       "      <th>treatment_data</th>\n",
       "      <th>id_healthcenter</th>\n",
       "      <th>id_treatment_region</th>\n",
       "      <th>hereditary_history</th>\n",
       "      <th>birth_date</th>\n",
       "      <th>age</th>\n",
       "      <th>...</th>\n",
       "      <th>taking_gallbladder_disease_medicine</th>\n",
       "      <th>smoking</th>\n",
       "      <th>alcohol</th>\n",
       "      <th>breast_pain</th>\n",
       "      <th>radiation_history</th>\n",
       "      <th>Birth_control(Contraception)</th>\n",
       "      <th>\\nmenstrual_age</th>\n",
       "      <th>\\nmenopausal_age</th>\n",
       "      <th>\\nBenign_malignant_cancer</th>\n",
       "      <th>condition</th>\n",
       "    </tr>\n",
       "  </thead>\n",
       "  <tbody>\n",
       "    <tr>\n",
       "      <th>0</th>\n",
       "      <td>death</td>\n",
       "      <td>111036008041</td>\n",
       "      <td>0</td>\n",
       "      <td>4</td>\n",
       "      <td>2019</td>\n",
       "      <td>1110000256</td>\n",
       "      <td>1110000329</td>\n",
       "      <td>1</td>\n",
       "      <td>1989</td>\n",
       "      <td>30</td>\n",
       "      <td>...</td>\n",
       "      <td>1</td>\n",
       "      <td>0</td>\n",
       "      <td>0</td>\n",
       "      <td>1</td>\n",
       "      <td>1</td>\n",
       "      <td>1</td>\n",
       "      <td>1</td>\n",
       "      <td>0.0</td>\n",
       "      <td>1</td>\n",
       "      <td>death</td>\n",
       "    </tr>\n",
       "    <tr>\n",
       "      <th>1</th>\n",
       "      <td>death</td>\n",
       "      <td>111035996130</td>\n",
       "      <td>0</td>\n",
       "      <td>6</td>\n",
       "      <td>2019</td>\n",
       "      <td>1110000316</td>\n",
       "      <td>1110000331</td>\n",
       "      <td>0</td>\n",
       "      <td>1989</td>\n",
       "      <td>30</td>\n",
       "      <td>...</td>\n",
       "      <td>1</td>\n",
       "      <td>0</td>\n",
       "      <td>1</td>\n",
       "      <td>0</td>\n",
       "      <td>0</td>\n",
       "      <td>0</td>\n",
       "      <td>2</td>\n",
       "      <td>0.0</td>\n",
       "      <td>0</td>\n",
       "      <td>death</td>\n",
       "    </tr>\n",
       "    <tr>\n",
       "      <th>2</th>\n",
       "      <td>death</td>\n",
       "      <td>111035971333</td>\n",
       "      <td>0</td>\n",
       "      <td>5</td>\n",
       "      <td>2019</td>\n",
       "      <td>1110000288</td>\n",
       "      <td>1110000330</td>\n",
       "      <td>0</td>\n",
       "      <td>1989</td>\n",
       "      <td>30</td>\n",
       "      <td>...</td>\n",
       "      <td>0</td>\n",
       "      <td>0</td>\n",
       "      <td>0</td>\n",
       "      <td>1</td>\n",
       "      <td>1</td>\n",
       "      <td>0</td>\n",
       "      <td>1</td>\n",
       "      <td>0.0</td>\n",
       "      <td>1</td>\n",
       "      <td>death</td>\n",
       "    </tr>\n",
       "    <tr>\n",
       "      <th>3</th>\n",
       "      <td>death</td>\n",
       "      <td>111036018485</td>\n",
       "      <td>0</td>\n",
       "      <td>5</td>\n",
       "      <td>2019</td>\n",
       "      <td>1110000042</td>\n",
       "      <td>1110000329</td>\n",
       "      <td>1</td>\n",
       "      <td>1989</td>\n",
       "      <td>30</td>\n",
       "      <td>...</td>\n",
       "      <td>1</td>\n",
       "      <td>1</td>\n",
       "      <td>0</td>\n",
       "      <td>0</td>\n",
       "      <td>0</td>\n",
       "      <td>0</td>\n",
       "      <td>2</td>\n",
       "      <td>0.0</td>\n",
       "      <td>0</td>\n",
       "      <td>death</td>\n",
       "    </tr>\n",
       "    <tr>\n",
       "      <th>4</th>\n",
       "      <td>death</td>\n",
       "      <td>111035985474</td>\n",
       "      <td>0</td>\n",
       "      <td>1</td>\n",
       "      <td>2019</td>\n",
       "      <td>1110000116</td>\n",
       "      <td>1110000330</td>\n",
       "      <td>0</td>\n",
       "      <td>2009</td>\n",
       "      <td>10</td>\n",
       "      <td>...</td>\n",
       "      <td>0</td>\n",
       "      <td>0</td>\n",
       "      <td>0</td>\n",
       "      <td>0</td>\n",
       "      <td>0</td>\n",
       "      <td>0</td>\n",
       "      <td>0</td>\n",
       "      <td>0.0</td>\n",
       "      <td>0</td>\n",
       "      <td>death</td>\n",
       "    </tr>\n",
       "  </tbody>\n",
       "</table>\n",
       "<p>5 rows × 31 columns</p>\n",
       "</div>"
      ],
      "text/plain": [
       "    file    patient_id  gender   education  treatment_data  id_healthcenter  \\\n",
       "0  death  111036008041        0          4            2019       1110000256   \n",
       "1  death  111035996130        0          6            2019       1110000316   \n",
       "2  death  111035971333        0          5            2019       1110000288   \n",
       "3  death  111036018485        0          5            2019       1110000042   \n",
       "4  death  111035985474        0          1            2019       1110000116   \n",
       "\n",
       "   id_treatment_region  hereditary_history birth_date  age  ...  \\\n",
       "0           1110000329                   1       1989   30  ...   \n",
       "1           1110000331                   0       1989   30  ...   \n",
       "2           1110000330                   0       1989   30  ...   \n",
       "3           1110000329                   1       1989   30  ...   \n",
       "4           1110000330                   0       2009   10  ...   \n",
       "\n",
       "   taking_gallbladder_disease_medicine  smoking  alcohol breast_pain  \\\n",
       "0                                    1        0        0           1   \n",
       "1                                    1        0        1           0   \n",
       "2                                    0        0        0           1   \n",
       "3                                    1        1        0           0   \n",
       "4                                    0        0        0           0   \n",
       "\n",
       "  radiation_history Birth_control(Contraception) \\nmenstrual_age  \\\n",
       "0                 1                            1               1   \n",
       "1                 0                            0               2   \n",
       "2                 1                            0               1   \n",
       "3                 0                            0               2   \n",
       "4                 0                            0               0   \n",
       "\n",
       "  \\nmenopausal_age  \\nBenign_malignant_cancer  condition  \n",
       "0              0.0                          1      death  \n",
       "1              0.0                          0      death  \n",
       "2              0.0                          1      death  \n",
       "3              0.0                          0      death  \n",
       "4              0.0                          0      death  \n",
       "\n",
       "[5 rows x 31 columns]"
      ]
     },
     "execution_count": 8,
     "metadata": {},
     "output_type": "execute_result"
    }
   ],
   "source": [
    "cancer.head()"
   ]
  },
  {
   "cell_type": "code",
   "execution_count": 9,
   "metadata": {},
   "outputs": [
    {
     "name": "stderr",
     "output_type": "stream",
     "text": [
      "/opt/tljh/user/lib/python3.6/site-packages/ipykernel_launcher.py:8: SettingWithCopyWarning: \n",
      "A value is trying to be set on a copy of a slice from a DataFrame.\n",
      "Try using .loc[row_indexer,col_indexer] = value instead\n",
      "\n",
      "See the caveats in the documentation: https://pandas.pydata.org/pandas-docs/stable/user_guide/indexing.html#returning-a-view-versus-a-copy\n",
      "  \n"
     ]
    }
   ],
   "source": [
    "## converting the date of birth to date format from string\n",
    "\n",
    "date = cancer['birth_date'].astype(str)\n",
    "pd.to_datetime(cancer['birth_date'], format='%Y', exact=False)\n",
    "\n",
    "## extracting only the year from the column and re-assigning\n",
    "\n",
    "cancer['birth_date'] = pd.DatetimeIndex(cancer['birth_date']).year"
   ]
  },
  {
   "cell_type": "code",
   "execution_count": 10,
   "metadata": {},
   "outputs": [
    {
     "data": {
      "text/plain": [
       "0    1989\n",
       "1    1989\n",
       "2    1989\n",
       "3    1989\n",
       "4    2009\n",
       "Name: birth_date, dtype: int64"
      ]
     },
     "execution_count": 10,
     "metadata": {},
     "output_type": "execute_result"
    }
   ],
   "source": [
    "cancer['birth_date'].head()"
   ]
  },
  {
   "cell_type": "code",
   "execution_count": 11,
   "metadata": {},
   "outputs": [],
   "source": [
    "## dropping NA values, if any from the new data set\n",
    "\n",
    "cancer = cancer.dropna()"
   ]
  },
  {
   "cell_type": "code",
   "execution_count": 12,
   "metadata": {},
   "outputs": [],
   "source": [
    "## replacing the missing values with None type to convert those to integers later\n",
    "\n",
    "cancer['marital_length'] =cancer['marital_length'].replace('-',None , regex=True)\n",
    "cancer['pregnency_experience'] =cancer['pregnency_experience'].replace('-',None , regex=True)\n",
    "cancer['age_pregnancy'] =cancer['age_pregnancy'].replace('-',None , regex=True)\n",
    "cancer['\\nabortion'] =cancer['\\nabortion'].replace('-',None , regex=True)\n",
    "cancer['giving_birth'] =cancer['giving_birth'].replace('-',None , regex=True)"
   ]
  },
  {
   "cell_type": "code",
   "execution_count": 13,
   "metadata": {},
   "outputs": [
    {
     "data": {
      "text/html": [
       "<div>\n",
       "<style scoped>\n",
       "    .dataframe tbody tr th:only-of-type {\n",
       "        vertical-align: middle;\n",
       "    }\n",
       "\n",
       "    .dataframe tbody tr th {\n",
       "        vertical-align: top;\n",
       "    }\n",
       "\n",
       "    .dataframe thead th {\n",
       "        text-align: right;\n",
       "    }\n",
       "</style>\n",
       "<table border=\"1\" class=\"dataframe\">\n",
       "  <thead>\n",
       "    <tr style=\"text-align: right;\">\n",
       "      <th></th>\n",
       "      <th>marital_length</th>\n",
       "      <th>pregnency_experience</th>\n",
       "      <th>age_pregnancy</th>\n",
       "      <th>\\nabortion</th>\n",
       "      <th>giving_birth</th>\n",
       "    </tr>\n",
       "  </thead>\n",
       "  <tbody>\n",
       "    <tr>\n",
       "      <th>0</th>\n",
       "      <td>0</td>\n",
       "      <td>0</td>\n",
       "      <td>0</td>\n",
       "      <td>0</td>\n",
       "      <td>0</td>\n",
       "    </tr>\n",
       "    <tr>\n",
       "      <th>1</th>\n",
       "      <td>0</td>\n",
       "      <td>0</td>\n",
       "      <td>0</td>\n",
       "      <td>0</td>\n",
       "      <td>0</td>\n",
       "    </tr>\n",
       "    <tr>\n",
       "      <th>2</th>\n",
       "      <td>0</td>\n",
       "      <td>0</td>\n",
       "      <td>0</td>\n",
       "      <td>1</td>\n",
       "      <td>0</td>\n",
       "    </tr>\n",
       "    <tr>\n",
       "      <th>3</th>\n",
       "      <td>1</td>\n",
       "      <td>1</td>\n",
       "      <td>1</td>\n",
       "      <td>0</td>\n",
       "      <td>3</td>\n",
       "    </tr>\n",
       "    <tr>\n",
       "      <th>4</th>\n",
       "      <td>0</td>\n",
       "      <td>0</td>\n",
       "      <td>0</td>\n",
       "      <td>0</td>\n",
       "      <td>0</td>\n",
       "    </tr>\n",
       "    <tr>\n",
       "      <th>...</th>\n",
       "      <td>...</td>\n",
       "      <td>...</td>\n",
       "      <td>...</td>\n",
       "      <td>...</td>\n",
       "      <td>...</td>\n",
       "    </tr>\n",
       "    <tr>\n",
       "      <th>1129</th>\n",
       "      <td>1</td>\n",
       "      <td>0</td>\n",
       "      <td>0</td>\n",
       "      <td>0</td>\n",
       "      <td>0</td>\n",
       "    </tr>\n",
       "    <tr>\n",
       "      <th>1130</th>\n",
       "      <td>0</td>\n",
       "      <td>0</td>\n",
       "      <td>0</td>\n",
       "      <td>0</td>\n",
       "      <td>0</td>\n",
       "    </tr>\n",
       "    <tr>\n",
       "      <th>1131</th>\n",
       "      <td>0</td>\n",
       "      <td>0</td>\n",
       "      <td>0</td>\n",
       "      <td>0</td>\n",
       "      <td>0</td>\n",
       "    </tr>\n",
       "    <tr>\n",
       "      <th>1132</th>\n",
       "      <td>0</td>\n",
       "      <td>0</td>\n",
       "      <td>0</td>\n",
       "      <td>0</td>\n",
       "      <td>0</td>\n",
       "    </tr>\n",
       "    <tr>\n",
       "      <th>1133</th>\n",
       "      <td>0</td>\n",
       "      <td>0</td>\n",
       "      <td>0</td>\n",
       "      <td>0</td>\n",
       "      <td>0</td>\n",
       "    </tr>\n",
       "  </tbody>\n",
       "</table>\n",
       "<p>1081 rows × 5 columns</p>\n",
       "</div>"
      ],
      "text/plain": [
       "      marital_length  pregnency_experience  age_pregnancy  \\nabortion  \\\n",
       "0                  0                     0              0           0   \n",
       "1                  0                     0              0           0   \n",
       "2                  0                     0              0           1   \n",
       "3                  1                     1              1           0   \n",
       "4                  0                     0              0           0   \n",
       "...              ...                   ...            ...         ...   \n",
       "1129               1                     0              0           0   \n",
       "1130               0                     0              0           0   \n",
       "1131               0                     0              0           0   \n",
       "1132               0                     0              0           0   \n",
       "1133               0                     0              0           0   \n",
       "\n",
       "      giving_birth  \n",
       "0                0  \n",
       "1                0  \n",
       "2                0  \n",
       "3                3  \n",
       "4                0  \n",
       "...            ...  \n",
       "1129             0  \n",
       "1130             0  \n",
       "1131             0  \n",
       "1132             0  \n",
       "1133             0  \n",
       "\n",
       "[1081 rows x 5 columns]"
      ]
     },
     "execution_count": 13,
     "metadata": {},
     "output_type": "execute_result"
    }
   ],
   "source": [
    "## converting the string columns to numeric\n",
    "\n",
    "cancer[['marital_length', 'pregnency_experience','age_pregnancy', '\\nabortion','giving_birth']].apply(pd.to_numeric)"
   ]
  },
  {
   "cell_type": "code",
   "execution_count": 14,
   "metadata": {},
   "outputs": [],
   "source": [
    "## converting the columns to int type\n",
    "\n",
    "cancer['marital_length'] = cancer['marital_length'].astype(int)\n",
    "cancer['pregnency_experience'] = cancer['pregnency_experience'].astype(int)\n",
    "cancer['giving_birth'] = cancer['giving_birth'].astype(int)\n",
    "cancer['age_pregnancy'] = cancer['age_pregnancy'].astype(int)\n",
    "cancer['\\nabortion'] = cancer['\\nabortion'].astype(int)"
   ]
  },
  {
   "cell_type": "markdown",
   "metadata": {},
   "source": [
    "### b) Analysing the Data\n",
    "##### In this subsection, the risk factors of the breast cancer are analysed for the patient records in the above data"
   ]
  },
  {
   "cell_type": "code",
   "execution_count": 15,
   "metadata": {},
   "outputs": [
    {
     "data": {
      "text/html": [
       "<div>\n",
       "<style scoped>\n",
       "    .dataframe tbody tr th:only-of-type {\n",
       "        vertical-align: middle;\n",
       "    }\n",
       "\n",
       "    .dataframe tbody tr th {\n",
       "        vertical-align: top;\n",
       "    }\n",
       "\n",
       "    .dataframe thead th {\n",
       "        text-align: right;\n",
       "    }\n",
       "</style>\n",
       "<table border=\"1\" class=\"dataframe\">\n",
       "  <thead>\n",
       "    <tr style=\"text-align: right;\">\n",
       "      <th></th>\n",
       "      <th>age</th>\n",
       "      <th>weight</th>\n",
       "      <th>thickness_tumor</th>\n",
       "    </tr>\n",
       "    <tr>\n",
       "      <th>id_treatment_region</th>\n",
       "      <th></th>\n",
       "      <th></th>\n",
       "      <th></th>\n",
       "    </tr>\n",
       "  </thead>\n",
       "  <tbody>\n",
       "    <tr>\n",
       "      <th>1110000329</th>\n",
       "      <td>32.9</td>\n",
       "      <td>74.4</td>\n",
       "      <td>0.6</td>\n",
       "    </tr>\n",
       "    <tr>\n",
       "      <th>1110000330</th>\n",
       "      <td>34.9</td>\n",
       "      <td>74.5</td>\n",
       "      <td>0.6</td>\n",
       "    </tr>\n",
       "    <tr>\n",
       "      <th>1110000331</th>\n",
       "      <td>36.9</td>\n",
       "      <td>75.5</td>\n",
       "      <td>0.5</td>\n",
       "    </tr>\n",
       "  </tbody>\n",
       "</table>\n",
       "</div>"
      ],
      "text/plain": [
       "                      age  weight  thickness_tumor\n",
       "id_treatment_region                               \n",
       "1110000329           32.9    74.4              0.6\n",
       "1110000330           34.9    74.5              0.6\n",
       "1110000331           36.9    75.5              0.5"
      ]
     },
     "execution_count": 15,
     "metadata": {},
     "output_type": "execute_result"
    }
   ],
   "source": [
    "## finding the mean of the attributes grouped by treatment region id\n",
    "\n",
    "cancer.groupby(['id_treatment_region']).agg({'age':'mean', 'weight': 'mean', 'thickness_tumor':'mean'}).round(1)"
   ]
  },
  {
   "cell_type": "markdown",
   "metadata": {},
   "source": [
    "##### INTERPRETATION: for the treatment region 1110000329, the mean age is 33, mean weight is 74, and thickness_tumor is 0.6. for the treatment region 1110000330, the mean age is 35, mean weight is 75, and thickness_tumor is 0.6. for the treatment region 1110000331, the mean age is 37, mean weight is 76, and thickness_tumor is 0.5."
   ]
  },
  {
   "cell_type": "code",
   "execution_count": 16,
   "metadata": {},
   "outputs": [],
   "source": [
    "## creating a smaller subset of the dataframe cancer\n",
    "\n",
    "cancer_subset = cancer[['hereditary_history','birth_date', 'age', 'weight', 'thickness_tumor',\n",
    "             'pregnency_experience', 'giving_birth','age_pregnancy', '\\nabortion', 'blood', \n",
    "             'taking_heartMedicine','taking_blood_pressure_medicine', \n",
    "             'taking_gallbladder_disease_medicine','smoking', 'alcohol', 'breast_pain', \n",
    "             'radiation_history','Birth_control(Contraception)', '\\nmenstrual_age', \n",
    "             '\\nmenopausal_age','\\nBenign_malignant_cancer']]"
   ]
  },
  {
   "cell_type": "code",
   "execution_count": 17,
   "metadata": {},
   "outputs": [],
   "source": [
    "## filtering the subset with bengin cancer\n",
    "\n",
    "benign_cancer = cancer_subset[cancer_subset['\\nBenign_malignant_cancer'] == 0]"
   ]
  },
  {
   "cell_type": "code",
   "execution_count": 18,
   "metadata": {},
   "outputs": [],
   "source": [
    "## filtering the subset with malignant cancer\n",
    "\n",
    "malignant_cancer = cancer_subset[cancer_subset['\\nBenign_malignant_cancer'] == 1]"
   ]
  },
  {
   "cell_type": "code",
   "execution_count": 19,
   "metadata": {},
   "outputs": [],
   "source": [
    "## creating the pivot_tables for the major risk factors, namely, hereditary_history, alcohol, smoking, age at the time of pregnancy, manstural age, menopausal age,\n",
    "## and radiation history with benign_cancer data\n",
    "\n",
    "### pivot table for hereditary_history\n",
    "\n",
    "hereditary_summary = benign_cancer.pivot_table( \n",
    "     index=['hereditary_history'],\n",
    "     values = '\\nBenign_malignant_cancer', \n",
    "     aggfunc=np.ma.count, \n",
    "     fill_value=0).reset_index()\n",
    "\n",
    "### pivot table for age_pregnancy\n",
    "\n",
    "age_summary = benign_cancer.pivot_table( \n",
    "     index=['age_pregnancy'],\n",
    "     values = '\\nBenign_malignant_cancer', \n",
    "     aggfunc=np.ma.count, \n",
    "     fill_value=0).reset_index()\n",
    "\n",
    "### pivot table for menstural_age\n",
    "\n",
    "menstural_summary = benign_cancer.pivot_table( \n",
    "     index=['\\nmenstrual_age'],\n",
    "     values = '\\nBenign_malignant_cancer', \n",
    "     aggfunc=np.ma.count, \n",
    "     fill_value=0).reset_index()\n",
    "\n",
    "### pivot table for menopausal_age\n",
    "\n",
    "menopause_summary = benign_cancer.pivot_table( \n",
    "     index=['\\nmenopausal_age'],\n",
    "     values = '\\nBenign_malignant_cancer', \n",
    "     aggfunc=np.ma.count, \n",
    "     fill_value=0).reset_index()\n",
    "\n",
    "### pivot table for smoking\n",
    "\n",
    "smoking_summary = benign_cancer.pivot_table( \n",
    "    index=['smoking'],\n",
    "     values = '\\nBenign_malignant_cancer', \n",
    "     aggfunc=np.ma.count, \n",
    "     fill_value=0).reset_index()\n",
    "\n",
    "### pivot table for alcohol\n",
    "\n",
    "alcohol_summary = benign_cancer.pivot_table( \n",
    "     index=[ 'alcohol'],\n",
    "     values = '\\nBenign_malignant_cancer', \n",
    "     aggfunc=np.ma.count, \n",
    "     fill_value=0).reset_index()\n",
    "\n",
    "### pivot table for radiation_history\n",
    "\n",
    "radiation_summary = benign_cancer.pivot_table( \n",
    "     index=['radiation_history'],\n",
    "     values = '\\nBenign_malignant_cancer', \n",
    "     aggfunc=np.ma.count, \n",
    "     fill_value=0).reset_index()\n",
    "\n"
   ]
  },
  {
   "cell_type": "code",
   "execution_count": 20,
   "metadata": {},
   "outputs": [],
   "source": [
    "## creating the pivot_tables for the major risk factors, namely, hereditary_history, alcohol, smoking, age at the time of pregnancy, manstural age, menopausal age,\n",
    "## and radiation history with malignant_cancer data\n",
    "\n",
    "### pivot table for hereditary_history\n",
    "\n",
    "hereditary_malignant = malignant_cancer.pivot_table( \n",
    "     index=['hereditary_history'],\n",
    "     values = '\\nBenign_malignant_cancer', \n",
    "     aggfunc=np.ma.count, \n",
    "     fill_value=0).reset_index()\n",
    "\n",
    "### pivot table for age_pregnancy\n",
    "\n",
    "age_malignant = malignant_cancer.pivot_table( \n",
    "     index=['age_pregnancy'],\n",
    "     values = '\\nBenign_malignant_cancer', \n",
    "     aggfunc=np.ma.count, \n",
    "     fill_value=0).reset_index()\n",
    "\n",
    "### pivot table for menstural_age\n",
    "\n",
    "menstural_malignant =malignant_cancer.pivot_table( \n",
    "     index=['\\nmenstrual_age'],\n",
    "     values = '\\nBenign_malignant_cancer', \n",
    "     aggfunc=np.ma.count, \n",
    "     fill_value=0).reset_index()\n",
    "\n",
    "### pivot table for menopausal_age\n",
    "\n",
    "menopause_malignant = malignant_cancer.pivot_table( \n",
    "     index=['\\nmenopausal_age'],\n",
    "     values = '\\nBenign_malignant_cancer', \n",
    "     aggfunc=np.ma.count, \n",
    "     fill_value=0).reset_index()\n",
    "\n",
    "### pivot table for smoking\n",
    "\n",
    "smoking_malignant = malignant_cancer.pivot_table( \n",
    "     index=['smoking'],\n",
    "     values = '\\nBenign_malignant_cancer', \n",
    "     aggfunc=np.ma.count, \n",
    "     fill_value=0).reset_index()\n",
    "\n",
    "### pivot table for alcohol\n",
    "\n",
    "alcohol_malignant = malignant_cancer.pivot_table( \n",
    "     index=[ 'alcohol'],\n",
    "     values = '\\nBenign_malignant_cancer', \n",
    "     aggfunc=np.ma.count, \n",
    "     fill_value=0).reset_index()\n",
    "\n",
    "### pivot table for radiation_history\n",
    "\n",
    "radiation_malignant =malignant_cancer.pivot_table( \n",
    "     index=['radiation_history'],\n",
    "     values = '\\nBenign_malignant_cancer', \n",
    "     aggfunc=np.ma.count, \n",
    "     fill_value=0).reset_index()\n"
   ]
  },
  {
   "cell_type": "code",
   "execution_count": 21,
   "metadata": {},
   "outputs": [],
   "source": [
    "## merging the pivot tables of bengin and malignant cancers of respective risks\n",
    "\n",
    "### merging hereditary data\n",
    "\n",
    "hereditary_risk = [hereditary_summary, hereditary_malignant]\n",
    "hereditary_cancer_risks = pd.concat(hereditary_risk, keys=['benign', 'malignant']).fillna('')\n",
    "\n",
    "### merging age data\n",
    "\n",
    "age_risk = [age_summary, age_malignant]\n",
    "age_cancer_risks = pd.concat(age_risk, keys=['benign', 'malignant']).fillna('')\n",
    "\n",
    "### merging menstural data\n",
    "\n",
    "menstural_risk = [menstural_summary, menstural_malignant]\n",
    "menstural_cancer_risks = pd.concat(menstural_risk, keys=['benign', 'malignant']).fillna('')\n",
    "\n",
    "### merging menopause data\n",
    "\n",
    "menopause_risk = [menopause_summary, menopause_malignant]\n",
    "menopause_cancer_risks = pd.concat(menopause_risk, keys=['benign', 'malignant']).fillna('')\n",
    "\n",
    "### merging smoking data\n",
    "\n",
    "smoking_risk = [smoking_summary, smoking_malignant]\n",
    "smoking_cancer_risks = pd.concat(smoking_risk, keys=['benign', 'malignant']).fillna('')\n",
    "\n",
    "### merging alcohol data\n",
    "\n",
    "alcohol_risk = [alcohol_summary, alcohol_malignant]\n",
    "alcohol_cancer_risks = pd.concat(alcohol_risk, keys=['benign', 'malignant']).fillna('')\n",
    "\n",
    "### merging radiation data\n",
    "\n",
    "radiation_risk = [radiation_summary, radiation_malignant]\n",
    "radiation_cancer_risks = pd.concat(radiation_risk, keys=['benign', 'malignant']).fillna('')"
   ]
  },
  {
   "cell_type": "code",
   "execution_count": 22,
   "metadata": {},
   "outputs": [
    {
     "data": {
      "text/html": [
       "<div>\n",
       "<style scoped>\n",
       "    .dataframe tbody tr th:only-of-type {\n",
       "        vertical-align: middle;\n",
       "    }\n",
       "\n",
       "    .dataframe tbody tr th {\n",
       "        vertical-align: top;\n",
       "    }\n",
       "\n",
       "    .dataframe thead th {\n",
       "        text-align: right;\n",
       "    }\n",
       "</style>\n",
       "<table border=\"1\" class=\"dataframe\">\n",
       "  <thead>\n",
       "    <tr style=\"text-align: right;\">\n",
       "      <th></th>\n",
       "      <th></th>\n",
       "      <th>hereditary_history</th>\n",
       "      <th>\\nBenign_malignant_cancer</th>\n",
       "    </tr>\n",
       "  </thead>\n",
       "  <tbody>\n",
       "    <tr>\n",
       "      <th rowspan=\"2\" valign=\"top\">benign</th>\n",
       "      <th>0</th>\n",
       "      <td>0</td>\n",
       "      <td>182</td>\n",
       "    </tr>\n",
       "    <tr>\n",
       "      <th>1</th>\n",
       "      <td>1</td>\n",
       "      <td>230</td>\n",
       "    </tr>\n",
       "    <tr>\n",
       "      <th rowspan=\"3\" valign=\"top\">malignant</th>\n",
       "      <th>0</th>\n",
       "      <td>0</td>\n",
       "      <td>277</td>\n",
       "    </tr>\n",
       "    <tr>\n",
       "      <th>1</th>\n",
       "      <td>1</td>\n",
       "      <td>387</td>\n",
       "    </tr>\n",
       "    <tr>\n",
       "      <th>2</th>\n",
       "      <td>2</td>\n",
       "      <td>2</td>\n",
       "    </tr>\n",
       "  </tbody>\n",
       "</table>\n",
       "</div>"
      ],
      "text/plain": [
       "             hereditary_history  \\nBenign_malignant_cancer\n",
       "benign    0                   0                        182\n",
       "          1                   1                        230\n",
       "malignant 0                   0                        277\n",
       "          1                   1                        387\n",
       "          2                   2                          2"
      ]
     },
     "execution_count": 22,
     "metadata": {},
     "output_type": "execute_result"
    }
   ],
   "source": [
    "hereditary_cancer_risks"
   ]
  },
  {
   "cell_type": "markdown",
   "metadata": {},
   "source": [
    "##### INTERPRETATION: The count of people with hereditary history of cancer having benign tumor was 230,and the count of people with hereditary history of cancer having                         malignant tumor was 387. But the count of people with hereditary history of cancer having malignant tumor was 277."
   ]
  },
  {
   "cell_type": "code",
   "execution_count": 23,
   "metadata": {},
   "outputs": [
    {
     "data": {
      "text/html": [
       "<div>\n",
       "<style scoped>\n",
       "    .dataframe tbody tr th:only-of-type {\n",
       "        vertical-align: middle;\n",
       "    }\n",
       "\n",
       "    .dataframe tbody tr th {\n",
       "        vertical-align: top;\n",
       "    }\n",
       "\n",
       "    .dataframe thead th {\n",
       "        text-align: right;\n",
       "    }\n",
       "</style>\n",
       "<table border=\"1\" class=\"dataframe\">\n",
       "  <thead>\n",
       "    <tr style=\"text-align: right;\">\n",
       "      <th></th>\n",
       "      <th></th>\n",
       "      <th>age_pregnancy</th>\n",
       "      <th>\\nBenign_malignant_cancer</th>\n",
       "    </tr>\n",
       "  </thead>\n",
       "  <tbody>\n",
       "    <tr>\n",
       "      <th rowspan=\"2\" valign=\"top\">benign</th>\n",
       "      <th>0</th>\n",
       "      <td>0</td>\n",
       "      <td>262</td>\n",
       "    </tr>\n",
       "    <tr>\n",
       "      <th>1</th>\n",
       "      <td>1</td>\n",
       "      <td>150</td>\n",
       "    </tr>\n",
       "    <tr>\n",
       "      <th rowspan=\"2\" valign=\"top\">malignant</th>\n",
       "      <th>0</th>\n",
       "      <td>0</td>\n",
       "      <td>399</td>\n",
       "    </tr>\n",
       "    <tr>\n",
       "      <th>1</th>\n",
       "      <td>1</td>\n",
       "      <td>267</td>\n",
       "    </tr>\n",
       "  </tbody>\n",
       "</table>\n",
       "</div>"
      ],
      "text/plain": [
       "             age_pregnancy  \\nBenign_malignant_cancer\n",
       "benign    0              0                        262\n",
       "          1              1                        150\n",
       "malignant 0              0                        399\n",
       "          1              1                        267"
      ]
     },
     "execution_count": 23,
     "metadata": {},
     "output_type": "execute_result"
    }
   ],
   "source": [
    "age_cancer_risks"
   ]
  },
  {
   "cell_type": "markdown",
   "metadata": {},
   "source": [
    "##### INTERPRETATION: The count of people who had pregnancy after 30 years of age having benign tumor was 150,and the count of people who had pregnancy after 30 years of age having malignant tumor was 267. However, both the cancers count was higher for the people who had pregnancy before 30 years of age than the people who had pregnancy after 30 years of age."
   ]
  },
  {
   "cell_type": "code",
   "execution_count": 24,
   "metadata": {},
   "outputs": [
    {
     "data": {
      "text/html": [
       "<div>\n",
       "<style scoped>\n",
       "    .dataframe tbody tr th:only-of-type {\n",
       "        vertical-align: middle;\n",
       "    }\n",
       "\n",
       "    .dataframe tbody tr th {\n",
       "        vertical-align: top;\n",
       "    }\n",
       "\n",
       "    .dataframe thead th {\n",
       "        text-align: right;\n",
       "    }\n",
       "</style>\n",
       "<table border=\"1\" class=\"dataframe\">\n",
       "  <thead>\n",
       "    <tr style=\"text-align: right;\">\n",
       "      <th></th>\n",
       "      <th></th>\n",
       "      <th>\\nmenstrual_age</th>\n",
       "      <th>\\nBenign_malignant_cancer</th>\n",
       "    </tr>\n",
       "  </thead>\n",
       "  <tbody>\n",
       "    <tr>\n",
       "      <th rowspan=\"3\" valign=\"top\">benign</th>\n",
       "      <th>0</th>\n",
       "      <td>0</td>\n",
       "      <td>108</td>\n",
       "    </tr>\n",
       "    <tr>\n",
       "      <th>1</th>\n",
       "      <td>1</td>\n",
       "      <td>183</td>\n",
       "    </tr>\n",
       "    <tr>\n",
       "      <th>2</th>\n",
       "      <td>2</td>\n",
       "      <td>121</td>\n",
       "    </tr>\n",
       "    <tr>\n",
       "      <th rowspan=\"3\" valign=\"top\">malignant</th>\n",
       "      <th>0</th>\n",
       "      <td>0</td>\n",
       "      <td>211</td>\n",
       "    </tr>\n",
       "    <tr>\n",
       "      <th>1</th>\n",
       "      <td>1</td>\n",
       "      <td>259</td>\n",
       "    </tr>\n",
       "    <tr>\n",
       "      <th>2</th>\n",
       "      <td>2</td>\n",
       "      <td>196</td>\n",
       "    </tr>\n",
       "  </tbody>\n",
       "</table>\n",
       "</div>"
      ],
      "text/plain": [
       "             \\nmenstrual_age  \\nBenign_malignant_cancer\n",
       "benign    0                0                        108\n",
       "          1                1                        183\n",
       "          2                2                        121\n",
       "malignant 0                0                        211\n",
       "          1                1                        259\n",
       "          2                2                        196"
      ]
     },
     "execution_count": 24,
     "metadata": {},
     "output_type": "execute_result"
    }
   ],
   "source": [
    "menstural_cancer_risks"
   ]
  },
  {
   "cell_type": "markdown",
   "metadata": {},
   "source": [
    "##### INTERPRETATION: The count of people who started menstural cycle before 12 years of age having benign tumor was 183,and the count of people who started menstural cycle before 12 years of age having malignant tumor was 259."
   ]
  },
  {
   "cell_type": "code",
   "execution_count": 25,
   "metadata": {},
   "outputs": [
    {
     "data": {
      "text/html": [
       "<div>\n",
       "<style scoped>\n",
       "    .dataframe tbody tr th:only-of-type {\n",
       "        vertical-align: middle;\n",
       "    }\n",
       "\n",
       "    .dataframe tbody tr th {\n",
       "        vertical-align: top;\n",
       "    }\n",
       "\n",
       "    .dataframe thead th {\n",
       "        text-align: right;\n",
       "    }\n",
       "</style>\n",
       "<table border=\"1\" class=\"dataframe\">\n",
       "  <thead>\n",
       "    <tr style=\"text-align: right;\">\n",
       "      <th></th>\n",
       "      <th></th>\n",
       "      <th>\\nmenopausal_age</th>\n",
       "      <th>\\nBenign_malignant_cancer</th>\n",
       "    </tr>\n",
       "  </thead>\n",
       "  <tbody>\n",
       "    <tr>\n",
       "      <th rowspan=\"3\" valign=\"top\">benign</th>\n",
       "      <th>0</th>\n",
       "      <td>0.0</td>\n",
       "      <td>384</td>\n",
       "    </tr>\n",
       "    <tr>\n",
       "      <th>1</th>\n",
       "      <td>1.0</td>\n",
       "      <td>17</td>\n",
       "    </tr>\n",
       "    <tr>\n",
       "      <th>2</th>\n",
       "      <td>2.0</td>\n",
       "      <td>11</td>\n",
       "    </tr>\n",
       "    <tr>\n",
       "      <th rowspan=\"3\" valign=\"top\">malignant</th>\n",
       "      <th>0</th>\n",
       "      <td>0.0</td>\n",
       "      <td>614</td>\n",
       "    </tr>\n",
       "    <tr>\n",
       "      <th>1</th>\n",
       "      <td>1.0</td>\n",
       "      <td>32</td>\n",
       "    </tr>\n",
       "    <tr>\n",
       "      <th>2</th>\n",
       "      <td>2.0</td>\n",
       "      <td>20</td>\n",
       "    </tr>\n",
       "  </tbody>\n",
       "</table>\n",
       "</div>"
      ],
      "text/plain": [
       "             \\nmenopausal_age  \\nBenign_malignant_cancer\n",
       "benign    0               0.0                        384\n",
       "          1               1.0                         17\n",
       "          2               2.0                         11\n",
       "malignant 0               0.0                        614\n",
       "          1               1.0                         32\n",
       "          2               2.0                         20"
      ]
     },
     "execution_count": 25,
     "metadata": {},
     "output_type": "execute_result"
    }
   ],
   "source": [
    "menopause_cancer_risks"
   ]
  },
  {
   "cell_type": "markdown",
   "metadata": {},
   "source": [
    "##### INTERPRETATION: The count of people who had menopause before 50 years of age having benign tumor was 17,and the count of people who had menopause before 50 years of age having malignant tumor was 32. But, the count of people who didn't had menopause at all was more in both type of cancers."
   ]
  },
  {
   "cell_type": "code",
   "execution_count": 26,
   "metadata": {},
   "outputs": [
    {
     "data": {
      "text/html": [
       "<div>\n",
       "<style scoped>\n",
       "    .dataframe tbody tr th:only-of-type {\n",
       "        vertical-align: middle;\n",
       "    }\n",
       "\n",
       "    .dataframe tbody tr th {\n",
       "        vertical-align: top;\n",
       "    }\n",
       "\n",
       "    .dataframe thead th {\n",
       "        text-align: right;\n",
       "    }\n",
       "</style>\n",
       "<table border=\"1\" class=\"dataframe\">\n",
       "  <thead>\n",
       "    <tr style=\"text-align: right;\">\n",
       "      <th></th>\n",
       "      <th></th>\n",
       "      <th>smoking</th>\n",
       "      <th>\\nBenign_malignant_cancer</th>\n",
       "    </tr>\n",
       "  </thead>\n",
       "  <tbody>\n",
       "    <tr>\n",
       "      <th rowspan=\"2\" valign=\"top\">benign</th>\n",
       "      <th>0</th>\n",
       "      <td>0</td>\n",
       "      <td>264</td>\n",
       "    </tr>\n",
       "    <tr>\n",
       "      <th>1</th>\n",
       "      <td>1</td>\n",
       "      <td>148</td>\n",
       "    </tr>\n",
       "    <tr>\n",
       "      <th rowspan=\"2\" valign=\"top\">malignant</th>\n",
       "      <th>0</th>\n",
       "      <td>0</td>\n",
       "      <td>427</td>\n",
       "    </tr>\n",
       "    <tr>\n",
       "      <th>1</th>\n",
       "      <td>1</td>\n",
       "      <td>239</td>\n",
       "    </tr>\n",
       "  </tbody>\n",
       "</table>\n",
       "</div>"
      ],
      "text/plain": [
       "             smoking  \\nBenign_malignant_cancer\n",
       "benign    0        0                        264\n",
       "          1        1                        148\n",
       "malignant 0        0                        427\n",
       "          1        1                        239"
      ]
     },
     "execution_count": 26,
     "metadata": {},
     "output_type": "execute_result"
    }
   ],
   "source": [
    "smoking_cancer_risks"
   ]
  },
  {
   "cell_type": "markdown",
   "metadata": {},
   "source": [
    "##### INTERPRETATION: The count of people who smoke having benign tumor was 148,and the count of people smoke having malignant tumor was 239. Interestingly, people who did not smoke had cancer was greater than the one who smokes."
   ]
  },
  {
   "cell_type": "code",
   "execution_count": 27,
   "metadata": {},
   "outputs": [
    {
     "data": {
      "text/html": [
       "<div>\n",
       "<style scoped>\n",
       "    .dataframe tbody tr th:only-of-type {\n",
       "        vertical-align: middle;\n",
       "    }\n",
       "\n",
       "    .dataframe tbody tr th {\n",
       "        vertical-align: top;\n",
       "    }\n",
       "\n",
       "    .dataframe thead th {\n",
       "        text-align: right;\n",
       "    }\n",
       "</style>\n",
       "<table border=\"1\" class=\"dataframe\">\n",
       "  <thead>\n",
       "    <tr style=\"text-align: right;\">\n",
       "      <th></th>\n",
       "      <th></th>\n",
       "      <th>alcohol</th>\n",
       "      <th>\\nBenign_malignant_cancer</th>\n",
       "    </tr>\n",
       "  </thead>\n",
       "  <tbody>\n",
       "    <tr>\n",
       "      <th rowspan=\"2\" valign=\"top\">benign</th>\n",
       "      <th>0</th>\n",
       "      <td>0</td>\n",
       "      <td>244</td>\n",
       "    </tr>\n",
       "    <tr>\n",
       "      <th>1</th>\n",
       "      <td>1</td>\n",
       "      <td>168</td>\n",
       "    </tr>\n",
       "    <tr>\n",
       "      <th rowspan=\"2\" valign=\"top\">malignant</th>\n",
       "      <th>0</th>\n",
       "      <td>0</td>\n",
       "      <td>425</td>\n",
       "    </tr>\n",
       "    <tr>\n",
       "      <th>1</th>\n",
       "      <td>1</td>\n",
       "      <td>241</td>\n",
       "    </tr>\n",
       "  </tbody>\n",
       "</table>\n",
       "</div>"
      ],
      "text/plain": [
       "             alcohol  \\nBenign_malignant_cancer\n",
       "benign    0        0                        244\n",
       "          1        1                        168\n",
       "malignant 0        0                        425\n",
       "          1        1                        241"
      ]
     },
     "execution_count": 27,
     "metadata": {},
     "output_type": "execute_result"
    }
   ],
   "source": [
    "alcohol_cancer_risks"
   ]
  },
  {
   "cell_type": "markdown",
   "metadata": {},
   "source": [
    "##### INTERPRETATION: The count of people who drinks alcohol having benign tumor was 168,and the count of people who drinks alcohol having malignant tumor was 241. Interestingly, people who did not drink had cancer was greater than the one who drinks."
   ]
  },
  {
   "cell_type": "code",
   "execution_count": 28,
   "metadata": {},
   "outputs": [
    {
     "data": {
      "text/html": [
       "<div>\n",
       "<style scoped>\n",
       "    .dataframe tbody tr th:only-of-type {\n",
       "        vertical-align: middle;\n",
       "    }\n",
       "\n",
       "    .dataframe tbody tr th {\n",
       "        vertical-align: top;\n",
       "    }\n",
       "\n",
       "    .dataframe thead th {\n",
       "        text-align: right;\n",
       "    }\n",
       "</style>\n",
       "<table border=\"1\" class=\"dataframe\">\n",
       "  <thead>\n",
       "    <tr style=\"text-align: right;\">\n",
       "      <th></th>\n",
       "      <th></th>\n",
       "      <th>radiation_history</th>\n",
       "      <th>\\nBenign_malignant_cancer</th>\n",
       "    </tr>\n",
       "  </thead>\n",
       "  <tbody>\n",
       "    <tr>\n",
       "      <th rowspan=\"2\" valign=\"top\">benign</th>\n",
       "      <th>0</th>\n",
       "      <td>0</td>\n",
       "      <td>194</td>\n",
       "    </tr>\n",
       "    <tr>\n",
       "      <th>1</th>\n",
       "      <td>1</td>\n",
       "      <td>218</td>\n",
       "    </tr>\n",
       "    <tr>\n",
       "      <th rowspan=\"3\" valign=\"top\">malignant</th>\n",
       "      <th>0</th>\n",
       "      <td>0</td>\n",
       "      <td>351</td>\n",
       "    </tr>\n",
       "    <tr>\n",
       "      <th>1</th>\n",
       "      <td>1</td>\n",
       "      <td>313</td>\n",
       "    </tr>\n",
       "    <tr>\n",
       "      <th>2</th>\n",
       "      <td>11</td>\n",
       "      <td>2</td>\n",
       "    </tr>\n",
       "  </tbody>\n",
       "</table>\n",
       "</div>"
      ],
      "text/plain": [
       "             radiation_history  \\nBenign_malignant_cancer\n",
       "benign    0                  0                        194\n",
       "          1                  1                        218\n",
       "malignant 0                  0                        351\n",
       "          1                  1                        313\n",
       "          2                 11                          2"
      ]
     },
     "execution_count": 28,
     "metadata": {},
     "output_type": "execute_result"
    }
   ],
   "source": [
    "radiation_cancer_risks"
   ]
  },
  {
   "cell_type": "markdown",
   "metadata": {},
   "source": [
    "##### INTERPRETATION: The count of people who had radiation history having benign tumor was 218,and the count of people who had radiation history having malignant tumor was 313."
   ]
  },
  {
   "cell_type": "markdown",
   "metadata": {},
   "source": [
    "### c) understanding breats cancer data by data visualization\n",
    "##### In this subsection, the data is visualized using the following plots\n",
    "##### i)  boxplot, \n",
    "##### ii) violin plot, \n",
    "##### iii)pair plot, histograms, \n",
    "##### iv) heat map"
   ]
  },
  {
   "cell_type": "code",
   "execution_count": 29,
   "metadata": {},
   "outputs": [
    {
     "data": {
      "image/png": "[encoded data removed]",
      "text/plain": [
       "<Figure size 432x288 with 1 Axes>"
      ]
     },
     "metadata": {},
     "output_type": "display_data"
    }
   ],
   "source": [
    "## plotting the box plot of condition and hereditary history of benign cancer and malignant cancer\n",
    "\n",
    "sns.set_style(\"whitegrid\")\n",
    "sns.boxplot(x = 'condition', y = 'hereditary_history', hue = '\\nBenign_malignant_cancer', palette='muted', data = breast_cancer_assessment)\n",
    "sns.set(rc={'figure.figsize':(10,10)})"
   ]
  },
  {
   "cell_type": "markdown",
   "metadata": {},
   "source": [
    "##### INTERPRETATION: People who have died had hereditary history and the history was similar for benign and malignant cancer. "
   ]
  },
  {
   "cell_type": "code",
   "execution_count": 30,
   "metadata": {},
   "outputs": [
    {
     "data": {
      "image/png": "[encoded data removed]",
      "text/plain": [
       "<Figure size 720x720 with 1 Axes>"
      ]
     },
     "metadata": {},
     "output_type": "display_data"
    }
   ],
   "source": [
    "## Plotting boxplot condition and thickness_tumor of benign cancer and malignant cancer\n",
    "\n",
    "sns.set_style(\"whitegrid\")\n",
    "sns.boxplot(x = 'condition', y = 'thickness_tumor', hue = '\\nBenign_malignant_cancer', palette='pastel', data = breast_cancer_assessment)\n",
    "sns.set(rc={'figure.figsize':(10,10)})"
   ]
  },
  {
   "cell_type": "markdown",
   "metadata": {},
   "source": [
    "##### INTERPRETATION: The median of all the conditions are same for thickness_tumor"
   ]
  },
  {
   "cell_type": "code",
   "execution_count": 31,
   "metadata": {},
   "outputs": [
    {
     "data": {
      "image/png": "[encoded data removed]",
      "text/plain": [
       "<Figure size 720x720 with 1 Axes>"
      ]
     },
     "metadata": {},
     "output_type": "display_data"
    }
   ],
   "source": [
    "## plotting the violin plot for date of birth and condition\n",
    "\n",
    "sns.set_style(\"whitegrid\")\n",
    "sns.violinplot(x=\"birth_date\",\n",
    "                y=\"condition\",\n",
    "                data=cancer, palette='bright')\n",
    "sns.set(rc={'figure.figsize':(10,20)})"
   ]
  },
  {
   "cell_type": "code",
   "execution_count": 32,
   "metadata": {},
   "outputs": [
    {
     "data": {
      "image/png": "[encoded data removed]",
      "text/plain": [
       "<Figure size 720x1440 with 1 Axes>"
      ]
     },
     "metadata": {},
     "output_type": "display_data"
    }
   ],
   "source": [
    "## plotting the violin plot for marital length and condition\n",
    "\n",
    "sns.set_style(\"whitegrid\")\n",
    "sns.violinplot(x=\"marital_length\",\n",
    "                y=\"condition\",\n",
    "                data=cancer, palette='bright')\n",
    "sns.set(rc={'figure.figsize':(5,5)})"
   ]
  },
  {
   "cell_type": "code",
   "execution_count": 33,
   "metadata": {},
   "outputs": [
    {
     "data": {
      "text/plain": [
       "Index(['patient_id', 'gender ', 'education', 'treatment_data',\n",
       "       'id_healthcenter', 'id_treatment_region', 'hereditary_history',\n",
       "       'birth_date', 'age', 'weight', 'thickness_tumor', 'marital_status',\n",
       "       'marital_length', 'pregnency_experience', 'giving_birth',\n",
       "       'age_pregnancy', '\\nabortion', 'blood', 'taking_heartMedicine',\n",
       "       'taking_blood_pressure_medicine', 'taking_gallbladder_disease_medicine',\n",
       "       'smoking', 'alcohol', 'breast_pain', 'radiation_history',\n",
       "       'Birth_control(Contraception)', '\\nmenstrual_age', '\\nmenopausal_age',\n",
       "       '\\nBenign_malignant_cancer'],\n",
       "      dtype='object')"
      ]
     },
     "execution_count": 33,
     "metadata": {},
     "output_type": "execute_result"
    }
   ],
   "source": [
    "## finding the int type columns\n",
    "\n",
    "cancer.select_dtypes(include=[\"int\", \"float64\"]).columns"
   ]
  },
  {
   "cell_type": "code",
   "execution_count": 34,
   "metadata": {},
   "outputs": [
    {
     "data": {
      "text/plain": [
       "Index(['file', 'condition'], dtype='object')"
      ]
     },
     "execution_count": 34,
     "metadata": {},
     "output_type": "execute_result"
    }
   ],
   "source": [
    "## finding the categorical type columns\n",
    "\n",
    "cancer.select_dtypes(include = [\"object\"]).columns"
   ]
  },
  {
   "cell_type": "code",
   "execution_count": null,
   "metadata": {},
   "outputs": [
    {
     "name": "stderr",
     "output_type": "stream",
     "text": [
      "/opt/tljh/user/lib/python3.6/site-packages/seaborn/distributions.py:306: UserWarning: Dataset has 0 variance; skipping density estimate.\n",
      "  warnings.warn(msg, UserWarning)\n"
     ]
    }
   ],
   "source": [
    "## Plotting the pair plot for 'age','weight', 'thickness_tumor','blood', 'taking_heartMedicine', 'taking_gallbladder_disease_medicine','smoking', 'alcohol','breast_pain',\n",
    "## 'radiation_history', 'Birth_control(Contraception)','\\nmenstrual_age' with differentiation of benign or malignant cancer.\n",
    "\n",
    "sns.pairplot(breast_cancer_assessment, hue='\\nBenign_malignant_cancer', vars=['age','weight', 'thickness_tumor','blood', 'taking_heartMedicine', \n",
    "                                                                              'taking_gallbladder_disease_medicine','smoking', 'alcohol','breast_pain','radiation_history',\n",
    "                                                                              'Birth_control(Contraception)','\\nmenstrual_age'])\n",
    "plt.show()"
   ]
  },
  {
   "cell_type": "markdown",
   "metadata": {},
   "source": [
    "##### INTERPRETATION: There is no perfect correlation exists. so we will plot heat map later."
   ]
  },
  {
   "cell_type": "code",
   "execution_count": null,
   "metadata": {},
   "outputs": [],
   "source": [
    "## assigning the numerical data to a variable\n",
    "\n",
    "df_num = cancer[['gender ', 'education', \n",
    "       'hereditary_history','birth_date', 'age', 'weight', 'thickness_tumor', 'marital_status',\n",
    "       'marital_length', 'pregnency_experience', 'giving_birth',\n",
    "       'age_pregnancy', '\\nabortion', 'blood', 'taking_heartMedicine',\n",
    "       'taking_blood_pressure_medicine', 'taking_gallbladder_disease_medicine',\n",
    "       'smoking', 'alcohol', 'breast_pain', 'radiation_history',\n",
    "       'Birth_control(Contraception)', '\\nmenstrual_age', '\\nmenopausal_age',\n",
    "       '\\nBenign_malignant_cancer']]"
   ]
  },
  {
   "cell_type": "code",
   "execution_count": null,
   "metadata": {},
   "outputs": [],
   "source": [
    "## plotting histograms for all the numerical variables to know the count\n",
    "\n",
    "for i in df_num.columns:\n",
    "    sns.set_style(\"whitegrid\")\n",
    "    sns.histplot(df_num[i])\n",
    "    sns.color_palette(\"Spectral\")\n",
    "    plt.title(i)\n",
    "    sns.set(rc={'figure.figsize':(5,5)})\n",
    "    plt.show()"
   ]
  },
  {
   "cell_type": "code",
   "execution_count": null,
   "metadata": {},
   "outputs": [],
   "source": [
    "## Plotting heatmap to know the correlation between variables \n",
    "\n",
    "plt.figure(figsize=(14,10))\n",
    "sns.heatmap(cancer.corr(),annot=True,cmap=\"YlGnBu\",fmt='.1f',linewidths=2)\n",
    "plt.show()"
   ]
  },
  {
   "cell_type": "markdown",
   "metadata": {},
   "source": [
    "##### INTERPRETATION: Though there are no perfect correlations, There are some partial correlations of some variables."
   ]
  },
  {
   "cell_type": "markdown",
   "metadata": {},
   "source": [
    "## PART 2\n",
    "\n",
    "### Calculating Risk of Cancer\n",
    "\n",
    "##### In this section, a calculator is built by giving dummy scores to the important risk factors namely, hereditary_history, age, age_pregnancy, smoking, alcohol, radiation_history, menstural_age, menopausal_age making a total of score 10 and running it on a population . The scoring is as follows:\n",
    "##### i) if age >= 60 -> score = 1 and 0 otherwise.\n",
    "##### ii) if hereditary_history is 'yes' i.e., 1 -> score = 1, else 0\n",
    "##### iii) if age at pregnancy is 'less than 35 years' i.e., 1 -> score = 1, else 0\n",
    "##### iv) if smoking is 'yes' i.e., 1 -> score = 1, else 0 \n",
    "##### v) if taking alcohol is 'yes' i.e., 1 -> score = 1, else 0 \n",
    "##### vi) if radiation_history is 'yes' i.e., 1 -> score = 1, else 0 \n",
    "##### i) if menstural_age >= 12 -> score = 1, if menstural_age < 12 -> score = 2 and 0 otherwise.\n",
    "##### i) if menopausal_age >= 50 -> score = 2, if menopausal_age < 50 -> score = 1 and 0 otherwise."
   ]
  },
  {
   "cell_type": "markdown",
   "metadata": {},
   "source": [
    "### a) Building a Risk Calculator"
   ]
  },
  {
   "cell_type": "code",
   "execution_count": null,
   "metadata": {},
   "outputs": [],
   "source": [
    "## renaming the coloumns for convenience\n",
    "\n",
    "cancer.rename(columns = {'\\nmenstrual_age':'menstural_age'}, inplace = True)\n",
    "cancer.rename(columns = {'\\nmenopausal_age':'menopausal_age'}, inplace = True)"
   ]
  },
  {
   "cell_type": "code",
   "execution_count": null,
   "metadata": {},
   "outputs": [],
   "source": [
    "## creating the calculator\n",
    "\n",
    "def risk_calculator(hereditary_history, age, age_pregnancy, smoking, alcohol, radiation_history, menstural_age, menopausal_age):\n",
    "    \"\"\"(int, int, int, int, int, int, int, int) -> (int)\n",
    "    This function takes the shereditary_history, age, age_pregnancy, smoking, alcohol, radiation_history, menstural_age, menopausal_age\n",
    "    as parameters and returns the risk_score.\n",
    "    \n",
    "    >>> risk_calculator(0, 60, 1,0, 1, 1, 2, 1.0)\n",
    "    5\n",
    "    \n",
    "    >>> risk_calculator(1, 30, 1,0, 1, 1, 2, 2.0)\n",
    "    6\n",
    "    \n",
    "    >>> risk_calculator(1, 30, 1,0, 1, 0, 1, 2.0)\n",
    "    6\n",
    "    \"\"\"\n",
    "    \n",
    "    ## assigning the initial score to 0 \n",
    "    \n",
    "    risk_score = 0\n",
    "    \n",
    "    ## calculating the score of age\n",
    "    \n",
    "    if age >= 60:\n",
    "        risk_score += 1\n",
    "    else: \n",
    "        risk_score += 0 \n",
    "        \n",
    "    ## calculating the score of hereditary_history\n",
    "        \n",
    "    if hereditary_history == 1:\n",
    "        risk_score += 1\n",
    "    else:\n",
    "        risk_score += 0\n",
    "        \n",
    "    ## calculating the score of age_pregnancy\n",
    "        \n",
    "    if age_pregnancy == 1:\n",
    "        risk_score += 1\n",
    "    else:\n",
    "        risk_score += 0\n",
    "        \n",
    "    ## calculating the score of smoking\n",
    "        \n",
    "    if smoking == 1:\n",
    "        risk_score += 1\n",
    "    else:\n",
    "        risk_score+= 0\n",
    "        \n",
    "    ## calculating the score of alcohol\n",
    "        \n",
    "    if alcohol == 1:\n",
    "        risk_score += 1\n",
    "    else:\n",
    "        risk_score += 0\n",
    "        \n",
    "    ## calculating the score of radiation_history\n",
    "        \n",
    "    if radiation_history == 1:\n",
    "        risk_score += 1\n",
    "    else:\n",
    "        risk_score += 0\n",
    "        \n",
    "    ## calculating the score of menstural_ageage\n",
    "        \n",
    "    if menstural_age == 1:\n",
    "        risk_score += 2\n",
    "    elif menstural_age == 2:\n",
    "        risk_score +=1\n",
    "    else:\n",
    "        risk_score += 0\n",
    "        \n",
    "    ## calculating the score of menopausal_age\n",
    "        \n",
    "    if menopausal_age == 2.0:\n",
    "        risk_score +=1\n",
    "    elif menopausal_age == 1.0:\n",
    "        risk_score +=0\n",
    "    else:\n",
    "        risk_score += 0\n",
    "        \n",
    "    return risk_score"
   ]
  },
  {
   "cell_type": "code",
   "execution_count": null,
   "metadata": {},
   "outputs": [],
   "source": [
    "import doctest\n",
    "doctest.run_docstring_examples(risk_calculator, globals(), verbose=True)"
   ]
  },
  {
   "cell_type": "markdown",
   "metadata": {},
   "source": [
    "### b) Running the Risk Calculator on a Population"
   ]
  },
  {
   "cell_type": "code",
   "execution_count": null,
   "metadata": {},
   "outputs": [],
   "source": [
    "## creating a subset of cancer data above with hereditary_history, age, age_pregnancy, smoking, alcohol, radiation_history, menstural_age, menopausal_age\n",
    "\n",
    "sql = \"\"\"\n",
    "select hereditary_history, age, age_pregnancy, smoking, alcohol, radiation_history, menstural_age, menopausal_age\n",
    "from cancer \n",
    "\"\"\""
   ]
  },
  {
   "cell_type": "code",
   "execution_count": null,
   "metadata": {},
   "outputs": [],
   "source": [
    "sql = ps.sqldf(sql, locals())"
   ]
  },
  {
   "cell_type": "code",
   "execution_count": null,
   "metadata": {},
   "outputs": [],
   "source": [
    "sql.head()"
   ]
  },
  {
   "cell_type": "code",
   "execution_count": null,
   "metadata": {},
   "outputs": [],
   "source": [
    "## running the risk calculator on dataframe\n",
    "\n",
    "def cancer_risk(table):\n",
    "    \"\"\"(table) -> (dataframe)\n",
    "    This function takes the path of the file and returns the with the parameters namely hereditary_history, age, age_pregnancy, smoking, alcohol, radiation_history, \n",
    "    menstural_age, menopausal_age and risk.\n",
    "    \n",
    "    \"\"\"\n",
    "    table = sql\n",
    "    \n",
    "    ## creating empty list\n",
    "    \n",
    "    risk_list = []\n",
    "    \n",
    "    for i in range(len(table)):\n",
    "    \n",
    "    ## running the calculator on the dataframe\n",
    "        \n",
    "        cancer_risk = risk_calculator(table.loc[i, \"hereditary_history\"], table.loc[i, \"age\"], table.loc[i, 'age_pregnancy'], table.loc[i, \"smoking\"], \n",
    "                                      table.loc[i, \"alcohol\"], table.loc[i, \"radiation_history\"], table.loc[i, \"menstural_age\"], table.loc[i, \"menopausal_age\"] )\n",
    "        risk_list.append(cancer_risk)\n",
    "    risk = pd.DataFrame({\"risk_score\":risk_list}, columns = ['risk_score'])\n",
    "    risk_data = pd.concat([table, risk], axis = 1)\n",
    "    \n",
    "    return risk_data"
   ]
  },
  {
   "cell_type": "code",
   "execution_count": null,
   "metadata": {},
   "outputs": [],
   "source": [
    "cancer_risk(sql).head()"
   ]
  },
  {
   "cell_type": "markdown",
   "metadata": {},
   "source": [
    "## PART 3"
   ]
  },
  {
   "cell_type": "markdown",
   "metadata": {},
   "source": [
    "### Calculating Stage of Cancer\n",
    "\n",
    "##### In this part, the cancer stage is calculated. First the table is extracted from the web page and converted into json. Then the stage is calculated using the AJCC staging system.\n",
    "\n",
    "##### he AJCC staging system was mainly based on anatomical staging, which used the extent of the primary tumor (T), status of the regional lymph nodes (N), and metastasis status (M). This has remained largely unchanged in the 8th edition. The T stage is based on the size and degree of loco-regional invasion by the primary tumor and is categorized from T1 to T4. The N stage is determined by the extent of nodal involvement including axillary, internal mammary, and ipsilateral supraclavicular lymph nodes. Distant metastases are evaluated to determine the M stage.\n",
    "##### The stages used in this part are 0, IA, IB, IIA, IIB, IIIA, IIIB, IIIC, and IV and their parameters are described below:\n",
    "##### i)  T0 and T1 tumors with nodal micrometastases (N1mi) are staged as Stage IB.\n",
    "##### ii) T2, T3, and T4 tumors with nodal micrometastases (N1mi) are staged using the N1 category.\n",
    "##### iii)M0 includes M0(i+)\n",
    "##### iv) The designation pM0 is not valid; any M0 is clinical.\n",
    "##### v)  If a patient presents with M1 disease prior to neoadjuvant systemic therapy, the stage is considered stage IV and remains stage IV regardless of response to neoadjuvant therapy.\n",
    "\n",
    "##### The wesite used for this is: https://emedicine.medscape.com/article/1947145-workup#c13"
   ]
  },
  {
   "cell_type": "code",
   "execution_count": null,
   "metadata": {},
   "outputs": [],
   "source": [
    "## reading the table from the web page\n",
    "\n",
    "dfs = pd.read_html('https://emedicine.medscape.com/article/1947145-workup#c13')\n",
    "\n",
    "## the NA's are filled with the previous values\n",
    "\n",
    "TNM_staging = dfs[5].fillna(method = 'ffill')\n",
    "\n",
    "## seperating the header rows from the table\n",
    "\n",
    "header = TNM_staging.iloc[0]\n",
    "\n",
    "## seperating the remaining values\n",
    "\n",
    "TNM = TNM_staging[1:] \n",
    "\n",
    "## combining both\n",
    "\n",
    "TNM.columns = header"
   ]
  },
  {
   "cell_type": "code",
   "execution_count": null,
   "metadata": {},
   "outputs": [],
   "source": [
    "TNM"
   ]
  },
  {
   "cell_type": "code",
   "execution_count": null,
   "metadata": {},
   "outputs": [],
   "source": [
    "## elaborating the Any T and Any N values\n",
    "\n",
    "\n",
    "TNM.loc[20] = ['IIIC', 'T1', 'N3', 'M0']\n",
    "TNM.loc[21] = ['IIIC', 'T2', 'N3', 'M0']\n",
    "TNM.loc[22] = ['IIIC', 'T3', 'N3', 'M0']\n",
    "TNM.loc[23] = ['IIIC', 'T4', 'N3', 'M0']\n",
    "TNM.loc[24] = ['IV', 'T1', 'N1', 'M1']\n",
    "TNM.loc[25] = ['IV', 'T2', 'N1', 'M1']\n",
    "TNM.loc[26] = ['IV', 'T3', 'N1', 'M1']\n",
    "TNM.loc[27] = ['IV', 'T4', 'N1', 'M1']\n",
    "TNM.loc[28] = ['IV', 'T1', 'N2', 'M1']\n",
    "TNM.loc[29] = ['IV', 'T2', 'N2', 'M1']\n",
    "TNM.loc[30] = ['IV', 'T3', 'N2', 'M1']\n",
    "TNM.loc[31] = ['IV', 'T4', 'N2', 'M1']\n",
    "TNM.loc[32] = ['IV', 'T1', 'N3', 'M1']\n",
    "TNM.loc[33] = ['IV', 'T2', 'N3', 'M1']\n",
    "TNM.loc[34] = ['IV', 'T3', 'N3', 'M1']\n",
    "TNM.loc[35] = ['IV', 'T4', 'N3', 'M1']\n"
   ]
  },
  {
   "cell_type": "code",
   "execution_count": null,
   "metadata": {},
   "outputs": [],
   "source": [
    "## dropping the rows containing Any T and Any N\n",
    "\n",
    "TNM.drop([18, 19], inplace = True)"
   ]
  },
  {
   "cell_type": "code",
   "execution_count": null,
   "metadata": {},
   "outputs": [],
   "source": [
    "TNM"
   ]
  },
  {
   "cell_type": "code",
   "execution_count": null,
   "metadata": {},
   "outputs": [],
   "source": [
    "## converting the table to json\n",
    "\n",
    "TNM_data = TNM.to_json(orient = 'records')"
   ]
  },
  {
   "cell_type": "code",
   "execution_count": null,
   "metadata": {},
   "outputs": [],
   "source": [
    "## converting string json to list\n",
    "\n",
    "res = ast.literal_eval(TNM_data)\n",
    "res"
   ]
  },
  {
   "cell_type": "code",
   "execution_count": null,
   "metadata": {},
   "outputs": [],
   "source": [
    "## creating a json file\n",
    "\n",
    "with open(\"res.json\", \"w\") as outfile:\n",
    "    json.dump(res, outfile)"
   ]
  },
  {
   "cell_type": "code",
   "execution_count": null,
   "metadata": {},
   "outputs": [],
   "source": [
    "## calculating the TNM Stage\n",
    "\n",
    "def TNM_stage(tumor, node, metastasis):\n",
    "    \"\"\"(str, str, str') -> (str)\n",
    "    This function takes the tumor, node, metastasis as parameters and returns the TNM stage.\n",
    "    \n",
    "    >>> TNM_stage('T0', 'N1', 'M0')\n",
    "    'IIA'\n",
    "    \n",
    "    >>> TNM_stage('T1', 'N2', 'M0')\n",
    "    'IIIA'\n",
    "    \n",
    "    >>> TNM_stage('T3', 'N2', 'M0')\n",
    "    'IIIA'\n",
    "    \"\"\"\n",
    "    \n",
    "    with open(r\"res.json\") as af:\n",
    "        obj = json.load(af)\n",
    "   \n",
    "    for a in obj:\n",
    "        if a['T'] == tumor and a['N']== node and a['M']== metastasis:\n",
    "            stage = (a['Stage'])\n",
    "            return stage\n",
    "    "
   ]
  },
  {
   "cell_type": "code",
   "execution_count": null,
   "metadata": {},
   "outputs": [],
   "source": [
    "import doctest\n",
    "doctest.run_docstring_examples(TNM_stage, globals(), verbose=True)"
   ]
  },
  {
   "cell_type": "markdown",
   "metadata": {},
   "source": [
    "## PART 4 "
   ]
  },
  {
   "cell_type": "markdown",
   "metadata": {},
   "source": [
    "### Suggestion of Drugs\n",
    "##### In this part the drugs are suggested using a json file created manually containing the stage, er status, pr status, her2 status, drugs, chemotherapy, and drugs for residual cancer. The information of drugs are taken from the National Cancer Institute web site.\n",
    "##### The link is: https://www.cancer.gov/types/breast/patient/breast-treatment-pdq#_662 "
   ]
  },
  {
   "cell_type": "code",
   "execution_count": null,
   "metadata": {},
   "outputs": [],
   "source": [
    "## the drugs are suggested using json file\n",
    "\n",
    "def cancer_drug(stage, er_status, pr_status, her2_status):\n",
    "    \"\"\"(str, str, str','str') -> (str)\n",
    "    This function takes the stage, er_status, pr_status, her2_status as parameters and returns the drugs\n",
    "    \n",
    "    >>> cancer_drug('IIA', 'Negative', 'Negative', 'Positive')\n",
    "    'trastuzumab (with or without pertuzumab)'\n",
    "    \n",
    "    >>> cancer_drug('IV', 'Negative', 'Negative', 'Negative')\n",
    "    'olaparib or talazoparib with BRCA mutation, pembrolizumab for microsatellite instability (MSI) or changes in any of the mismatch repair (MMR) genes, acituzumab govitecan (Trodelvy) without any specific gene or protein changes'\n",
    "    \n",
    "    >>> cancer_drug('IV', 'Positive', 'Positive', 'Negative')\n",
    "    'amoxifen or an aromatase inhibitor,  CDK4/6 inhibitor, everolimus, or a PI3K inhibitor'\n",
    "    \"\"\"\n",
    "    \n",
    "    with open(r\"cancer_drugs.json\") as f:\n",
    "        obj = json.load(f)\n",
    "    for i in obj:\n",
    "        if i['STAGE'] == stage and i['ER']== er_status and i['PR']== pr_status and i['HER2']== her2_status :\n",
    "            drug = (i['TREATMENT']['DRUG'])\n",
    "            return drug"
   ]
  },
  {
   "cell_type": "code",
   "execution_count": null,
   "metadata": {},
   "outputs": [],
   "source": [
    "import doctest\n",
    "doctest.run_docstring_examples(cancer_drug, globals(), verbose=True)"
   ]
  },
  {
   "cell_type": "markdown",
   "metadata": {},
   "source": [
    "## PART 5"
   ]
  },
  {
   "cell_type": "markdown",
   "metadata": {},
   "source": [
    "### chemotherapy requirement\n",
    "\n",
    "##### In this part the chemotherapy requirement is suggested using a json file created manually containing the stage, er status, pr status, her2 status, drugs, chemotherapy, and drugs for residual cancer. The information of drugs are taken from the National Cancer Institute web site.\n",
    "##### The link is: https://www.cancer.gov/types/breast/patient/breast-treatment-pdq#_662 "
   ]
  },
  {
   "cell_type": "code",
   "execution_count": null,
   "metadata": {},
   "outputs": [],
   "source": [
    "## chemotherapy requirement is suggested using the function\n",
    "\n",
    "def cancer_chemotherapy(stage, er_status, pr_status, her2_status):\n",
    "    \"\"\"(str, str, str','str') -> (str)\n",
    "    This function takes the stage, er_status, pr_status, her2_status as parameters and returns the chemotherapy\n",
    "    \n",
    "    >>> cancer_chemotherapy('IIA', 'Negative', 'Negative', 'Positive')\n",
    "    'neoadjuvant (before surgery) chemotherapy'\n",
    "    \n",
    "    >>> cancer_chemotherapy('IIIA', 'Negative', 'Negative', 'Positive')\n",
    "    'neoadjuvant (before surgery)'\n",
    "\n",
    "    >>> cancer_chemotherapy('IV', 'Positive', 'Positive', 'Negative')\n",
    "    'neoadjuvant (before surgery)'\n",
    "    \"\"\"\n",
    "    with open(r\"cancer_drugs.json\") as f:\n",
    "        obj = json.load(f)\n",
    "    for i in obj:\n",
    "        if i['STAGE'] == stage and i['ER']== er_status and i['PR']== pr_status and i['HER2']== her2_status :\n",
    "            chemotherapy = (i['TREATMENT']['CHEMOTHERAPY'])\n",
    "            return chemotherapy"
   ]
  },
  {
   "cell_type": "code",
   "execution_count": null,
   "metadata": {},
   "outputs": [],
   "source": [
    "import doctest\n",
    "doctest.run_docstring_examples(cancer_chemotherapy, globals(), verbose=True)"
   ]
  },
  {
   "cell_type": "markdown",
   "metadata": {},
   "source": [
    "## PART 6"
   ]
  },
  {
   "cell_type": "markdown",
   "metadata": {},
   "source": [
    "### Drugs in Residual Cancer\n",
    "\n",
    "##### In this part the drugs are suggested for residual cancer using a json file created manually containing the stage, er status, pr status, her2 status, drugs, chemotherapy, and drugs for residual cancer. The information of drugs are taken from the National Cancer Institute web site.\n",
    "##### The link is: https://www.cancer.gov/types/breast/patient/breast-treatment-pdq#_662¶"
   ]
  },
  {
   "cell_type": "code",
   "execution_count": null,
   "metadata": {},
   "outputs": [],
   "source": [
    "def residual_cancer_drugs(stage, er_status, pr_status, her2_status):\n",
    "    \"\"\"(str, str, str','str') -> (str)\n",
    "    This function takes the stage, er_status, pr_status, her2_status as parameters and returns the drugs for residual cancer\n",
    "    \n",
    "    >>> residual_cancer_drugs('IIA', 'Negative', 'Negative', 'Positive')\n",
    "    'None'\n",
    "    \n",
    "    >>> residual_cancer_drugs('IV', 'Negative', 'Negative', 'Negative')\n",
    "    'None'\n",
    "\n",
    "    >>> residual_cancer_drugs('IA', 'Positive', 'Positive', 'Negative')\n",
    "    'ado-trastuzumab emtansine'\n",
    "    \"\"\"\n",
    "    with open(r\"cancer_drugs.json\") as f:\n",
    "        obj = json.load(f)\n",
    "    for i in obj:\n",
    "        if i['STAGE'] == stage and i['ER']== er_status and i['PR']== pr_status and i['HER2']== her2_status :\n",
    "            residual_drugs = (i['TREATMENT']['RESIDUAL CANCER AFTER SURGERY DRUGS'])\n",
    "            return residual_drugs"
   ]
  },
  {
   "cell_type": "code",
   "execution_count": null,
   "metadata": {},
   "outputs": [],
   "source": [
    "import doctest\n",
    "doctest.run_docstring_examples(residual_cancer_drugs, globals(), verbose=True)"
   ]
  },
  {
   "cell_type": "markdown",
   "metadata": {},
   "source": [
    "## PART 7 "
   ]
  },
  {
   "cell_type": "markdown",
   "metadata": {},
   "source": [
    "### Run the Calculator on the Population\n",
    "\n",
    "##### In this Part the two csv files are merged, then a subset is made and then the calculator of drugs, chemotherapy, and drugs for residual cancer were run for the population.\n",
    "##### This dataset consists of a group of breast cancer patients, who had surgery to remove their tumour\n",
    "\n",
    "##### The data is taken from the Kaggle and the link is: https://www.kaggle.com/datasets/amandam1/breastcancerdataset"
   ]
  },
  {
   "cell_type": "code",
   "execution_count": null,
   "metadata": {},
   "outputs": [],
   "source": [
    "## reading the csv files\n",
    "\n",
    "FILE = pd.read_csv('BRCA.csv')\n",
    "file = pd.read_csv('clinical_data_breast_cancer.csv')"
   ]
  },
  {
   "cell_type": "code",
   "execution_count": null,
   "metadata": {},
   "outputs": [],
   "source": [
    "## switching the case of columns to lower for both the files\n",
    "\n",
    "FILE.columns = FILE.columns.str.lower()\n",
    "file.columns = file.columns.str.lower()"
   ]
  },
  {
   "cell_type": "code",
   "execution_count": null,
   "metadata": {},
   "outputs": [],
   "source": [
    "## renaming certain columns for convenience\n",
    "\n",
    "file.rename(columns = {'her2 final status':'her2_status','er status': 'er_status', 'pr status': 'pr_status', 'ajcc stage': 'stage'}, inplace = True)\n",
    "FILE.rename(columns = {'her2 status':'her2_status'}, inplace = True)"
   ]
  },
  {
   "cell_type": "code",
   "execution_count": null,
   "metadata": {},
   "outputs": [],
   "source": [
    "## filtering out unique columns and making a subset of the data frame FILE\n",
    "\n",
    "different_cols = FILE.columns.difference(file.columns)\n",
    "files = FILE[different_cols]"
   ]
  },
  {
   "cell_type": "code",
   "execution_count": null,
   "metadata": {},
   "outputs": [],
   "source": [
    "## merging both the files on patient_id\n",
    "\n",
    "files_all = file.merge(files, copy = True, left_on = 'complete tcga id', right_on = 'patient_id',  how = 'inner')"
   ]
  },
  {
   "cell_type": "code",
   "execution_count": null,
   "metadata": {},
   "outputs": [],
   "source": [
    "files_all.head()"
   ]
  },
  {
   "cell_type": "code",
   "execution_count": null,
   "metadata": {},
   "outputs": [],
   "source": [
    "files_all.columns"
   ]
  },
  {
   "cell_type": "code",
   "execution_count": null,
   "metadata": {},
   "outputs": [],
   "source": [
    "## making the subset of the data frame\n",
    "\n",
    "population_sql = \"\"\"\n",
    "select tumor, node, metastasis, er_status, pr_status, her2_status\n",
    "from files_all \n",
    "\"\"\""
   ]
  },
  {
   "cell_type": "code",
   "execution_count": null,
   "metadata": {},
   "outputs": [],
   "source": [
    "population = ps.sqldf(population_sql, locals())"
   ]
  },
  {
   "cell_type": "code",
   "execution_count": null,
   "metadata": {},
   "outputs": [],
   "source": [
    "population.head()"
   ]
  },
  {
   "cell_type": "code",
   "execution_count": null,
   "metadata": {},
   "outputs": [],
   "source": [
    "def breast_cancer(file):\n",
    "    \"\"\"(file) -> (dataframe)\n",
    "    This function takes the tumor, node, metastasis, er_status, pr_status, her2_status as parameters and returns the dataframe containing drugs, chemotherapy, and \n",
    "    residual cancer drugs\n",
    "    \"\"\"\n",
    "    \n",
    "    file = population\n",
    "    \n",
    "    ## creating empty lists\n",
    "    \n",
    "    stage_list = []\n",
    "    drug_list = []\n",
    "    chemo_list = []\n",
    "    residual_list = []\n",
    "    \n",
    "    ## calculating the stage\n",
    "    \n",
    "    for i in range(len(file)):\n",
    "        cancer_stage = TNM_stage(file.loc[i, \"tumor\"], file.loc[i, \"node\"], file.loc[i, 'metastasis'])\n",
    "        stage_list.append(cancer_stage)\n",
    "    stage = pd.DataFrame({\"stage\":stage_list}, columns = ['stage'])\n",
    "    stage_data = pd.concat([file, stage], axis = 1)\n",
    "    \n",
    "    ## suggesting the drugs \n",
    "    \n",
    "    for i in range(len(stage_data)):\n",
    "        drug = cancer_drug(stage_data.loc[i, \"stage\"], stage_data.loc[i, \"er_status\"], stage_data.loc[i, 'pr_status'], stage_data.loc[i, \"her2_status\"])\n",
    "        drug_list.append(drug)\n",
    "    drugs = pd.DataFrame({\"drug\":drug_list}, columns = ['drug'])\n",
    "    drugs_data = pd.concat([stage_data, drugs], axis = 1)\n",
    "    \n",
    "    ## suggesting the chemotherapy\n",
    "    \n",
    "    for i in range(len(stage_data)):\n",
    "        chemo = cancer_chemotherapy(stage_data.loc[i, \"stage\"],stage_data.loc[i, \"er_status\"], stage_data.loc[i, 'pr_status'], stage_data.loc[i, \"her2_status\"])\n",
    "        chemo_list.append(chemo)\n",
    "    chemotherapy = pd.DataFrame({\"chemotherapy\":chemo_list}, columns = ['chemotherapy'])\n",
    "    chemo_data = pd.concat([drugs_data, chemotherapy], axis = 1)\n",
    "    \n",
    "    ## suggesting the drugs for the residual cancer\n",
    "                                                                       \n",
    "    for i in range(len(stage_data)):\n",
    "        residual = residual_cancer_drugs(stage_data.loc[i, \"stage\"], stage_data.loc[i, \"er_status\"], stage_data.loc[i, 'pr_status'], stage_data.loc[i, \"her2_status\"])\n",
    "        residual_list.append(residual)\n",
    "    residual_cancer = pd.DataFrame({\"residual_cancer_drugs\":residual_list}, columns = ['residual_cancer_drugs'])\n",
    "    residual_data = pd.concat([chemo_data, residual_cancer], axis = 1)\n",
    "    \n",
    "    return residual_data"
   ]
  },
  {
   "cell_type": "code",
   "execution_count": null,
   "metadata": {},
   "outputs": [],
   "source": [
    "breast_cancer(population)"
   ]
  },
  {
   "cell_type": "markdown",
   "metadata": {},
   "source": [
    "## REFERENCES"
   ]
  },
  {
   "cell_type": "markdown",
   "metadata": {},
   "source": [
    "##### https://www.kaggle.com/datasets/homayoonkhadivi/breast-cancer-datasets?select=under+treatment.xlsx\n",
    "##### https://www.kaggle.com/datasets/amandam1/breastcancerdataset\n",
    "##### https://www.cancer.gov/types/breast/patient/breast-treatment-pdq\n",
    "##### https://www.cancer.gov/types/breast/patient/breast-prevention-pdq\n",
    "##### https://www.ncbi.nlm.nih.gov/pmc/articles/PMC6315072/\n",
    "##### https://emedicine.medscape.com/article/1947145-workup#c13"
   ]
  },
  {
   "cell_type": "markdown",
   "metadata": {},
   "source": [
    "## PROJECT USAGE\n",
    "\n",
    "##### This project can be used for the risk assessment, calculating cancer stage, suggesting drugs, suggesting chemotherapy, suggesting drugs for residual cancers given certain parameters.\n"
   ]
  },
  {
   "cell_type": "markdown",
   "metadata": {},
   "source": [
    "## Submitting the Work"
   ]
  },
  {
   "cell_type": "code",
   "execution_count": null,
   "metadata": {},
   "outputs": [],
   "source": [
    "a=input('''\n",
    "Are you ready to submit your work?\n",
    "1. Click the Save icon (or do Ctrl-S / Cmd-S)\n",
    "2. Type \"yes\" or \"no\" below\n",
    "3. Press Enter\n",
    "\n",
    "''')\n",
    "\n",
    "if a=='yes':\n",
    "    !git add \"final.ipynb\"\n",
    "    !git commit -a -m \"Submitting the final\"\n",
    "    !git push\n",
    "else:\n",
    "    print('''\n",
    "    \n",
    "OK. We can wait.\n",
    "''')"
   ]
  }
 ],
 "metadata": {
  "kernelspec": {
   "display_name": "Python 3",
   "language": "python",
   "name": "python3"
  },
  "language_info": {
   "codemirror_mode": {
    "name": "ipython",
    "version": 3
   },
   "file_extension": ".py",
   "mimetype": "text/x-python",
   "name": "python",
   "nbconvert_exporter": "python",
   "pygments_lexer": "ipython3",
   "version": "3.6.7"
  }
 },
 "nbformat": 4,
 "nbformat_minor": 4
}
