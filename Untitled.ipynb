{
 "cells": [
  {
   "cell_type": "code",
   "execution_count": 3,
   "metadata": {},
   "outputs": [
    {
     "name": "stdout",
     "output_type": "stream",
     "text": [
      "/bin/sh: 1: add: not found\n",
      "On branch main\n",
      "Your branch is up to date with 'origin/main'.\n",
      "\n",
      "Changes not staged for commit:\n",
      "\t\u001b[31mmodified:   final/final.ipynb\u001b[m\n",
      "\n",
      "Untracked files:\n",
      "\t\u001b[31mUntitled.ipynb\u001b[m\n",
      "\t\u001b[31mfinal/BRCA.csv\u001b[m\n",
      "\t\u001b[31mfinal/TNM.json\u001b[m\n",
      "\t\u001b[31mfinal/TNM_Stage.json\u001b[m\n",
      "\t\u001b[31mfinal/TNM_json.json\u001b[m\n",
      "\t\u001b[31mfinal/TNM_stage.json\u001b[m\n",
      "\t\u001b[31mfinal/cancer_drugs.json\u001b[m\n",
      "\t\u001b[31mfinal/clinical_data_breast_cancer.csv\u001b[m\n",
      "\t\u001b[31mfinal/death.xlsx\u001b[m\n",
      "\t\u001b[31mfinal/project.ipynb\u001b[m\n",
      "\t\u001b[31mfinal/recovered.xlsx\u001b[m\n",
      "\t\u001b[31mfinal/res.json\u001b[m\n",
      "\t\u001b[31mfinal/under treatment.xlsx\u001b[m\n",
      "\t\u001b[31mweek02/Untitled.ipynb\u001b[m\n",
      "\t\u001b[31mweek02/week02_inclaass.ipynb\u001b[m\n",
      "\t\u001b[31mweek03/Untitled.ipynb\u001b[m\n",
      "\t\u001b[31mweek03/week03_inclass.ipynb\u001b[m\n",
      "\t\u001b[31mweek04/Untitled Folder/\u001b[m\n",
      "\t\u001b[31mweek04/Untitled.ipynb\u001b[m\n",
      "\t\u001b[31mweek04/week04_examples.ipynb\u001b[m\n",
      "\t\u001b[31mweek04/week04_lookups.ipynb\u001b[m\n",
      "\t\u001b[31mweek05/californiaDDS.ipynb\u001b[m\n",
      "\t\u001b[31mweek05/week05_inclass.ipynb\u001b[m\n",
      "\t\u001b[31mweek06/Untitled.ipynb\u001b[m\n",
      "\t\u001b[31mweek06/module29-xml-examples.ipynb\u001b[m\n",
      "\t\u001b[31mweek06/week06_inclass_1.ipynb\u001b[m\n",
      "\t\u001b[31mweek07/module25-internet.ipynb\u001b[m\n",
      "\t\u001b[31mweek07/module26-html.ipynb\u001b[m\n",
      "\t\u001b[31mweek07/week07_assignment_2-Copy1.ipynb\u001b[m\n",
      "\t\u001b[31mweek07/week07_inclass.ipynb\u001b[m\n",
      "\t\u001b[31mweek10/AIR QUALITY INDEX (by cities) - IQAir.csv\u001b[m\n",
      "\t\u001b[31mweek10/Untitled Folder/\u001b[m\n",
      "\t\u001b[31mweek10/who_suicide_statistics.csv\u001b[m\n",
      "\t\u001b[31mweek11/inclass.ipynb\u001b[m\n",
      "\t\u001b[31mweek11/module30-dedup-examples.ipynb\u001b[m\n",
      "\t\u001b[31mweek11/module31-complex-filter.ipynb\u001b[m\n",
      "\t\u001b[31mweek11/module31-query-sql.ipynb\u001b[m\n",
      "\t\u001b[31mweek11/module31-single-value-filter.ipynb\u001b[m\n",
      "\t\u001b[31mweek11/module32-replacing.ipynb\u001b[m\n",
      "\t\u001b[31mweek11/module33-derived-data.ipynb\u001b[m\n",
      "\t\u001b[31mweek11/module34-datetime.ipynb\u001b[m\n",
      "\t\u001b[31mweek12/module48-pivot.ipynb\u001b[m\n",
      "\t\u001b[31mweek12/module49-unpivot.ipynb\u001b[m\n",
      "\t\u001b[31mweek12/module50-custom-pivot.ipynb\u001b[m\n",
      "\t\u001b[31mweek13/breast-cancer.csv\u001b[m\n",
      "\t\u001b[31mweek13/module38-aggregation.ipynb\u001b[m\n",
      "\t\u001b[31mweek13/module39-grouping.ipynb\u001b[m\n",
      "\t\u001b[31mweek13/module40-profiling.ipynb\u001b[m\n",
      "\t\u001b[31mweek13/week13_assignment_1-Copy1.ipynb\u001b[m\n",
      "\t\u001b[31mweek14/cms/\u001b[m\n",
      "\t\u001b[31mweek14/json_drugs.json\u001b[m\n",
      "\t\u001b[31mweek14/module41-merging.ipynb\u001b[m\n",
      "\t\u001b[31mweek14/module42-sets.ipynb\u001b[m\n",
      "\t\u001b[31mweek14/module43-joins.ipynb\u001b[m\n",
      "\t\u001b[31mweek15/Electronic_Health_Record_EHR_Incentive_Program_Payments_to_Eligible_Hospitals.csv\u001b[m\n",
      "\t\u001b[31mweek15/mongo-example.ipynb\u001b[m\n",
      "\t\u001b[31mweek15/mysql-examples.ipynb\u001b[m\n",
      "\n",
      "no changes added to commit\n",
      "Everything up-to-date\n"
     ]
    }
   ],
   "source": [
    "cd hds5210-2021\n",
    "add .\n",
    "git commit -m \"Adding all of my files\"\n",
    "git push"
   ]
  },
  {
   "cell_type": "code",
   "execution_count": null,
   "metadata": {},
   "outputs": [],
   "source": []
  }
 ],
 "metadata": {
  "kernelspec": {
   "display_name": "Python 3",
   "language": "python",
   "name": "python3"
  },
  "language_info": {
   "codemirror_mode": {
    "name": "ipython",
    "version": 3
   },
   "file_extension": ".py",
   "mimetype": "text/x-python",
   "name": "python",
   "nbconvert_exporter": "python",
   "pygments_lexer": "ipython3",
   "version": "3.6.7"
  }
 },
 "nbformat": 4,
 "nbformat_minor": 4
}
