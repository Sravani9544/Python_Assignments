{
 "cells": [
  {
   "cell_type": "markdown",
   "metadata": {},
   "source": [
    "# MySQL Relational Database\n",
    "\n",
    "\n",
    "<img src=\"datamodel.png\" alt=\"Data Model\" style=\"width: 300px; float: right; margin-left: 20px; border: 1px solid\">\n",
    "\n",
    "This sample database has the hospitals, systems, services, and visits information we talked about in the slides.  The model (table names, columns, and relationships) is show to the right.\n",
    "\n",
    "In this model, there are four tables:\n",
    "* System Affiliations\n",
    "* Hospitals\n",
    "* ED Visits\n",
    "* Hospital Services\n",
    "\n",
    "In these examples, we're going to ask a few questions and answer them with both SQL and Python Pandas data processes.\n"
   ]
  },
  {
   "cell_type": "markdown",
   "metadata": {},
   "source": [
    "## Setup\n",
    "\n",
    "Create a connection to the MySQL database"
   ]
  },
  {
   "cell_type": "code",
   "execution_count": 1,
   "metadata": {},
   "outputs": [],
   "source": [
    "import os\n",
    "import pymysql\n",
    "from sqlalchemy import create_engine\n",
    "import pandas as pd"
   ]
  },
  {
   "cell_type": "code",
   "execution_count": 2,
   "metadata": {},
   "outputs": [],
   "source": [
    "host = 'slucor2022-instance-1.cgdcoitnku0k.us-east-1.rds.amazonaws.com'\n",
    "port = '3306'\n",
    "user = 'slucor2022'\n",
    "password = 'SLUcor2022'\n",
    "database = 'hds5210'\n",
    "# database = ''"
   ]
  },
  {
   "cell_type": "code",
   "execution_count": 3,
   "metadata": {},
   "outputs": [],
   "source": [
    "conn = create_engine('mysql+pymysql://' + \n",
    "                     user + ':' + \n",
    "                     password + '@' + \n",
    "                     host + '/' + \n",
    "                     database, echo=False)"
   ]
  },
  {
   "cell_type": "markdown",
   "metadata": {},
   "source": [
    "## Give me a list of hospitals"
   ]
  },
  {
   "cell_type": "code",
   "execution_count": 4,
   "metadata": {},
   "outputs": [
    {
     "data": {
      "text/html": [
       "<div>\n",
       "<style scoped>\n",
       "    .dataframe tbody tr th:only-of-type {\n",
       "        vertical-align: middle;\n",
       "    }\n",
       "\n",
       "    .dataframe tbody tr th {\n",
       "        vertical-align: top;\n",
       "    }\n",
       "\n",
       "    .dataframe thead th {\n",
       "        text-align: right;\n",
       "    }\n",
       "</style>\n",
       "<table border=\"1\" class=\"dataframe\">\n",
       "  <thead>\n",
       "    <tr style=\"text-align: right;\">\n",
       "      <th></th>\n",
       "      <th>hospital_name</th>\n",
       "      <th>city</th>\n",
       "      <th>system_name</th>\n",
       "      <th>beds</th>\n",
       "    </tr>\n",
       "  </thead>\n",
       "  <tbody>\n",
       "    <tr>\n",
       "      <th>0</th>\n",
       "      <td>BJH</td>\n",
       "      <td>St. Louis</td>\n",
       "      <td>BJC</td>\n",
       "      <td>1243</td>\n",
       "    </tr>\n",
       "    <tr>\n",
       "      <th>1</th>\n",
       "      <td>Mercy STL</td>\n",
       "      <td>Ladue</td>\n",
       "      <td>Mercy</td>\n",
       "      <td>1120</td>\n",
       "    </tr>\n",
       "    <tr>\n",
       "      <th>2</th>\n",
       "      <td>MoBap</td>\n",
       "      <td>Ladue</td>\n",
       "      <td>BJC</td>\n",
       "      <td>443</td>\n",
       "    </tr>\n",
       "  </tbody>\n",
       "</table>\n",
       "</div>"
      ],
      "text/plain": [
       "  hospital_name       city system_name  beds\n",
       "0           BJH  St. Louis         BJC  1243\n",
       "1     Mercy STL      Ladue       Mercy  1120\n",
       "2         MoBap      Ladue         BJC   443"
      ]
     },
     "execution_count": 4,
     "metadata": {},
     "output_type": "execute_result"
    }
   ],
   "source": [
    "pd.read_sql_query(\"SELECT * FROM hospitals\", conn)"
   ]
  },
  {
   "cell_type": "markdown",
   "metadata": {},
   "source": [
    "# All the hospitals that are not affiliated with the Catholic church\n",
    "\n",
    "Using SQL, we join the hospitals with system_affiliations tables to get a list of hospitals."
   ]
  },
  {
   "cell_type": "code",
   "execution_count": 5,
   "metadata": {},
   "outputs": [
    {
     "data": {
      "text/html": [
       "<div>\n",
       "<style scoped>\n",
       "    .dataframe tbody tr th:only-of-type {\n",
       "        vertical-align: middle;\n",
       "    }\n",
       "\n",
       "    .dataframe tbody tr th {\n",
       "        vertical-align: top;\n",
       "    }\n",
       "\n",
       "    .dataframe thead th {\n",
       "        text-align: right;\n",
       "    }\n",
       "</style>\n",
       "<table border=\"1\" class=\"dataframe\">\n",
       "  <thead>\n",
       "    <tr style=\"text-align: right;\">\n",
       "      <th></th>\n",
       "      <th>hospital_name</th>\n",
       "      <th>city</th>\n",
       "      <th>system_name</th>\n",
       "      <th>beds</th>\n",
       "      <th>affiliation</th>\n",
       "    </tr>\n",
       "  </thead>\n",
       "  <tbody>\n",
       "    <tr>\n",
       "      <th>0</th>\n",
       "      <td>BJH</td>\n",
       "      <td>St. Louis</td>\n",
       "      <td>BJC</td>\n",
       "      <td>1243</td>\n",
       "      <td>Non-Religious</td>\n",
       "    </tr>\n",
       "    <tr>\n",
       "      <th>1</th>\n",
       "      <td>MoBap</td>\n",
       "      <td>Ladue</td>\n",
       "      <td>BJC</td>\n",
       "      <td>443</td>\n",
       "      <td>Non-Religious</td>\n",
       "    </tr>\n",
       "  </tbody>\n",
       "</table>\n",
       "</div>"
      ],
      "text/plain": [
       "  hospital_name       city system_name  beds    affiliation\n",
       "0           BJH  St. Louis         BJC  1243  Non-Religious\n",
       "1         MoBap      Ladue         BJC   443  Non-Religious"
      ]
     },
     "execution_count": 5,
     "metadata": {},
     "output_type": "execute_result"
    }
   ],
   "source": [
    "pd.read_sql_query(\"\"\"\n",
    "  SELECT h.*, s.affiliation\n",
    "  FROM \n",
    "    hospitals h JOIN\n",
    "    system_affiliations s ON h.system_name = s.system_name\n",
    "  WHERE\n",
    "    s.affiliation != 'Catholic'\n",
    "\"\"\", conn)"
   ]
  },
  {
   "cell_type": "markdown",
   "metadata": {},
   "source": [
    "## Read in all the DB tables into an array of Dataframes\n",
    "\n",
    "1. Get a list of all of the tables\n",
    "2. Read each table into a dataframe; and\n",
    "3. Store that in a dictionary of dataframes"
   ]
  },
  {
   "cell_type": "code",
   "execution_count": 6,
   "metadata": {},
   "outputs": [],
   "source": [
    "df = pd.read_sql_query(\"SHOW TABLES\", conn)"
   ]
  },
  {
   "cell_type": "code",
   "execution_count": 7,
   "metadata": {},
   "outputs": [
    {
     "data": {
      "text/html": [
       "<div>\n",
       "<style scoped>\n",
       "    .dataframe tbody tr th:only-of-type {\n",
       "        vertical-align: middle;\n",
       "    }\n",
       "\n",
       "    .dataframe tbody tr th {\n",
       "        vertical-align: top;\n",
       "    }\n",
       "\n",
       "    .dataframe thead th {\n",
       "        text-align: right;\n",
       "    }\n",
       "</style>\n",
       "<table border=\"1\" class=\"dataframe\">\n",
       "  <thead>\n",
       "    <tr style=\"text-align: right;\">\n",
       "      <th></th>\n",
       "      <th>Tables_in_hds5210</th>\n",
       "    </tr>\n",
       "  </thead>\n",
       "  <tbody>\n",
       "    <tr>\n",
       "      <th>0</th>\n",
       "      <td>ed_visits</td>\n",
       "    </tr>\n",
       "    <tr>\n",
       "      <th>1</th>\n",
       "      <td>hospital_services</td>\n",
       "    </tr>\n",
       "    <tr>\n",
       "      <th>2</th>\n",
       "      <td>hospitals</td>\n",
       "    </tr>\n",
       "    <tr>\n",
       "      <th>3</th>\n",
       "      <td>paulboal_ipv</td>\n",
       "    </tr>\n",
       "    <tr>\n",
       "      <th>4</th>\n",
       "      <td>system_affiliations</td>\n",
       "    </tr>\n",
       "  </tbody>\n",
       "</table>\n",
       "</div>"
      ],
      "text/plain": [
       "     Tables_in_hds5210\n",
       "0            ed_visits\n",
       "1    hospital_services\n",
       "2            hospitals\n",
       "3         paulboal_ipv\n",
       "4  system_affiliations"
      ]
     },
     "execution_count": 7,
     "metadata": {},
     "output_type": "execute_result"
    }
   ],
   "source": [
    "df"
   ]
  },
  {
   "cell_type": "code",
   "execution_count": 8,
   "metadata": {},
   "outputs": [
    {
     "name": "stdout",
     "output_type": "stream",
     "text": [
      "ed_visits\n",
      "hospital_services\n",
      "hospitals\n",
      "paulboal_ipv\n",
      "system_affiliations\n"
     ]
    }
   ],
   "source": [
    "tables = {}\n",
    "\n",
    "for n,t in pd.read_sql_query(\"SHOW TABLES\", conn).iterrows():\n",
    "    name = str(t['Tables_in_hds5210'])\n",
    "    print(name)\n",
    "    tables[name] = pd.read_sql(\"SELECT * FROM \"+name,conn)"
   ]
  },
  {
   "cell_type": "code",
   "execution_count": 9,
   "metadata": {
    "scrolled": true
   },
   "outputs": [
    {
     "data": {
      "text/plain": [
       "{'ed_visits':   hospital_name  year  ed_visits\n",
       " 0           BJH  2016      72348\n",
       " 1           BJH  2017      81221\n",
       " 2     Mercy STL  2016      51932\n",
       " 3     Mercy STL  2017      52221\n",
       " 4         MoBap  2016      42983\n",
       " 5         MoBap  2017      43921,\n",
       " 'hospital_services':    hospital_name services\n",
       " 0            BJH   Clinic\n",
       " 1            BJH       ED\n",
       " 2            BJH       IP\n",
       " 3            BJH       OP\n",
       " 4      Mercy STL       ED\n",
       " 5      Mercy STL       IP\n",
       " 6      Mercy STL       OP\n",
       " 7          MoBap   Clinic\n",
       " 8          MoBap       ED\n",
       " 9          MoBap       IP\n",
       " 10         MoBap       OP,\n",
       " 'hospitals':   hospital_name       city system_name  beds\n",
       " 0           BJH  St. Louis         BJC  1243\n",
       " 1     Mercy STL      Ladue       Mercy  1120\n",
       " 2         MoBap      Ladue         BJC   443,\n",
       " 'paulboal_ipv': Empty DataFrame\n",
       " Columns: [hospital_name, year, ip_visits]\n",
       " Index: [],\n",
       " 'system_affiliations':   system_name    affiliation\n",
       " 0         BJC  Non-Religious\n",
       " 1       Mercy       Catholic}"
      ]
     },
     "execution_count": 9,
     "metadata": {},
     "output_type": "execute_result"
    }
   ],
   "source": [
    "tables"
   ]
  },
  {
   "cell_type": "markdown",
   "metadata": {},
   "source": [
    "# All the hospitals that are not affiliated with the Catholic church\n",
    "\n",
    "This time, using Pandas"
   ]
  },
  {
   "cell_type": "code",
   "execution_count": 10,
   "metadata": {},
   "outputs": [],
   "source": [
    "hospitals = tables['hospitals'].merge(tables['system_affiliations'])"
   ]
  },
  {
   "cell_type": "code",
   "execution_count": 11,
   "metadata": {},
   "outputs": [
    {
     "data": {
      "text/html": [
       "<div>\n",
       "<style scoped>\n",
       "    .dataframe tbody tr th:only-of-type {\n",
       "        vertical-align: middle;\n",
       "    }\n",
       "\n",
       "    .dataframe tbody tr th {\n",
       "        vertical-align: top;\n",
       "    }\n",
       "\n",
       "    .dataframe thead th {\n",
       "        text-align: right;\n",
       "    }\n",
       "</style>\n",
       "<table border=\"1\" class=\"dataframe\">\n",
       "  <thead>\n",
       "    <tr style=\"text-align: right;\">\n",
       "      <th></th>\n",
       "      <th>hospital_name</th>\n",
       "      <th>city</th>\n",
       "      <th>system_name</th>\n",
       "      <th>beds</th>\n",
       "      <th>affiliation</th>\n",
       "    </tr>\n",
       "  </thead>\n",
       "  <tbody>\n",
       "    <tr>\n",
       "      <th>0</th>\n",
       "      <td>BJH</td>\n",
       "      <td>St. Louis</td>\n",
       "      <td>BJC</td>\n",
       "      <td>1243</td>\n",
       "      <td>Non-Religious</td>\n",
       "    </tr>\n",
       "    <tr>\n",
       "      <th>1</th>\n",
       "      <td>MoBap</td>\n",
       "      <td>Ladue</td>\n",
       "      <td>BJC</td>\n",
       "      <td>443</td>\n",
       "      <td>Non-Religious</td>\n",
       "    </tr>\n",
       "    <tr>\n",
       "      <th>2</th>\n",
       "      <td>Mercy STL</td>\n",
       "      <td>Ladue</td>\n",
       "      <td>Mercy</td>\n",
       "      <td>1120</td>\n",
       "      <td>Catholic</td>\n",
       "    </tr>\n",
       "  </tbody>\n",
       "</table>\n",
       "</div>"
      ],
      "text/plain": [
       "  hospital_name       city system_name  beds    affiliation\n",
       "0           BJH  St. Louis         BJC  1243  Non-Religious\n",
       "1         MoBap      Ladue         BJC   443  Non-Religious\n",
       "2     Mercy STL      Ladue       Mercy  1120       Catholic"
      ]
     },
     "execution_count": 11,
     "metadata": {},
     "output_type": "execute_result"
    }
   ],
   "source": [
    "hospitals"
   ]
  },
  {
   "cell_type": "code",
   "execution_count": 12,
   "metadata": {},
   "outputs": [
    {
     "data": {
      "text/html": [
       "<div>\n",
       "<style scoped>\n",
       "    .dataframe tbody tr th:only-of-type {\n",
       "        vertical-align: middle;\n",
       "    }\n",
       "\n",
       "    .dataframe tbody tr th {\n",
       "        vertical-align: top;\n",
       "    }\n",
       "\n",
       "    .dataframe thead th {\n",
       "        text-align: right;\n",
       "    }\n",
       "</style>\n",
       "<table border=\"1\" class=\"dataframe\">\n",
       "  <thead>\n",
       "    <tr style=\"text-align: right;\">\n",
       "      <th></th>\n",
       "      <th>hospital_name</th>\n",
       "      <th>city</th>\n",
       "      <th>system_name</th>\n",
       "      <th>beds</th>\n",
       "      <th>affiliation</th>\n",
       "    </tr>\n",
       "  </thead>\n",
       "  <tbody>\n",
       "    <tr>\n",
       "      <th>0</th>\n",
       "      <td>BJH</td>\n",
       "      <td>St. Louis</td>\n",
       "      <td>BJC</td>\n",
       "      <td>1243</td>\n",
       "      <td>Non-Religious</td>\n",
       "    </tr>\n",
       "    <tr>\n",
       "      <th>1</th>\n",
       "      <td>MoBap</td>\n",
       "      <td>Ladue</td>\n",
       "      <td>BJC</td>\n",
       "      <td>443</td>\n",
       "      <td>Non-Religious</td>\n",
       "    </tr>\n",
       "  </tbody>\n",
       "</table>\n",
       "</div>"
      ],
      "text/plain": [
       "  hospital_name       city system_name  beds    affiliation\n",
       "0           BJH  St. Louis         BJC  1243  Non-Religious\n",
       "1         MoBap      Ladue         BJC   443  Non-Religious"
      ]
     },
     "execution_count": 12,
     "metadata": {},
     "output_type": "execute_result"
    }
   ],
   "source": [
    "hospitals[hospitals['affiliation'] != 'Catholic']"
   ]
  },
  {
   "cell_type": "markdown",
   "metadata": {},
   "source": [
    "## Hospitals with more than 43,000 ED visits each year\n",
    "\n",
    "First in SQL"
   ]
  },
  {
   "cell_type": "code",
   "execution_count": 13,
   "metadata": {},
   "outputs": [
    {
     "data": {
      "text/html": [
       "<div>\n",
       "<style scoped>\n",
       "    .dataframe tbody tr th:only-of-type {\n",
       "        vertical-align: middle;\n",
       "    }\n",
       "\n",
       "    .dataframe tbody tr th {\n",
       "        vertical-align: top;\n",
       "    }\n",
       "\n",
       "    .dataframe thead th {\n",
       "        text-align: right;\n",
       "    }\n",
       "</style>\n",
       "<table border=\"1\" class=\"dataframe\">\n",
       "  <thead>\n",
       "    <tr style=\"text-align: right;\">\n",
       "      <th></th>\n",
       "      <th>hospital_name</th>\n",
       "      <th>city</th>\n",
       "      <th>system_name</th>\n",
       "      <th>beds</th>\n",
       "      <th>hospital_name</th>\n",
       "      <th>year</th>\n",
       "      <th>ed_visits</th>\n",
       "    </tr>\n",
       "  </thead>\n",
       "  <tbody>\n",
       "    <tr>\n",
       "      <th>0</th>\n",
       "      <td>BJH</td>\n",
       "      <td>St. Louis</td>\n",
       "      <td>BJC</td>\n",
       "      <td>1243</td>\n",
       "      <td>BJH</td>\n",
       "      <td>2016</td>\n",
       "      <td>72348</td>\n",
       "    </tr>\n",
       "    <tr>\n",
       "      <th>1</th>\n",
       "      <td>BJH</td>\n",
       "      <td>St. Louis</td>\n",
       "      <td>BJC</td>\n",
       "      <td>1243</td>\n",
       "      <td>BJH</td>\n",
       "      <td>2017</td>\n",
       "      <td>81221</td>\n",
       "    </tr>\n",
       "    <tr>\n",
       "      <th>2</th>\n",
       "      <td>Mercy STL</td>\n",
       "      <td>Ladue</td>\n",
       "      <td>Mercy</td>\n",
       "      <td>1120</td>\n",
       "      <td>Mercy STL</td>\n",
       "      <td>2016</td>\n",
       "      <td>51932</td>\n",
       "    </tr>\n",
       "    <tr>\n",
       "      <th>3</th>\n",
       "      <td>Mercy STL</td>\n",
       "      <td>Ladue</td>\n",
       "      <td>Mercy</td>\n",
       "      <td>1120</td>\n",
       "      <td>Mercy STL</td>\n",
       "      <td>2017</td>\n",
       "      <td>52221</td>\n",
       "    </tr>\n",
       "    <tr>\n",
       "      <th>4</th>\n",
       "      <td>MoBap</td>\n",
       "      <td>Ladue</td>\n",
       "      <td>BJC</td>\n",
       "      <td>443</td>\n",
       "      <td>MoBap</td>\n",
       "      <td>2017</td>\n",
       "      <td>43921</td>\n",
       "    </tr>\n",
       "  </tbody>\n",
       "</table>\n",
       "</div>"
      ],
      "text/plain": [
       "  hospital_name       city system_name  beds hospital_name  year  ed_visits\n",
       "0           BJH  St. Louis         BJC  1243           BJH  2016      72348\n",
       "1           BJH  St. Louis         BJC  1243           BJH  2017      81221\n",
       "2     Mercy STL      Ladue       Mercy  1120     Mercy STL  2016      51932\n",
       "3     Mercy STL      Ladue       Mercy  1120     Mercy STL  2017      52221\n",
       "4         MoBap      Ladue         BJC   443         MoBap  2017      43921"
      ]
     },
     "execution_count": 13,
     "metadata": {},
     "output_type": "execute_result"
    }
   ],
   "source": [
    "pd.read_sql_query(\"\"\"\n",
    "  SELECT h.*, v.*\n",
    "  FROM \n",
    "    hospitals h JOIN\n",
    "    ed_visits v ON h.hospital_name = v.hospital_name\n",
    "  WHERE\n",
    "    v.ed_visits > 43000\n",
    "\"\"\", conn)"
   ]
  },
  {
   "cell_type": "code",
   "execution_count": null,
   "metadata": {},
   "outputs": [],
   "source": [
    "hospitals = tables['population'].merge(tables['system_affiliations'])"
   ]
  },
  {
   "cell_type": "markdown",
   "metadata": {},
   "source": [
    "Now, let's use SQL to pivot that so that we can see 2016 and 2017 in two separate columns..."
   ]
  },
  {
   "cell_type": "markdown",
   "metadata": {},
   "source": [
    "# ..."
   ]
  },
  {
   "cell_type": "markdown",
   "metadata": {},
   "source": [
    "Come on.  Let's do it?"
   ]
  },
  {
   "cell_type": "markdown",
   "metadata": {},
   "source": [
    "# ..."
   ]
  },
  {
   "cell_type": "markdown",
   "metadata": {},
   "source": [
    "Oh.  That isn't supported.  :("
   ]
  },
  {
   "cell_type": "markdown",
   "metadata": {},
   "source": [
    "## Let's try with Pandas"
   ]
  },
  {
   "cell_type": "code",
   "execution_count": 14,
   "metadata": {},
   "outputs": [],
   "source": [
    "visits = tables['hospitals'].merge(tables['ed_visits'])"
   ]
  },
  {
   "cell_type": "code",
   "execution_count": 15,
   "metadata": {},
   "outputs": [
    {
     "data": {
      "text/html": [
       "<div>\n",
       "<style scoped>\n",
       "    .dataframe tbody tr th:only-of-type {\n",
       "        vertical-align: middle;\n",
       "    }\n",
       "\n",
       "    .dataframe tbody tr th {\n",
       "        vertical-align: top;\n",
       "    }\n",
       "\n",
       "    .dataframe thead th {\n",
       "        text-align: right;\n",
       "    }\n",
       "</style>\n",
       "<table border=\"1\" class=\"dataframe\">\n",
       "  <thead>\n",
       "    <tr style=\"text-align: right;\">\n",
       "      <th></th>\n",
       "      <th>hospital_name</th>\n",
       "      <th>city</th>\n",
       "      <th>system_name</th>\n",
       "      <th>beds</th>\n",
       "      <th>year</th>\n",
       "      <th>ed_visits</th>\n",
       "    </tr>\n",
       "  </thead>\n",
       "  <tbody>\n",
       "    <tr>\n",
       "      <th>0</th>\n",
       "      <td>BJH</td>\n",
       "      <td>St. Louis</td>\n",
       "      <td>BJC</td>\n",
       "      <td>1243</td>\n",
       "      <td>2016</td>\n",
       "      <td>72348</td>\n",
       "    </tr>\n",
       "    <tr>\n",
       "      <th>1</th>\n",
       "      <td>BJH</td>\n",
       "      <td>St. Louis</td>\n",
       "      <td>BJC</td>\n",
       "      <td>1243</td>\n",
       "      <td>2017</td>\n",
       "      <td>81221</td>\n",
       "    </tr>\n",
       "    <tr>\n",
       "      <th>2</th>\n",
       "      <td>Mercy STL</td>\n",
       "      <td>Ladue</td>\n",
       "      <td>Mercy</td>\n",
       "      <td>1120</td>\n",
       "      <td>2016</td>\n",
       "      <td>51932</td>\n",
       "    </tr>\n",
       "    <tr>\n",
       "      <th>3</th>\n",
       "      <td>Mercy STL</td>\n",
       "      <td>Ladue</td>\n",
       "      <td>Mercy</td>\n",
       "      <td>1120</td>\n",
       "      <td>2017</td>\n",
       "      <td>52221</td>\n",
       "    </tr>\n",
       "    <tr>\n",
       "      <th>4</th>\n",
       "      <td>MoBap</td>\n",
       "      <td>Ladue</td>\n",
       "      <td>BJC</td>\n",
       "      <td>443</td>\n",
       "      <td>2016</td>\n",
       "      <td>42983</td>\n",
       "    </tr>\n",
       "    <tr>\n",
       "      <th>5</th>\n",
       "      <td>MoBap</td>\n",
       "      <td>Ladue</td>\n",
       "      <td>BJC</td>\n",
       "      <td>443</td>\n",
       "      <td>2017</td>\n",
       "      <td>43921</td>\n",
       "    </tr>\n",
       "  </tbody>\n",
       "</table>\n",
       "</div>"
      ],
      "text/plain": [
       "  hospital_name       city system_name  beds  year  ed_visits\n",
       "0           BJH  St. Louis         BJC  1243  2016      72348\n",
       "1           BJH  St. Louis         BJC  1243  2017      81221\n",
       "2     Mercy STL      Ladue       Mercy  1120  2016      51932\n",
       "3     Mercy STL      Ladue       Mercy  1120  2017      52221\n",
       "4         MoBap      Ladue         BJC   443  2016      42983\n",
       "5         MoBap      Ladue         BJC   443  2017      43921"
      ]
     },
     "execution_count": 15,
     "metadata": {},
     "output_type": "execute_result"
    }
   ],
   "source": [
    "visits"
   ]
  },
  {
   "cell_type": "code",
   "execution_count": 16,
   "metadata": {},
   "outputs": [],
   "source": [
    "visits = visits[visits['ed_visits'] > 43000]"
   ]
  },
  {
   "cell_type": "code",
   "execution_count": 17,
   "metadata": {},
   "outputs": [
    {
     "data": {
      "text/html": [
       "<div>\n",
       "<style scoped>\n",
       "    .dataframe tbody tr th:only-of-type {\n",
       "        vertical-align: middle;\n",
       "    }\n",
       "\n",
       "    .dataframe tbody tr th {\n",
       "        vertical-align: top;\n",
       "    }\n",
       "\n",
       "    .dataframe thead th {\n",
       "        text-align: right;\n",
       "    }\n",
       "</style>\n",
       "<table border=\"1\" class=\"dataframe\">\n",
       "  <thead>\n",
       "    <tr style=\"text-align: right;\">\n",
       "      <th></th>\n",
       "      <th>hospital_name</th>\n",
       "      <th>city</th>\n",
       "      <th>system_name</th>\n",
       "      <th>beds</th>\n",
       "      <th>year</th>\n",
       "      <th>ed_visits</th>\n",
       "    </tr>\n",
       "  </thead>\n",
       "  <tbody>\n",
       "    <tr>\n",
       "      <th>0</th>\n",
       "      <td>BJH</td>\n",
       "      <td>St. Louis</td>\n",
       "      <td>BJC</td>\n",
       "      <td>1243</td>\n",
       "      <td>2016</td>\n",
       "      <td>72348</td>\n",
       "    </tr>\n",
       "    <tr>\n",
       "      <th>1</th>\n",
       "      <td>BJH</td>\n",
       "      <td>St. Louis</td>\n",
       "      <td>BJC</td>\n",
       "      <td>1243</td>\n",
       "      <td>2017</td>\n",
       "      <td>81221</td>\n",
       "    </tr>\n",
       "    <tr>\n",
       "      <th>2</th>\n",
       "      <td>Mercy STL</td>\n",
       "      <td>Ladue</td>\n",
       "      <td>Mercy</td>\n",
       "      <td>1120</td>\n",
       "      <td>2016</td>\n",
       "      <td>51932</td>\n",
       "    </tr>\n",
       "    <tr>\n",
       "      <th>3</th>\n",
       "      <td>Mercy STL</td>\n",
       "      <td>Ladue</td>\n",
       "      <td>Mercy</td>\n",
       "      <td>1120</td>\n",
       "      <td>2017</td>\n",
       "      <td>52221</td>\n",
       "    </tr>\n",
       "    <tr>\n",
       "      <th>5</th>\n",
       "      <td>MoBap</td>\n",
       "      <td>Ladue</td>\n",
       "      <td>BJC</td>\n",
       "      <td>443</td>\n",
       "      <td>2017</td>\n",
       "      <td>43921</td>\n",
       "    </tr>\n",
       "  </tbody>\n",
       "</table>\n",
       "</div>"
      ],
      "text/plain": [
       "  hospital_name       city system_name  beds  year  ed_visits\n",
       "0           BJH  St. Louis         BJC  1243  2016      72348\n",
       "1           BJH  St. Louis         BJC  1243  2017      81221\n",
       "2     Mercy STL      Ladue       Mercy  1120  2016      51932\n",
       "3     Mercy STL      Ladue       Mercy  1120  2017      52221\n",
       "5         MoBap      Ladue         BJC   443  2017      43921"
      ]
     },
     "execution_count": 17,
     "metadata": {},
     "output_type": "execute_result"
    }
   ],
   "source": [
    "visits"
   ]
  },
  {
   "cell_type": "code",
   "execution_count": 18,
   "metadata": {},
   "outputs": [
    {
     "data": {
      "text/html": [
       "<div>\n",
       "<style scoped>\n",
       "    .dataframe tbody tr th:only-of-type {\n",
       "        vertical-align: middle;\n",
       "    }\n",
       "\n",
       "    .dataframe tbody tr th {\n",
       "        vertical-align: top;\n",
       "    }\n",
       "\n",
       "    .dataframe thead th {\n",
       "        text-align: right;\n",
       "    }\n",
       "</style>\n",
       "<table border=\"1\" class=\"dataframe\">\n",
       "  <thead>\n",
       "    <tr style=\"text-align: right;\">\n",
       "      <th>year</th>\n",
       "      <th>hospital_name</th>\n",
       "      <th>city</th>\n",
       "      <th>system_name</th>\n",
       "      <th>beds</th>\n",
       "      <th>2016</th>\n",
       "      <th>2017</th>\n",
       "    </tr>\n",
       "  </thead>\n",
       "  <tbody>\n",
       "    <tr>\n",
       "      <th>0</th>\n",
       "      <td>BJH</td>\n",
       "      <td>St. Louis</td>\n",
       "      <td>BJC</td>\n",
       "      <td>1243</td>\n",
       "      <td>72348.0</td>\n",
       "      <td>81221.0</td>\n",
       "    </tr>\n",
       "    <tr>\n",
       "      <th>1</th>\n",
       "      <td>Mercy STL</td>\n",
       "      <td>Ladue</td>\n",
       "      <td>Mercy</td>\n",
       "      <td>1120</td>\n",
       "      <td>51932.0</td>\n",
       "      <td>52221.0</td>\n",
       "    </tr>\n",
       "    <tr>\n",
       "      <th>2</th>\n",
       "      <td>MoBap</td>\n",
       "      <td>Ladue</td>\n",
       "      <td>BJC</td>\n",
       "      <td>443</td>\n",
       "      <td>NaN</td>\n",
       "      <td>43921.0</td>\n",
       "    </tr>\n",
       "  </tbody>\n",
       "</table>\n",
       "</div>"
      ],
      "text/plain": [
       "year hospital_name       city system_name  beds     2016     2017\n",
       "0              BJH  St. Louis         BJC  1243  72348.0  81221.0\n",
       "1        Mercy STL      Ladue       Mercy  1120  51932.0  52221.0\n",
       "2            MoBap      Ladue         BJC   443      NaN  43921.0"
      ]
     },
     "execution_count": 18,
     "metadata": {},
     "output_type": "execute_result"
    }
   ],
   "source": [
    "pd.pivot_table(visits, \n",
    "               index=['hospital_name','city','system_name','beds'], \n",
    "               columns='year', \n",
    "               values='ed_visits').reset_index()"
   ]
  },
  {
   "cell_type": "markdown",
   "metadata": {},
   "source": [
    "## OK.  We can do it in SQL...\n",
    "\n",
    "But can you figure out why this is a bad idea?"
   ]
  },
  {
   "cell_type": "code",
   "execution_count": 19,
   "metadata": {},
   "outputs": [
    {
     "data": {
      "text/html": [
       "<div>\n",
       "<style scoped>\n",
       "    .dataframe tbody tr th:only-of-type {\n",
       "        vertical-align: middle;\n",
       "    }\n",
       "\n",
       "    .dataframe tbody tr th {\n",
       "        vertical-align: top;\n",
       "    }\n",
       "\n",
       "    .dataframe thead th {\n",
       "        text-align: right;\n",
       "    }\n",
       "</style>\n",
       "<table border=\"1\" class=\"dataframe\">\n",
       "  <thead>\n",
       "    <tr style=\"text-align: right;\">\n",
       "      <th></th>\n",
       "      <th>hospital_name</th>\n",
       "      <th>city</th>\n",
       "      <th>system_name</th>\n",
       "      <th>beds</th>\n",
       "      <th>year</th>\n",
       "      <th>visits_2016</th>\n",
       "      <th>visits_2017</th>\n",
       "    </tr>\n",
       "  </thead>\n",
       "  <tbody>\n",
       "    <tr>\n",
       "      <th>0</th>\n",
       "      <td>BJH</td>\n",
       "      <td>St. Louis</td>\n",
       "      <td>BJC</td>\n",
       "      <td>1243</td>\n",
       "      <td>2016</td>\n",
       "      <td>72348.0</td>\n",
       "      <td>NaN</td>\n",
       "    </tr>\n",
       "    <tr>\n",
       "      <th>1</th>\n",
       "      <td>BJH</td>\n",
       "      <td>St. Louis</td>\n",
       "      <td>BJC</td>\n",
       "      <td>1243</td>\n",
       "      <td>2017</td>\n",
       "      <td>NaN</td>\n",
       "      <td>81221.0</td>\n",
       "    </tr>\n",
       "    <tr>\n",
       "      <th>2</th>\n",
       "      <td>Mercy STL</td>\n",
       "      <td>Ladue</td>\n",
       "      <td>Mercy</td>\n",
       "      <td>1120</td>\n",
       "      <td>2016</td>\n",
       "      <td>51932.0</td>\n",
       "      <td>NaN</td>\n",
       "    </tr>\n",
       "    <tr>\n",
       "      <th>3</th>\n",
       "      <td>Mercy STL</td>\n",
       "      <td>Ladue</td>\n",
       "      <td>Mercy</td>\n",
       "      <td>1120</td>\n",
       "      <td>2017</td>\n",
       "      <td>NaN</td>\n",
       "      <td>52221.0</td>\n",
       "    </tr>\n",
       "    <tr>\n",
       "      <th>4</th>\n",
       "      <td>MoBap</td>\n",
       "      <td>Ladue</td>\n",
       "      <td>BJC</td>\n",
       "      <td>443</td>\n",
       "      <td>2017</td>\n",
       "      <td>NaN</td>\n",
       "      <td>43921.0</td>\n",
       "    </tr>\n",
       "  </tbody>\n",
       "</table>\n",
       "</div>"
      ],
      "text/plain": [
       "  hospital_name       city system_name  beds  year  visits_2016  visits_2017\n",
       "0           BJH  St. Louis         BJC  1243  2016      72348.0          NaN\n",
       "1           BJH  St. Louis         BJC  1243  2017          NaN      81221.0\n",
       "2     Mercy STL      Ladue       Mercy  1120  2016      51932.0          NaN\n",
       "3     Mercy STL      Ladue       Mercy  1120  2017          NaN      52221.0\n",
       "4         MoBap      Ladue         BJC   443  2017          NaN      43921.0"
      ]
     },
     "execution_count": 19,
     "metadata": {},
     "output_type": "execute_result"
    }
   ],
   "source": [
    "pd.read_sql_query(\"\"\"\n",
    "  SELECT \n",
    "    h.*, v.year, \n",
    "    CASE WHEN v.year = 2016 THEN v.ed_visits ELSE NULL END as visits_2016,\n",
    "    CASE WHEN v.year = 2017 THEN v.ed_visits ELSE NULL END as visits_2017\n",
    "  FROM \n",
    "    hospitals h JOIN\n",
    "    ed_visits v ON h.hospital_name = v.hospital_name\n",
    "  WHERE\n",
    "    v.ed_visits > 43000\n",
    "\"\"\", conn)"
   ]
  },
  {
   "cell_type": "code",
   "execution_count": 20,
   "metadata": {},
   "outputs": [
    {
     "data": {
      "text/html": [
       "<div>\n",
       "<style scoped>\n",
       "    .dataframe tbody tr th:only-of-type {\n",
       "        vertical-align: middle;\n",
       "    }\n",
       "\n",
       "    .dataframe tbody tr th {\n",
       "        vertical-align: top;\n",
       "    }\n",
       "\n",
       "    .dataframe thead th {\n",
       "        text-align: right;\n",
       "    }\n",
       "</style>\n",
       "<table border=\"1\" class=\"dataframe\">\n",
       "  <thead>\n",
       "    <tr style=\"text-align: right;\">\n",
       "      <th></th>\n",
       "      <th>hospital_name</th>\n",
       "      <th>city</th>\n",
       "      <th>system_name</th>\n",
       "      <th>beds</th>\n",
       "      <th>visits_2016</th>\n",
       "      <th>visits_2017</th>\n",
       "    </tr>\n",
       "  </thead>\n",
       "  <tbody>\n",
       "    <tr>\n",
       "      <th>0</th>\n",
       "      <td>BJH</td>\n",
       "      <td>St. Louis</td>\n",
       "      <td>BJC</td>\n",
       "      <td>1243</td>\n",
       "      <td>72348.0</td>\n",
       "      <td>81221</td>\n",
       "    </tr>\n",
       "    <tr>\n",
       "      <th>1</th>\n",
       "      <td>Mercy STL</td>\n",
       "      <td>Ladue</td>\n",
       "      <td>Mercy</td>\n",
       "      <td>1120</td>\n",
       "      <td>51932.0</td>\n",
       "      <td>52221</td>\n",
       "    </tr>\n",
       "    <tr>\n",
       "      <th>2</th>\n",
       "      <td>MoBap</td>\n",
       "      <td>Ladue</td>\n",
       "      <td>BJC</td>\n",
       "      <td>443</td>\n",
       "      <td>NaN</td>\n",
       "      <td>43921</td>\n",
       "    </tr>\n",
       "  </tbody>\n",
       "</table>\n",
       "</div>"
      ],
      "text/plain": [
       "  hospital_name       city system_name  beds  visits_2016  visits_2017\n",
       "0           BJH  St. Louis         BJC  1243      72348.0        81221\n",
       "1     Mercy STL      Ladue       Mercy  1120      51932.0        52221\n",
       "2         MoBap      Ladue         BJC   443          NaN        43921"
      ]
     },
     "execution_count": 20,
     "metadata": {},
     "output_type": "execute_result"
    }
   ],
   "source": [
    "pd.read_sql_query(\"\"\"\n",
    "  SELECT \n",
    "    h.*, \n",
    "    MIN(CASE WHEN v.year = 2016 THEN v.ed_visits ELSE NULL END) as visits_2016,\n",
    "    MIN(CASE WHEN v.year = 2017 THEN v.ed_visits ELSE NULL END) as visits_2017\n",
    "  FROM \n",
    "    hospitals h JOIN\n",
    "    ed_visits v ON h.hospital_name = v.hospital_name\n",
    "  WHERE\n",
    "    v.ed_visits > 43000\n",
    "  GROUP BY \n",
    "    h.hospital_name, h.city, h.system_name, h.beds\n",
    "\"\"\", conn)"
   ]
  },
  {
   "cell_type": "markdown",
   "metadata": {},
   "source": [
    "## Now, let's create some new data from scratch\n",
    "\n",
    "1. Create a dataframe\n",
    "2. Use a name that includes your username so that it's unique\n",
    "3. Write the df to a new table\n",
    "4. Query your data back out\n",
    "\n",
    "See https://pandas.pydata.org/pandas-docs/stable/reference/api/pandas.DataFrame.to_sql.html"
   ]
  },
  {
   "cell_type": "code",
   "execution_count": 21,
   "metadata": {},
   "outputs": [],
   "source": [
    "columns = ['hospital_name','year','ip_visits']\n",
    "data = [\n",
    "    ['BJH',2016,3124],\n",
    "    ['Mercy STL',2016,4321],\n",
    "    ['MoBap',2016,2783]\n",
    "]\n",
    "df = pd.DataFrame(data, columns=columns)"
   ]
  },
  {
   "cell_type": "code",
   "execution_count": 22,
   "metadata": {},
   "outputs": [
    {
     "data": {
      "text/html": [
       "<div>\n",
       "<style scoped>\n",
       "    .dataframe tbody tr th:only-of-type {\n",
       "        vertical-align: middle;\n",
       "    }\n",
       "\n",
       "    .dataframe tbody tr th {\n",
       "        vertical-align: top;\n",
       "    }\n",
       "\n",
       "    .dataframe thead th {\n",
       "        text-align: right;\n",
       "    }\n",
       "</style>\n",
       "<table border=\"1\" class=\"dataframe\">\n",
       "  <thead>\n",
       "    <tr style=\"text-align: right;\">\n",
       "      <th></th>\n",
       "      <th>hospital_name</th>\n",
       "      <th>year</th>\n",
       "      <th>ip_visits</th>\n",
       "    </tr>\n",
       "  </thead>\n",
       "  <tbody>\n",
       "    <tr>\n",
       "      <th>0</th>\n",
       "      <td>BJH</td>\n",
       "      <td>2016</td>\n",
       "      <td>3124</td>\n",
       "    </tr>\n",
       "    <tr>\n",
       "      <th>1</th>\n",
       "      <td>Mercy STL</td>\n",
       "      <td>2016</td>\n",
       "      <td>4321</td>\n",
       "    </tr>\n",
       "    <tr>\n",
       "      <th>2</th>\n",
       "      <td>MoBap</td>\n",
       "      <td>2016</td>\n",
       "      <td>2783</td>\n",
       "    </tr>\n",
       "  </tbody>\n",
       "</table>\n",
       "</div>"
      ],
      "text/plain": [
       "  hospital_name  year  ip_visits\n",
       "0           BJH  2016       3124\n",
       "1     Mercy STL  2016       4321\n",
       "2         MoBap  2016       2783"
      ]
     },
     "execution_count": 22,
     "metadata": {},
     "output_type": "execute_result"
    }
   ],
   "source": [
    "df"
   ]
  },
  {
   "cell_type": "code",
   "execution_count": 23,
   "metadata": {},
   "outputs": [
    {
     "data": {
      "text/plain": [
       "'paulboal'"
      ]
     },
     "execution_count": 23,
     "metadata": {},
     "output_type": "execute_result"
    }
   ],
   "source": [
    "import getpass\n",
    "myname = getpass.getuser().split('-')[1]\n",
    "myname"
   ]
  },
  {
   "cell_type": "code",
   "execution_count": 26,
   "metadata": {},
   "outputs": [],
   "source": [
    "df.to_sql(myname + '_ipv', conn, index=False)"
   ]
  },
  {
   "cell_type": "code",
   "execution_count": 27,
   "metadata": {},
   "outputs": [],
   "source": [
    "ip_visits = pd.read_sql_query('SELECT * FROM ' + myname + '_ipv', conn)"
   ]
  },
  {
   "cell_type": "code",
   "execution_count": 28,
   "metadata": {},
   "outputs": [
    {
     "data": {
      "text/html": [
       "<div>\n",
       "<style scoped>\n",
       "    .dataframe tbody tr th:only-of-type {\n",
       "        vertical-align: middle;\n",
       "    }\n",
       "\n",
       "    .dataframe tbody tr th {\n",
       "        vertical-align: top;\n",
       "    }\n",
       "\n",
       "    .dataframe thead th {\n",
       "        text-align: right;\n",
       "    }\n",
       "</style>\n",
       "<table border=\"1\" class=\"dataframe\">\n",
       "  <thead>\n",
       "    <tr style=\"text-align: right;\">\n",
       "      <th></th>\n",
       "      <th>hospital_name</th>\n",
       "      <th>year</th>\n",
       "      <th>ip_visits</th>\n",
       "    </tr>\n",
       "  </thead>\n",
       "  <tbody>\n",
       "    <tr>\n",
       "      <th>0</th>\n",
       "      <td>BJH</td>\n",
       "      <td>2016</td>\n",
       "      <td>3124</td>\n",
       "    </tr>\n",
       "    <tr>\n",
       "      <th>1</th>\n",
       "      <td>Mercy STL</td>\n",
       "      <td>2016</td>\n",
       "      <td>4321</td>\n",
       "    </tr>\n",
       "    <tr>\n",
       "      <th>2</th>\n",
       "      <td>MoBap</td>\n",
       "      <td>2016</td>\n",
       "      <td>2783</td>\n",
       "    </tr>\n",
       "  </tbody>\n",
       "</table>\n",
       "</div>"
      ],
      "text/plain": [
       "  hospital_name  year  ip_visits\n",
       "0           BJH  2016       3124\n",
       "1     Mercy STL  2016       4321\n",
       "2         MoBap  2016       2783"
      ]
     },
     "execution_count": 28,
     "metadata": {},
     "output_type": "execute_result"
    }
   ],
   "source": [
    "ip_visits"
   ]
  },
  {
   "cell_type": "code",
   "execution_count": 31,
   "metadata": {},
   "outputs": [
    {
     "data": {
      "text/html": [
       "<div>\n",
       "<style scoped>\n",
       "    .dataframe tbody tr th:only-of-type {\n",
       "        vertical-align: middle;\n",
       "    }\n",
       "\n",
       "    .dataframe tbody tr th {\n",
       "        vertical-align: top;\n",
       "    }\n",
       "\n",
       "    .dataframe thead th {\n",
       "        text-align: right;\n",
       "    }\n",
       "</style>\n",
       "<table border=\"1\" class=\"dataframe\">\n",
       "  <thead>\n",
       "    <tr style=\"text-align: right;\">\n",
       "      <th></th>\n",
       "      <th>Tables_in_hds5210</th>\n",
       "    </tr>\n",
       "  </thead>\n",
       "  <tbody>\n",
       "    <tr>\n",
       "      <th>0</th>\n",
       "      <td>ed_visits</td>\n",
       "    </tr>\n",
       "    <tr>\n",
       "      <th>1</th>\n",
       "      <td>hospital_services</td>\n",
       "    </tr>\n",
       "    <tr>\n",
       "      <th>2</th>\n",
       "      <td>hospitals</td>\n",
       "    </tr>\n",
       "    <tr>\n",
       "      <th>3</th>\n",
       "      <td>system_affiliations</td>\n",
       "    </tr>\n",
       "  </tbody>\n",
       "</table>\n",
       "</div>"
      ],
      "text/plain": [
       "     Tables_in_hds5210\n",
       "0            ed_visits\n",
       "1    hospital_services\n",
       "2            hospitals\n",
       "3  system_affiliations"
      ]
     },
     "execution_count": 31,
     "metadata": {},
     "output_type": "execute_result"
    }
   ],
   "source": [
    "pd.read_sql_query('SHOW TABLES', conn)"
   ]
  },
  {
   "cell_type": "markdown",
   "metadata": {},
   "source": [
    "## And we need to clean up after ourselves by dropping our table"
   ]
  },
  {
   "cell_type": "code",
   "execution_count": 30,
   "metadata": {},
   "outputs": [],
   "source": [
    "with conn.connect() as c:\n",
    "    c.execute('DROP TABLE IF EXISTS ' + myname + '_ipv')"
   ]
  },
  {
   "cell_type": "code",
   "execution_count": null,
   "metadata": {},
   "outputs": [],
   "source": []
  }
 ],
 "metadata": {
  "kernelspec": {
   "display_name": "Python 3",
   "language": "python",
   "name": "python3"
  },
  "language_info": {
   "codemirror_mode": {
    "name": "ipython",
    "version": 3
   },
   "file_extension": ".py",
   "mimetype": "text/x-python",
   "name": "python",
   "nbconvert_exporter": "python",
   "pygments_lexer": "ipython3",
   "version": "3.6.7"
  }
 },
 "nbformat": 4,
 "nbformat_minor": 2
}
