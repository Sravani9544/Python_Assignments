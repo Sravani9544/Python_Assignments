{
 "cells": [
  {
   "cell_type": "code",
   "execution_count": 2,
   "metadata": {},
   "outputs": [],
   "source": [
    "def xor(a,b):\n",
    "    x = (a and not b) or (b and not a)\n",
    "    return x"
   ]
  },
  {
   "cell_type": "code",
   "execution_count": null,
   "metadata": {},
   "outputs": [],
   "source": []
  },
  {
   "cell_type": "code",
   "execution_count": 3,
   "metadata": {},
   "outputs": [
    {
     "data": {
      "text/plain": [
       "True"
      ]
     },
     "execution_count": 3,
     "metadata": {},
     "output_type": "execute_result"
    }
   ],
   "source": [
    "xor(True, False)"
   ]
  },
  {
   "cell_type": "markdown",
   "metadata": {},
   "source": [
    "if age< 18 then child\n",
    "if age >= 8 then adult"
   ]
  },
  {
   "cell_type": "code",
   "execution_count": 4,
   "metadata": {},
   "outputs": [],
   "source": [
    "def is_child(age):\n",
    "    return age<18"
   ]
  },
  {
   "cell_type": "code",
   "execution_count": 5,
   "metadata": {},
   "outputs": [
    {
     "data": {
      "text/plain": [
       "True"
      ]
     },
     "execution_count": 5,
     "metadata": {},
     "output_type": "execute_result"
    }
   ],
   "source": [
    "is_child(17)"
   ]
  },
  {
   "cell_type": "code",
   "execution_count": 6,
   "metadata": {},
   "outputs": [
    {
     "data": {
      "text/plain": [
       "False"
      ]
     },
     "execution_count": 6,
     "metadata": {},
     "output_type": "execute_result"
    }
   ],
   "source": [
    "is_child(83)"
   ]
  },
  {
   "cell_type": "code",
   "execution_count": 7,
   "metadata": {},
   "outputs": [
    {
     "data": {
      "text/plain": [
       "False"
      ]
     },
     "execution_count": 7,
     "metadata": {},
     "output_type": "execute_result"
    }
   ],
   "source": [
    "is_child(18)"
   ]
  },
  {
   "cell_type": "markdown",
   "metadata": {},
   "source": [
    "'''\n",
    "* => 65 -->retired\n",
    "* => 18 and < 65 --> Adult\n",
    "* < 18 and >=5 --> child\n",
    "* <5 --> toddler\n",
    "'''"
   ]
  },
  {
   "cell_type": "code",
   "execution_count": 8,
   "metadata": {},
   "outputs": [],
   "source": [
    "def age_category(age):\n",
    "    category = 'blank'\n",
    "    if age < 5:\n",
    "        category = \"toddler\"\n",
    "    elif age <18 and age >= 5:\n",
    "        category = \"Child\"\n",
    "    elif age >= 18 and age <65:\n",
    "        category = \"Adult\"\n",
    "    else:\n",
    "        category = \"retired\"\n",
    "    return category"
   ]
  },
  {
   "cell_type": "code",
   "execution_count": 9,
   "metadata": {},
   "outputs": [
    {
     "name": "stdout",
     "output_type": "stream",
     "text": [
      "toddler\n",
      "Child\n",
      "Adult\n",
      "retired\n"
     ]
    }
   ],
   "source": [
    "print(age_category(4))\n",
    "print(age_category(17))\n",
    "print(age_category(20))\n",
    "print(age_category(80))"
   ]
  },
  {
   "cell_type": "code",
   "execution_count": 10,
   "metadata": {},
   "outputs": [],
   "source": [
    "# \"adult id age>=18\" ternary operator \n",
    "def is_adult(age):\n",
    "    return 'Adult' if age >=18 else \"Child\""
   ]
  },
  {
   "cell_type": "code",
   "execution_count": 11,
   "metadata": {},
   "outputs": [
    {
     "data": {
      "text/plain": [
       "'Adult'"
      ]
     },
     "execution_count": 11,
     "metadata": {},
     "output_type": "execute_result"
    }
   ],
   "source": [
    "is_adult(19)"
   ]
  },
  {
   "cell_type": "code",
   "execution_count": 12,
   "metadata": {},
   "outputs": [
    {
     "data": {
      "text/plain": [
       "'Child'"
      ]
     },
     "execution_count": 12,
     "metadata": {},
     "output_type": "execute_result"
    }
   ],
   "source": [
    "is_adult(5)"
   ]
  },
  {
   "cell_type": "code",
   "execution_count": 14,
   "metadata": {},
   "outputs": [
    {
     "name": "stdout",
     "output_type": "stream",
     "text": [
      "a\n",
      "e\n",
      "i\n",
      "o\n",
      "u\n",
      "sometimes y\n"
     ]
    }
   ],
   "source": [
    "for vowel in ['a', 'e', 'i', 'o', 'u', 'y']:\n",
    "    if vowel == 'y':\n",
    "        print('sometimes y')\n",
    "    else:\n",
    "        print(vowel)"
   ]
  },
  {
   "cell_type": "code",
   "execution_count": 19,
   "metadata": {},
   "outputs": [
    {
     "name": "stdout",
     "output_type": "stream",
     "text": [
      "ais the1vowel\n",
      "eis the2vowel\n",
      "iis the3vowel\n",
      "ois the4vowel\n",
      "uis the5vowel\n",
      "yis the6vowel\n"
     ]
    }
   ],
   "source": [
    "for number, vowel in enumerate(['a', 'e', 'i', 'o', 'u', 'y']):\n",
    "    print(vowel+  'is the' + str(number+1) + 'vowel')"
   ]
  },
  {
   "cell_type": "code",
   "execution_count": 21,
   "metadata": {},
   "outputs": [
    {
     "name": "stdout",
     "output_type": "stream",
     "text": [
      "Someone with the age of 1 is a Child\n",
      "Someone with the age of 6 is a Child\n",
      "Someone with the age of 11 is a Child\n",
      "Someone with the age of 16 is a Child\n",
      "Someone with the age of 21 is a Adult\n",
      "Someone with the age of 26 is a Adult\n",
      "Someone with the age of 31 is a Adult\n",
      "Someone with the age of 36 is a Adult\n",
      "Someone with the age of 41 is a Adult\n",
      "Someone with the age of 46 is a Adult\n",
      "Someone with the age of 51 is a Adult\n",
      "Someone with the age of 56 is a Adult\n",
      "Someone with the age of 61 is a Adult\n",
      "Someone with the age of 66 is a Adult\n",
      "Someone with the age of 71 is a Adult\n",
      "Someone with the age of 76 is a Adult\n",
      "Someone with the age of 81 is a Adult\n",
      "Someone with the age of 86 is a Adult\n",
      "Someone with the age of 91 is a Adult\n",
      "Someone with the age of 96 is a Adult\n"
     ]
    }
   ],
   "source": [
    "for age in range(1, 101, 5):\n",
    "    print('Someone with the age of {} is a {}'.format(age, is_adult(age)))"
   ]
  },
  {
   "cell_type": "code",
   "execution_count": 23,
   "metadata": {},
   "outputs": [
    {
     "name": "stdout",
     "output_type": "stream",
     "text": [
      "10\n",
      "9\n",
      "8\n",
      "7\n",
      "6\n",
      "5\n",
      "4\n",
      "3\n"
     ]
    }
   ],
   "source": [
    "for n in range(10, 2, -1):\n",
    "    print(n)"
   ]
  },
  {
   "cell_type": "code",
   "execution_count": 24,
   "metadata": {},
   "outputs": [
    {
     "ename": "TypeError",
     "evalue": "'float' object cannot be interpreted as an integer",
     "output_type": "error",
     "traceback": [
      "\u001b[0;31m---------------------------------------------------------------------------\u001b[0m",
      "\u001b[0;31mTypeError\u001b[0m                                 Traceback (most recent call last)",
      "\u001b[0;32m<ipython-input-24-03599eaeec7a>\u001b[0m in \u001b[0;36m<module>\u001b[0;34m\u001b[0m\n\u001b[0;32m----> 1\u001b[0;31m \u001b[0;32mfor\u001b[0m \u001b[0mn\u001b[0m \u001b[0;32min\u001b[0m \u001b[0mrange\u001b[0m\u001b[0;34m(\u001b[0m\u001b[0;36m1\u001b[0m\u001b[0;34m,\u001b[0m \u001b[0;36m10\u001b[0m\u001b[0;34m,\u001b[0m \u001b[0;36m0.5\u001b[0m\u001b[0;34m)\u001b[0m\u001b[0;34m:\u001b[0m\u001b[0;34m\u001b[0m\u001b[0;34m\u001b[0m\u001b[0m\n\u001b[0m\u001b[1;32m      2\u001b[0m     \u001b[0mprint\u001b[0m\u001b[0;34m(\u001b[0m\u001b[0mn\u001b[0m\u001b[0;34m)\u001b[0m\u001b[0;34m\u001b[0m\u001b[0;34m\u001b[0m\u001b[0m\n",
      "\u001b[0;31mTypeError\u001b[0m: 'float' object cannot be interpreted as an integer"
     ]
    }
   ],
   "source": [
    "for n in range(1, 10, 0.5):\n",
    "    print(n)"
   ]
  },
  {
   "cell_type": "code",
   "execution_count": 25,
   "metadata": {},
   "outputs": [
    {
     "name": "stdout",
     "output_type": "stream",
     "text": [
      "0.5\n",
      "1.0\n",
      "1.5\n",
      "2.0\n",
      "2.5\n",
      "3.0\n",
      "3.5\n",
      "4.0\n",
      "4.5\n",
      "5.0\n",
      "5.5\n",
      "6.0\n",
      "6.5\n",
      "7.0\n",
      "7.5\n",
      "8.0\n",
      "8.5\n",
      "9.0\n",
      "9.5\n"
     ]
    }
   ],
   "source": [
    "for n in range(1, 20, 1):\n",
    "    print(n/2)"
   ]
  },
  {
   "cell_type": "code",
   "execution_count": 26,
   "metadata": {},
   "outputs": [
    {
     "name": "stdout",
     "output_type": "stream",
     "text": [
      "put item #0 on and the truck weighs90 lbs\n",
      "put item #1 on and the truck weighs220 lbs\n",
      "put item #2 on and the truck weighs308 lbs\n",
      "put item #3 on and the truck weighs428 lbs\n"
     ]
    }
   ],
   "source": [
    "# if the truck can carry 400 pounds, how many boxes can it hold?\n",
    "boxes = [90, 130, 88, 120, 78, 25, 62]\n",
    "total = 0 \n",
    "item = 0\n",
    "while (total <= 400):\n",
    "    total += boxes[item]\n",
    "    print(\"put item #{} on and the truck weighs{} lbs\".format(item, total))\n",
    "    item += 1\n",
    "    "
   ]
  },
  {
   "cell_type": "code",
   "execution_count": 27,
   "metadata": {},
   "outputs": [
    {
     "name": "stdout",
     "output_type": "stream",
     "text": [
      "put item #0 on and the truck weighs90 lbs\n",
      "put item #1 on and the truck weighs220 lbs\n",
      "put item #2 on and the truck weighs308 lbs\n"
     ]
    }
   ],
   "source": [
    "boxes = [90, 130, 88, 120, 78, 25, 62]\n",
    "total = 0 \n",
    "item = 0\n",
    "while (total + boxes[item] <= 400):\n",
    "    total += boxes[item]\n",
    "    print(\"put item #{} on and the truck weighs{} lbs\".format(item, total))\n",
    "    item += 1\n",
    "    "
   ]
  },
  {
   "cell_type": "code",
   "execution_count": 29,
   "metadata": {},
   "outputs": [
    {
     "name": "stdout",
     "output_type": "stream",
     "text": [
      "put item #0 on and the truck weighs90 lbs\n",
      "put item #1 on and the truck weighs220 lbs\n",
      "put item #2 on and the truck weighs308 lbs\n",
      "put item #3 on and the truck weighs428 lbs\n",
      "put item #4 on and the truck weighs506 lbs\n",
      "put item #5 on and the truck weighs531 lbs\n",
      "put item #6 on and the truck weighs593 lbs\n"
     ]
    }
   ],
   "source": [
    "boxes = [90, 130, 88, 120, 78, 25, 62]\n",
    "total = 0 \n",
    "item = 0\n",
    "while (total + boxes[item] <= 2000):\n",
    "    total += boxes[item]\n",
    "    print(\"put item #{} on and the truck weighs{} lbs\".format(item, total))\n",
    "    item += 1\n",
    "    if item >= len(boxes):\n",
    "        break\n",
    "    "
   ]
  },
  {
   "cell_type": "code",
   "execution_count": 31,
   "metadata": {},
   "outputs": [
    {
     "name": "stdout",
     "output_type": "stream",
     "text": [
      "put item #0 on and the truck weighs 683 lbs\n",
      "put item #1 on and the truck weighs 813 lbs\n",
      "put item #2 on and the truck weighs 901 lbs\n",
      "put item #3 on and the truck weighs 1021 lbs\n",
      "put item #4 on and the truck weighs 1099 lbs\n",
      "put item #5 on and the truck weighs 1124 lbs\n",
      "put item #6 on and the truck weighs 1186 lbs\n"
     ]
    }
   ],
   "source": [
    "boxes = [90, 130, 88, 120, 78, 25, 62]\n",
    "for item, box in enumerate(boxes):\n",
    "    if total + box > 2000:\n",
    "        break\n",
    "    else:\n",
    "        total += box\n",
    "        print('put item #{} on and the truck weighs {} lbs'.format(item, total))"
   ]
  },
  {
   "cell_type": "code",
   "execution_count": null,
   "metadata": {},
   "outputs": [],
   "source": []
  }
 ],
 "metadata": {
  "kernelspec": {
   "display_name": "Python 3",
   "language": "python",
   "name": "python3"
  },
  "language_info": {
   "codemirror_mode": {
    "name": "ipython",
    "version": 3
   },
   "file_extension": ".py",
   "mimetype": "text/x-python",
   "name": "python",
   "nbconvert_exporter": "python",
   "pygments_lexer": "ipython3",
   "version": "3.6.7"
  }
 },
 "nbformat": 4,
 "nbformat_minor": 4
}
