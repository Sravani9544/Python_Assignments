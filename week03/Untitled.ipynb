{
 "cells": [
  {
   "cell_type": "code",
   "execution_count": 1,
   "metadata": {},
   "outputs": [],
   "source": [
    "status = True\n",
    "\n",
    "while (status):\n",
    "    status =  False\n",
    "\n",
    "while (status):\n",
    "    status = True\n",
    "    print(\"The status is now true\")"
   ]
  },
  {
   "cell_type": "code",
   "execution_count": 2,
   "metadata": {},
   "outputs": [
    {
     "name": "stdout",
     "output_type": "stream",
     "text": [
      "-1\n",
      "0\n"
     ]
    }
   ],
   "source": [
    "for value in range(-1,1,1):\n",
    "    print(value)"
   ]
  },
  {
   "cell_type": "code",
   "execution_count": 3,
   "metadata": {},
   "outputs": [],
   "source": [
    "for value in range(8,10,-2):\n",
    "    print(value)"
   ]
  },
  {
   "cell_type": "code",
   "execution_count": 4,
   "metadata": {},
   "outputs": [],
   "source": [
    "def label(age, gender):\n",
    "    return (\n",
    "        ('young ' if age < 18 else ('retired ' if age > 65 else '')) + \n",
    "        ('lady' if gender == 'female' else 'guy')\n",
    "    )"
   ]
  },
  {
   "cell_type": "code",
   "execution_count": 5,
   "metadata": {},
   "outputs": [
    {
     "data": {
      "text/plain": [
       "'retired guy'"
      ]
     },
     "execution_count": 5,
     "metadata": {},
     "output_type": "execute_result"
    }
   ],
   "source": [
    "label(67, 'male')"
   ]
  },
  {
   "cell_type": "code",
   "execution_count": 6,
   "metadata": {},
   "outputs": [
    {
     "data": {
      "text/plain": [
       "'lady'"
      ]
     },
     "execution_count": 6,
     "metadata": {},
     "output_type": "execute_result"
    }
   ],
   "source": [
    "label(18, 'female') \n"
   ]
  },
  {
   "cell_type": "code",
   "execution_count": 7,
   "metadata": {},
   "outputs": [
    {
     "data": {
      "text/plain": [
       "'young lady'"
      ]
     },
     "execution_count": 7,
     "metadata": {},
     "output_type": "execute_result"
    }
   ],
   "source": [
    "label(4, 'female') \n"
   ]
  },
  {
   "cell_type": "code",
   "execution_count": 8,
   "metadata": {},
   "outputs": [
    {
     "data": {
      "text/plain": [
       "'guy'"
      ]
     },
     "execution_count": 8,
     "metadata": {},
     "output_type": "execute_result"
    }
   ],
   "source": [
    "label(65, 'male') "
   ]
  },
  {
   "cell_type": "code",
   "execution_count": 9,
   "metadata": {},
   "outputs": [
    {
     "name": "stdout",
     "output_type": "stream",
     "text": [
      "sleet\n"
     ]
    }
   ],
   "source": [
    "temp = 22\n",
    "precipitation = 'wet'\n",
    "\n",
    "if precipitation != 'wet':\n",
    "    weather = 'dry'\n",
    "else:\n",
    "    if temp > 32:\n",
    "        weather = 'rain'\n",
    "    elif temp < 32:\n",
    "        weather = 'sleet'\n",
    "    elif temp < 28:\n",
    "        weather = 'mix'\n",
    "    else:\n",
    "        weather = 'snow'\n",
    "\n",
    "print(weather)"
   ]
  },
  {
   "cell_type": "code",
   "execution_count": 22,
   "metadata": {},
   "outputs": [],
   "source": [
    "def LACE(length_of_stay, acute_flag, charlson, ed_visits):\n",
    "    score1 = 0\n",
    "    if (length_of_stay <= 3):\n",
    "        length_of_stay = score1\n",
    "    elif (length_of_stay >= 4 and length_of_stay <= 6):\n",
    "        score1 = 4\n",
    "    elif (length_of_stay >=7 and length_of_stay <= 13):\n",
    "        score1 = 5\n",
    "    elif (length_of_stay >= 14):\n",
    "        score1 = 7\n",
    "    else:\n",
    "        score1 = 0\n",
    "    return score1"
   ]
  },
  {
   "cell_type": "code",
   "execution_count": 53,
   "metadata": {},
   "outputs": [],
   "source": [
    "def LACE(length_of_stay, acute_flag, charlson, ed_visits):\n",
    "    x = 0\n",
    "    if(x>0 or x <4):\n",
    "        return x\n",
    "    elif(x>= 4 or x<7):\n",
    "        x = 4\n",
    "        return x\n",
    "    elif(x>= 7 and x<14):\n",
    "        x = 5\n",
    "        return x\n",
    "   \n",
    "    else:\n",
    "        x = 7\n",
    "        return x\n",
    "        return 0\n",
    "    return x"
   ]
  },
  {
   "cell_type": "code",
   "execution_count": 54,
   "metadata": {},
   "outputs": [
    {
     "data": {
      "text/plain": [
       "0"
      ]
     },
     "execution_count": 54,
     "metadata": {},
     "output_type": "execute_result"
    }
   ],
   "source": [
    "LACE(2, False, 0, 0)"
   ]
  },
  {
   "cell_type": "code",
   "execution_count": 46,
   "metadata": {},
   "outputs": [],
   "source": [
    "def LACE(length_of_stay, acute_flag, charlson, ed_visits):\n",
    "    score2 = 0\n",
    "    if (acute_flag == True):\n",
    "        score2 = 3\n",
    "    else :\n",
    "        score2 = 0\n",
    "    return score2"
   ]
  },
  {
   "cell_type": "code",
   "execution_count": 40,
   "metadata": {},
   "outputs": [
    {
     "data": {
      "text/plain": [
       "0"
      ]
     },
     "execution_count": 40,
     "metadata": {},
     "output_type": "execute_result"
    }
   ],
   "source": [
    "LACE(0, False, 0, 0)"
   ]
  },
  {
   "cell_type": "code",
   "execution_count": 47,
   "metadata": {},
   "outputs": [],
   "source": [
    "def LACE(length_of_stay, acute_flag, charlson, ed_visits):\n",
    "    score3 = 0\n",
    "    \n",
    "    if(charlson >=4): \n",
    "        score3 = 5\n",
    "        \n",
    "    elif(charlson <= 3):\n",
    "        score3 = charlson\n",
    "    else:\n",
    "        score3 = 0\n",
    "    return score3"
   ]
  },
  {
   "cell_type": "code",
   "execution_count": 42,
   "metadata": {},
   "outputs": [
    {
     "data": {
      "text/plain": [
       "1"
      ]
     },
     "execution_count": 42,
     "metadata": {},
     "output_type": "execute_result"
    }
   ],
   "source": [
    "LACE(0, False, 1, 0)"
   ]
  },
  {
   "cell_type": "code",
   "execution_count": 43,
   "metadata": {},
   "outputs": [],
   "source": [
    "def LACE(length_of_stay, acute_flag, charlson, ed_visits):    \n",
    "    score4 = 0\n",
    "    if (ed_visits >= 4):\n",
    "        score4 = 4\n",
    "    elif(ed_visits <= 3):\n",
    "        score4 = ed_visits \n",
    "    else:\n",
    "        score4 = 0\n",
    "    \n",
    "    return score4\n",
    "          "
   ]
  },
  {
   "cell_type": "code",
   "execution_count": 44,
   "metadata": {},
   "outputs": [
    {
     "ename": "NameError",
     "evalue": "name 'score1' is not defined",
     "output_type": "error",
     "traceback": [
      "\u001b[0;31m---------------------------------------------------------------------------\u001b[0m",
      "\u001b[0;31mNameError\u001b[0m                                 Traceback (most recent call last)",
      "\u001b[0;32m<ipython-input-44-e829b987ab25>\u001b[0m in \u001b[0;36m<module>\u001b[0;34m\u001b[0m\n\u001b[0;32m----> 1\u001b[0;31m \u001b[0mscore\u001b[0m \u001b[0;34m=\u001b[0m \u001b[0mscore1\u001b[0m \u001b[0;34m+\u001b[0m \u001b[0mscore2\u001b[0m \u001b[0;34m+\u001b[0m \u001b[0mscore3\u001b[0m \u001b[0;34m+\u001b[0m \u001b[0mscore4\u001b[0m\u001b[0;34m\u001b[0m\u001b[0;34m\u001b[0m\u001b[0m\n\u001b[0m",
      "\u001b[0;31mNameError\u001b[0m: name 'score1' is not defined"
     ]
    }
   ],
   "source": [
    "score = score1 + score2 + score3 + score4"
   ]
  },
  {
   "cell_type": "code",
   "execution_count": 17,
   "metadata": {},
   "outputs": [
    {
     "data": {
      "text/plain": [
       "2"
      ]
     },
     "execution_count": 17,
     "metadata": {},
     "output_type": "execute_result"
    }
   ],
   "source": [
    "LACE(0, False, 0, 2)"
   ]
  },
  {
   "cell_type": "code",
   "execution_count": 35,
   "metadata": {},
   "outputs": [
    {
     "data": {
      "text/plain": [
       "4"
      ]
     },
     "execution_count": 35,
     "metadata": {},
     "output_type": "execute_result"
    }
   ],
   "source": [
    "LACE(4, True, 4, 7)"
   ]
  },
  {
   "cell_type": "code",
   "execution_count": null,
   "metadata": {},
   "outputs": [],
   "source": []
  }
 ],
 "metadata": {
  "kernelspec": {
   "display_name": "Python 3",
   "language": "python",
   "name": "python3"
  },
  "language_info": {
   "codemirror_mode": {
    "name": "ipython",
    "version": 3
   },
   "file_extension": ".py",
   "mimetype": "text/x-python",
   "name": "python",
   "nbconvert_exporter": "python",
   "pygments_lexer": "ipython3",
   "version": "3.6.7"
  }
 },
 "nbformat": 4,
 "nbformat_minor": 4
}
