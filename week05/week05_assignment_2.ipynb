{
 "cells": [
  {
   "cell_type": "markdown",
   "metadata": {
    "nbgrader": {
     "grade": false,
     "grade_id": "intro",
     "locked": true,
     "schema_version": 1,
     "solution": false
    }
   },
   "source": [
    "# Week 5 Exercises\n",
    "\n",
    "_McKinney 3.2_\n",
    "\n",
    "**Unlike in previous weeks, in the exercises below, you will need to create a function definition from scratch.  I'll provide specific instructions and examples for how it will be used, but you will have to do the work of definiging the whole function.**\n",
    "\n",
    "---\n",
    "---"
   ]
  },
  {
   "cell_type": "markdown",
   "metadata": {
    "nbgrader": {
     "grade": false,
     "grade_id": "longest",
     "locked": true,
     "schema_version": 1,
     "solution": false
    }
   },
   "source": [
    "### 25.1 Longest String\n",
    "\n",
    "Write a function called `longest (L)` that takes as its only parameter a list of strings.  Your function needs to find the longest of those strings and return the position number of that longest string.  An example is provided below:\n",
    "\n",
    "The longest word in that list of strings is \"birthday\" in position #1, so `longest(strings)` should return 1.\n",
    "```\n",
    ">>> strings = ['happy', 'birthday', 'to', 'me']\n",
    ">>> longest(strings)\n",
    "1\n",
    "```\n",
    "\n",
    "Be sure to include a docstring.  Include test cases in your docstring if you want to."
   ]
  },
  {
   "cell_type": "code",
   "execution_count": 1,
   "metadata": {
    "nbgrader": {
     "grade": false,
     "grade_id": "longest-answer",
     "locked": false,
     "schema_version": 1,
     "solution": true
    }
   },
   "outputs": [],
   "source": [
    "### BEGIN SOLUTION\n",
    "\n",
    "def longest(strings):\n",
    "    \"\"\"(list) -> int\n",
    "    This function finds the longest string in the list of input strings\n",
    "    and returns the position number of that longest string.\n",
    "    \n",
    "    >>> longest(['happy', 'birthday', 'to', 'me'])\n",
    "    1\n",
    "    \n",
    "    >>> longest(['one', 'two', 'three', 'four'])\n",
    "    2\n",
    "    \"\"\"\n",
    "    \n",
    "    longest_pos = 0\n",
    "    longest_len = 0\n",
    "    \n",
    "    print(\"Position  Item         Longest So Far\")\n",
    "    print(\"--------- ------------ --------------\")\n",
    "    for position, item in enumerate(strings):\n",
    "        \n",
    "        if len(item) > longest_len:\n",
    "            longest_pos = position\n",
    "            longest_len = len(item)\n",
    "        print(\"{0:9} {1:12} {2} : {3}\".format(position, item, longest_pos, longest_len))\n",
    "            \n",
    "    return longest_pos\n",
    "\n",
    "### END SOLUTION"
   ]
  },
  {
   "cell_type": "code",
   "execution_count": 2,
   "metadata": {},
   "outputs": [
    {
     "name": "stdout",
     "output_type": "stream",
     "text": [
      "Position  Item         Longest So Far\n",
      "--------- ------------ --------------\n",
      "        0 happy        0 : 5\n",
      "        1 birthday     1 : 8\n",
      "        2 to           1 : 8\n",
      "        3 me           1 : 8\n"
     ]
    },
    {
     "data": {
      "text/plain": [
       "1"
      ]
     },
     "execution_count": 2,
     "metadata": {},
     "output_type": "execute_result"
    }
   ],
   "source": [
    "longest(['happy', 'birthday', 'to', 'me'])"
   ]
  },
  {
   "cell_type": "code",
   "execution_count": 3,
   "metadata": {
    "nbgrader": {
     "grade": true,
     "grade_id": "longest-tests",
     "locked": true,
     "points": 10,
     "schema_version": 1,
     "solution": false
    }
   },
   "outputs": [
    {
     "name": "stdout",
     "output_type": "stream",
     "text": [
      "Position  Item         Longest So Far\n",
      "--------- ------------ --------------\n",
      "        0 happy        0 : 5\n",
      "        1 birthday     1 : 8\n",
      "        2 to           1 : 8\n",
      "        3 me           1 : 8\n",
      "Position  Item         Longest So Far\n",
      "--------- ------------ --------------\n",
      "        0 enjoy        0 : 5\n",
      "        1 class        0 : 5\n",
      "Position  Item         Longest So Far\n",
      "--------- ------------ --------------\n",
      "        0 when         0 : 4\n",
      "        1 what         0 : 4\n",
      "        2 where        2 : 5\n",
      "        3 how          2 : 5\n",
      "        4 who          2 : 5\n"
     ]
    }
   ],
   "source": [
    "assert longest(\"happy birthday to me\".split(\" \")) == 1\n",
    "assert longest(\"enjoy class\".split(\" \")) == 0\n",
    "assert longest(['when','what','where','how','who']) == 2"
   ]
  },
  {
   "cell_type": "code",
   "execution_count": 4,
   "metadata": {},
   "outputs": [
    {
     "name": "stdout",
     "output_type": "stream",
     "text": [
      "Finding tests in NoName\n",
      "Trying:\n",
      "    longest(['happy', 'birthday', 'to', 'me'])\n",
      "Expecting:\n",
      "    1\n",
      "**********************************************************************\n",
      "File \"__main__\", line 8, in NoName\n",
      "Failed example:\n",
      "    longest(['happy', 'birthday', 'to', 'me'])\n",
      "Expected:\n",
      "    1\n",
      "Got:\n",
      "    Position  Item         Longest So Far\n",
      "    --------- ------------ --------------\n",
      "            0 happy        0 : 5\n",
      "            1 birthday     1 : 8\n",
      "            2 to           1 : 8\n",
      "            3 me           1 : 8\n",
      "    1\n",
      "Trying:\n",
      "    longest(['one', 'two', 'three', 'four'])\n",
      "Expecting:\n",
      "    2\n",
      "**********************************************************************\n",
      "File \"__main__\", line 11, in NoName\n",
      "Failed example:\n",
      "    longest(['one', 'two', 'three', 'four'])\n",
      "Expected:\n",
      "    2\n",
      "Got:\n",
      "    Position  Item         Longest So Far\n",
      "    --------- ------------ --------------\n",
      "            0 one          0 : 3\n",
      "            1 two          0 : 3\n",
      "            2 three        2 : 5\n",
      "            3 four         2 : 5\n",
      "    2\n"
     ]
    }
   ],
   "source": [
    "import doctest\n",
    "doctest.run_docstring_examples(longest, globals(), verbose=True)"
   ]
  },
  {
   "cell_type": "markdown",
   "metadata": {},
   "source": [
    "### 25.2 Celsius to Farenheit\n",
    "\n",
    "Write a function called f_to_c() that converts a given temperature in degrees Farenheit to degrees Celsius.  If you don't recall that conversion, it is:\n",
    "\n",
    "$ temp_c = \\frac{5}{9} \\times (temp_f - 32) $\n",
    "\n",
    "Make sure that you code is well documented using the DocString examples, and that your code includes tests for 212f, 32f, and 98.6f."
   ]
  },
  {
   "cell_type": "code",
   "execution_count": 5,
   "metadata": {},
   "outputs": [],
   "source": [
    "### BEGIN SOLUTION\n",
    "def f_to_c(degree_farenheit):\n",
    "    \n",
    "    \"\"\" (float(farenheit)) -> float(celsius) \n",
    "    This function takes an integer(temperature in farenheit) as the input and convert it to celsius.\n",
    "\n",
    "    >>> f_to_c(212)\n",
    "    100.0\n",
    "\n",
    "    >>> f_to_c(32)\n",
    "    0.0\n",
    "\n",
    "    >>> f_to_c(98.6)\n",
    "    37.0\n",
    "\n",
    "    \"\"\"\n",
    "    ## raising and error if farenheit is less than 0\n",
    "    \n",
    "    if degree_farenheit < 0:\n",
    "        raise ValueError('temperature should be a positive number. You gave me a {}'.format(print(degree_farenheit)))\n",
    "        \n",
    "    ## calculating celsius\n",
    "    \n",
    "    degree_celsius = 5/9*(degree_farenheit - 32)\n",
    "    return degree_celsius\n",
    "    \n",
    "\n",
    "### END SOLUTION"
   ]
  },
  {
   "cell_type": "code",
   "execution_count": 6,
   "metadata": {},
   "outputs": [],
   "source": [
    "assert f_to_c(212) == 100.0\n",
    "assert f_to_c(32) == 0.0\n",
    "assert f_to_c(98.6) == 37.0"
   ]
  },
  {
   "cell_type": "code",
   "execution_count": 7,
   "metadata": {},
   "outputs": [
    {
     "name": "stdout",
     "output_type": "stream",
     "text": [
      "Finding tests in NoName\n",
      "Trying:\n",
      "    f_to_c(212)\n",
      "Expecting:\n",
      "    100.0\n",
      "ok\n",
      "Trying:\n",
      "    f_to_c(32)\n",
      "Expecting:\n",
      "    0.0\n",
      "ok\n",
      "Trying:\n",
      "    f_to_c(98.6)\n",
      "Expecting:\n",
      "    37.0\n",
      "ok\n"
     ]
    }
   ],
   "source": [
    "import doctest\n",
    "doctest.run_docstring_examples(f_to_c, globals(), verbose=True)"
   ]
  },
  {
   "cell_type": "markdown",
   "metadata": {},
   "source": [
    "### 25.3 Computing Length of Stay\n",
    "\n",
    "For this problem, we have a collection of patient enounter data stored as a Python dictionary.  The `key` for the dictionary is the **encounter ID**, a code that starts with the letter `E` followed by four numbers.  The value associated with each encounter ID is another Python dictionary.  This \"inner\" dictionary holds three items: admit date, primary diagnosis, and discharge date.  See the example in the code below.\n",
    "\n",
    "You need to write a length of stay function that computes the length of stay, in whole days, between the admit date and discharge date.  However, if the diagnosis is \"Observation\" then the length of stay should always be returned as 0 regardless of the admit and discharge dates.\n",
    "\n",
    "You will find it handy to refer to this example here on how to calculate the number of days between two dates: https://stackoverflow.com/questions/151199/how-to-calculate-number-of-days-between-two-given-dates"
   ]
  },
  {
   "cell_type": "code",
   "execution_count": 8,
   "metadata": {},
   "outputs": [],
   "source": [
    "from datetime import date\n",
    "\n",
    "### BEGIN SOLUTION\n",
    "def length_of_stay(admit, discharge, diagnosis):\n",
    "    \n",
    "    \"\"\"(date, str, date) -> int\n",
    "    This computes the length of stay of the patients, and if the diagnosis is just Observation, it computes the number of days as 0.\n",
    "    days = discharge_date - admit_date \n",
    "    \n",
    "    >>> length_of_stay(date(2021,1,9), date(2021,1,8), 'COPD')\n",
    "    ValueError: admit > discharge\n",
    "    \n",
    "    >>> length_of_stay(date(2021,1,5), date(2021,1,9), 'Hypertension')\n",
    "    4\n",
    "    \n",
    "    >>> length_of_stay(date(2021,1,23), date(2021,1,25), 'Observation')\n",
    "    0\n",
    "    \"\"\"\n",
    "    \n",
    "    \n",
    "    # for encounter_id, value in encounters.items():\n",
    "    \n",
    "    ## raising an error if admit_date is greater than discharge_date\n",
    "    \n",
    "    if admit > discharge:\n",
    "        raise ValueError(\"admit > discharge \")\n",
    "        \n",
    "    ## calculating days of stay of patients \n",
    "    \n",
    "        \n",
    "    elif diagnosis != \"Observation\" and discharge >= admit:\n",
    "        return (discharge - admit).days\n",
    "    \n",
    "    else:         \n",
    "        return 0\n",
    "    \n",
    "### END SOLUTION"
   ]
  },
  {
   "cell_type": "code",
   "execution_count": 9,
   "metadata": {},
   "outputs": [
    {
     "name": "stdout",
     "output_type": "stream",
     "text": [
      "Finding tests in NoName\n",
      "Trying:\n",
      "    length_of_stay(date(2021,1,9), date(2021,1,8), 'COPD')\n",
      "Expecting:\n",
      "    ValueError: admit > discharge\n",
      "**********************************************************************\n",
      "File \"__main__\", line 10, in NoName\n",
      "Failed example:\n",
      "    length_of_stay(date(2021,1,9), date(2021,1,8), 'COPD')\n",
      "Exception raised:\n",
      "    Traceback (most recent call last):\n",
      "      File \"/opt/tljh/user/lib/python3.6/doctest.py\", line 1330, in __run\n",
      "        compileflags, 1), test.globs)\n",
      "      File \"<doctest NoName[0]>\", line 1, in <module>\n",
      "        length_of_stay(date(2021,1,9), date(2021,1,8), 'COPD')\n",
      "      File \"<ipython-input-8-6a5c76a69569>\", line 26, in length_of_stay\n",
      "        raise ValueError(\"admit > discharge \")\n",
      "    ValueError: admit > discharge \n",
      "Trying:\n",
      "    length_of_stay(date(2021,1,5), date(2021,1,9), 'Hypertension')\n",
      "Expecting:\n",
      "    4\n",
      "ok\n",
      "Trying:\n",
      "    length_of_stay(date(2021,1,23), date(2021,1,25), 'Observation')\n",
      "Expecting:\n",
      "    0\n",
      "ok\n"
     ]
    }
   ],
   "source": [
    "import doctest\n",
    "doctest.run_docstring_examples(length_of_stay, globals(), verbose=True)"
   ]
  },
  {
   "cell_type": "code",
   "execution_count": 10,
   "metadata": {},
   "outputs": [
    {
     "name": "stdout",
     "output_type": "stream",
     "text": [
      "5\n",
      "4\n",
      "1\n",
      "0\n",
      "0\n"
     ]
    }
   ],
   "source": [
    "encounters = { \n",
    "    \"E1234\": { \"admit\": date(2019,1,3), \"diagnosis\": \"COPD\", \"discharge\": date(2019,1,8) },\n",
    "    \"E8342\": { \"admit\": date(2019,1,5), \"diagnosis\": \"Hypertension\", \"discharge\": date(2019,1,9) },\n",
    "    \"E9231\": { \"admit\": date(2019,1,12), \"diagnosis\": \"Anxiety\", \"discharge\": date(2019,1,13) },\n",
    "    \"E8333\": { \"admit\": date(2019,1,15), \"diagnosis\": \"Observation\", \"discharge\": date(2019,1,16) },\n",
    "    \"E3342\": { \"admit\": date(2019,1,4), \"diagnosis\": \"Anxiety\", \"discharge\": date(2019,1,4)}\n",
    "}\n",
    "for encounter_id, value in encounters.items():\n",
    "    print(length_of_stay(value['admit'],value['discharge'],value['diagnosis']))\n",
    "\n"
   ]
  },
  {
   "cell_type": "markdown",
   "metadata": {},
   "source": [
    "---\n",
    "---\n",
    "\n",
    "### 25.4 Average Length of Stay\n",
    "\n",
    "Create a function called `average_los` that returns the average of the LOS for the encounters in the provided dictionary. The encounters must be a dictionary that contains dictionaries that each contain at least an admit date and a discharge date.\n",
    "    \n",
    "If the length of stay of any individual encounter is 0, then it will not be counted toward the average."
   ]
  },
  {
   "cell_type": "code",
   "execution_count": 11,
   "metadata": {},
   "outputs": [],
   "source": [
    "test1 = {\n",
    "        \"E1234\": { \"admit\": date(2019,1,10), \"diagnosis\": \"COPD\", \"discharge\": date(2019,1,8) }\n",
    "}\n",
    "\n",
    "test2 = {\n",
    "        \"E1234\": { \"admit\": date(2019,1,3), \"diagnosis\": \"COPD\", \"discharge\": date(2019,1,8) }\n",
    "}\n",
    "\n",
    "test3 = {\n",
    "        \"E1234\": { \"admit\": date(2019,1,5), \"diagnosis\": \"COPD\", \"discharge\": date(2019,1,8) }\n",
    "}\n",
    "\n",
    " \n",
    "\n",
    "### BEGIN SOLUTION\n",
    "def average_los(dictionary):\n",
    "    \n",
    "    \"\"\"(dictionary) -> float\n",
    "    This computes the average days of stay of all the patients, taking atleast admit date and \n",
    "    discharge date as inputs in the dictionary.\n",
    "    \n",
    "    >>> average_los(test1)\n",
    "    ValueError: admit > discharge\n",
    "    \n",
    "    >>> average_los(test2)\n",
    "    5.0\n",
    "    \n",
    "    >>> average_los(test3)\n",
    "    3.0\n",
    "    \n",
    "    \"\"\"\n",
    "\n",
    "   \n",
    "    \n",
    "    ## assigning variables to emoty list and 0.\n",
    "    \n",
    "    los = []\n",
    "    avg_los = 0\n",
    "    \n",
    "    ## looping through the dictionary\n",
    "    \n",
    "    for encounter_id, value in dictionary.items():\n",
    "        \n",
    "    ## raising an error if admit_date is greater than discharge_date\n",
    "        \n",
    "        if value['admit'] > value['discharge']:\n",
    "            raise ValueError(\"admit > discharge \")\n",
    "            \n",
    "    ## trying to check if discharge date is greater than admit date or not \n",
    "        \n",
    "        try:\n",
    "            value['discharge'] > value['admit']\n",
    "            \n",
    "    ## writing an if condition to calculate days of stay and appending all the items to the list\n",
    "            \n",
    "            if value['discharge'] > value['admit']:\n",
    "                stay = (value['discharge'] - value['admit']).days\n",
    "                los.append(stay)\n",
    "            \n",
    "    ## if the try condition fails i.e., if admit is equal to discharge then pass\n",
    "    \n",
    "        except:\n",
    "            pass        \n",
    "        \n",
    "    ## calculating aveage length of stay of all the patients\n",
    "        \n",
    "    avg_los = sum(los)/len(los)\n",
    "    return avg_los\n",
    "    \n",
    "\n",
    "### END SOLUTION"
   ]
  },
  {
   "cell_type": "code",
   "execution_count": 12,
   "metadata": {},
   "outputs": [],
   "source": [
    "from datetime import date\n",
    "encounters = { \n",
    "    \"E1234\": { \"admit\": date(2019,1,3), \"diagnosis\": \"COPD\", \"discharge\": date(2019,1,8) },\n",
    "    \"E8342\": { \"admit\": date(2019,1,5), \"diagnosis\": \"Hypertension\", \"discharge\": date(2019,1,9) },\n",
    "    \"E9231\": { \"admit\": date(2019,1,12), \"diagnosis\": \"Anxiety\", \"discharge\": date(2019,1,13) },\n",
    "    \"E8333\": { \"admit\": date(2019,1,15), \"diagnosis\": \"Observation\", \"discharge\": date(2019,1,16) },\n",
    "    \"E3342\": { \"admit\": date(2019,1,4), \"diagnosis\": \"Anxiety\", \"discharge\": date(2019,1,4)}\n",
    "}\n",
    "\n",
    "assert(average_los(encounters)) == 2.75"
   ]
  },
  {
   "cell_type": "code",
   "execution_count": 13,
   "metadata": {},
   "outputs": [
    {
     "name": "stdout",
     "output_type": "stream",
     "text": [
      "2.75\n"
     ]
    }
   ],
   "source": [
    "print(average_los(encounters))"
   ]
  },
  {
   "cell_type": "code",
   "execution_count": 14,
   "metadata": {},
   "outputs": [
    {
     "name": "stdout",
     "output_type": "stream",
     "text": [
      "Finding tests in NoName\n",
      "Trying:\n",
      "    average_los(test1)\n",
      "Expecting:\n",
      "    ValueError: admit > discharge\n",
      "**********************************************************************\n",
      "File \"__main__\", line 22, in NoName\n",
      "Failed example:\n",
      "    average_los(test1)\n",
      "Exception raised:\n",
      "    Traceback (most recent call last):\n",
      "      File \"/opt/tljh/user/lib/python3.6/doctest.py\", line 1330, in __run\n",
      "        compileflags, 1), test.globs)\n",
      "      File \"<doctest NoName[0]>\", line 1, in <module>\n",
      "        average_los(test1)\n",
      "      File \"<ipython-input-11-9c7df870e80b>\", line 47, in average_los\n",
      "        raise ValueError(\"admit > discharge \")\n",
      "    ValueError: admit > discharge \n",
      "Trying:\n",
      "    average_los(test2)\n",
      "Expecting:\n",
      "    5.0\n",
      "ok\n",
      "Trying:\n",
      "    average_los(test3)\n",
      "Expecting:\n",
      "    3.0\n",
      "ok\n"
     ]
    }
   ],
   "source": [
    "import doctest\n",
    "doctest.run_docstring_examples(average_los, globals(), verbose=True)"
   ]
  },
  {
   "cell_type": "markdown",
   "metadata": {},
   "source": [
    "---\n",
    "\n",
    "### 25.5 Celsius to Farenheit\n",
    "\n",
    "Write your own function called `c_to_f` that converts degrees Celsius to degrees Farenheit.  Include in your solution a series of doc tests that can verify the conversion using inputs of 100, 0, and 37 degrees Celsius"
   ]
  },
  {
   "cell_type": "code",
   "execution_count": 15,
   "metadata": {},
   "outputs": [],
   "source": [
    "### BEGIN SOLUTION\n",
    "def c_to_f(degree_celsius):\n",
    "    \"\"\"(int(celsius)) -> (float(farenheit))\n",
    "    This function coverts given inputs in degree celsius to farenheit.\n",
    "    \n",
    "    >>> c_to_f(100)\n",
    "    212.0\n",
    "    \n",
    "    >>> c_to_f(0)\n",
    "    32.0\n",
    "    \n",
    "    >>> c_to_f(37)\n",
    "    98.60000000000001\n",
    "    \n",
    "    \"\"\"\n",
    "    ## calculating farenheit degrees, if the celcius is given\n",
    "    \n",
    "    degree_farenheit = (9/5*degree_celsius) + 32 \n",
    "    return degree_farenheit\n",
    "### END SOLUTION"
   ]
  },
  {
   "cell_type": "code",
   "execution_count": 16,
   "metadata": {},
   "outputs": [
    {
     "name": "stdout",
     "output_type": "stream",
     "text": [
      "Finding tests in NoName\n",
      "Trying:\n",
      "    c_to_f(100)\n",
      "Expecting:\n",
      "    212.0\n",
      "ok\n",
      "Trying:\n",
      "    c_to_f(0)\n",
      "Expecting:\n",
      "    32.0\n",
      "ok\n",
      "Trying:\n",
      "    c_to_f(37)\n",
      "Expecting:\n",
      "    98.60000000000001\n",
      "ok\n"
     ]
    }
   ],
   "source": [
    "import doctest\n",
    "doctest.run_docstring_examples(c_to_f, globals(), verbose=True)"
   ]
  },
  {
   "cell_type": "markdown",
   "metadata": {},
   "source": [
    "---\n",
    "\n",
    "## Check your work above\n",
    "\n",
    "If you didn't get them all correct, take a few minutes to think through those that aren't correct.\n",
    "\n",
    "\n",
    "## Submitting Your Work\n",
    "\n",
    "In order to submit your work, you'll need to use the `git` command line program to **add** your homework file (this file) to your local repository, **commit** your changes to your local repository, and then **push** those changes up to github.com.  From there, I'll be able to **pull** the changes down and do my grading.  I'll provide some feedback, **commit** and **push** my comments back to you.  Next week, I'll show you how to **pull** down my comments.\n",
    "\n",
    "To run through everything one last time and submit your work:\n",
    "1. Use the `Kernel` -> `Restart Kernel and Run All Cells` menu option to run everything from top to bottom and stop here.\n",
    "2. Follow the instruction on the prompt below to either ssave and submit your work, or continue working.\n",
    "\n",
    "If anything fails along the way with this submission part of the process, let me know.  I'll help you troubleshoort."
   ]
  },
  {
   "cell_type": "markdown",
   "metadata": {},
   "source": [
    "---"
   ]
  },
  {
   "cell_type": "code",
   "execution_count": 17,
   "metadata": {
    "jupyter": {
     "source_hidden": true
    }
   },
   "outputs": [
    {
     "name": "stdin",
     "output_type": "stream",
     "text": [
      "\n",
      "Are you ready to submit your work?\n",
      "1. Click the Save icon (or do Ctrl-S / Cmd-S)\n",
      "2. Type \"yes\" or \"no\" below\n",
      "3. Press Enter\n",
      "\n",
      " yes\n"
     ]
    },
    {
     "name": "stdout",
     "output_type": "stream",
     "text": [
      "[main 4aa03fa] Submitting the week 5 programming exercises\n",
      " 2 files changed, 842 insertions(+), 2 deletions(-)\n",
      " create mode 100644 week05/week05_assignment_2.ipynb\n",
      "Warning: Permanently added the ECDSA host key for IP address '140.82.112.3' to the list of known hosts.\n",
      "Counting objects: 5, done.\n",
      "Delta compression using up to 2 threads.\n",
      "Compressing objects: 100% (5/5), done.\n",
      "Writing objects: 100% (5/5), 5.90 KiB | 5.90 MiB/s, done.\n",
      "Total 5 (delta 2), reused 0 (delta 0)\n",
      "remote: Resolving deltas: 100% (2/2), completed with 2 local objects.\u001b[K\n",
      "remote: This repository moved. Please use the new location:\u001b[K\n",
      "remote:   git@github.com:Sravani9544/hds5210-2022.git\u001b[K\n",
      "To github.com:sravani9544/hds5210-2022.git\n",
      "   46f21ac..4aa03fa  main -> main\n"
     ]
    }
   ],
   "source": [
    "a=input('''\n",
    "Are you ready to submit your work?\n",
    "1. Click the Save icon (or do Ctrl-S / Cmd-S)\n",
    "2. Type \"yes\" or \"no\" below\n",
    "3. Press Enter\n",
    "\n",
    "''')\n",
    "\n",
    "if a=='yes':\n",
    "    !git add week05_assignment_2.ipynb\n",
    "    !git commit -a -m \"Submitting the week 5 programming exercises\"\n",
    "    !git push\n",
    "else:\n",
    "    print('''\n",
    "    \n",
    "OK. We can wait.\n",
    "''')"
   ]
  },
  {
   "cell_type": "markdown",
   "metadata": {},
   "source": [
    "\n",
    "---\n",
    "\n",
    "If the message above says something like _Submitting the week 3 review exercises_ or _Everything is up to date_, then your work was submitted correctly."
   ]
  },
  {
   "cell_type": "code",
   "execution_count": null,
   "metadata": {},
   "outputs": [],
   "source": []
  }
 ],
 "metadata": {
  "celltoolbar": "Create Assignment",
  "kernelspec": {
   "display_name": "Python 3",
   "language": "python",
   "name": "python3"
  },
  "language_info": {
   "codemirror_mode": {
    "name": "ipython",
    "version": 3
   },
   "file_extension": ".py",
   "mimetype": "text/x-python",
   "name": "python",
   "nbconvert_exporter": "python",
   "pygments_lexer": "ipython3",
   "version": "3.6.7"
  }
 },
 "nbformat": 4,
 "nbformat_minor": 2
}
