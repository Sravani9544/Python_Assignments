{
 "cells": [
  {
   "cell_type": "code",
   "execution_count": 3,
   "metadata": {},
   "outputs": [],
   "source": [
    "people = [\n",
    "    ['Paul Boal',       1977, '', 'Sarahlynn Lester', 1973],\n",
    "    ['Ada Lester-Boal', 2007, '', 'Ellie Lester-Boal', 2003, '', 'Teddy Lester-Boal', 2011],\n",
    "    ['James Boal',      1947]\n",
    "]"
   ]
  },
  {
   "cell_type": "code",
   "execution_count": 16,
   "metadata": {},
   "outputs": [],
   "source": [
    "\n",
    "def ages(items, current_year=2022):\n",
    "    \"\"\"(list) -> list\n",
    "    We want to output a list of ages based on the list of items.\n",
    "    We will assume that any integer between 1900 and 2100 is a year and we want to calculate ages based on any year we find.\n",
    "\n",
    "    >>> ages([[1980]])\n",
    "    [42]\n",
    "    \n",
    "    >>> ages([[1980]], 2000)\n",
    "    [20]\n",
    "    \n",
    "    >>> ages([['abc', 1900]])\n",
    "    [122]\n",
    "    \"\"\"\n",
    "\n",
    "    output = []\n",
    "    \n",
    "    # item will be each of the items in our input list\n",
    "    if type(items) != list:\n",
    "        raise ValueError('Items must be a list. You gave me a {}'.format(type(items)))\n",
    "        \n",
    "    for item in items:\n",
    "        \n",
    "        # cell will be each of the items in the inner list\n",
    "        if type(item) != list:\n",
    "            raise ValueError('Items in your list must be lists. This item was a {}'.format(type(item)))\n",
    "        for cell in item:\n",
    "            \n",
    "            # test to see if the cell value is an integer and between 1900 and 2100\n",
    "            if type(cell) == int:\n",
    "                if cell >= 1900 and cell <= 2100:\n",
    "                    \n",
    "                    # calculate age based on current year\n",
    "                    output.append(current_year - cell)\n",
    "        \n",
    "    return output"
   ]
  },
  {
   "cell_type": "code",
   "execution_count": 17,
   "metadata": {},
   "outputs": [
    {
     "ename": "ValueError",
     "evalue": "Items in your list must be lists. This item was a <class 'int'>",
     "output_type": "error",
     "traceback": [
      "\u001b[0;31m---------------------------------------------------------------------------\u001b[0m",
      "\u001b[0;31mValueError\u001b[0m                                Traceback (most recent call last)",
      "\u001b[0;32m<ipython-input-17-a71462bf4ded>\u001b[0m in \u001b[0;36m<module>\u001b[0;34m\u001b[0m\n\u001b[0;32m----> 1\u001b[0;31m \u001b[0mages\u001b[0m\u001b[0;34m(\u001b[0m\u001b[0;34m[\u001b[0m\u001b[0;36m1983\u001b[0m\u001b[0;34m,\u001b[0m \u001b[0;34m'Paul Boal'\u001b[0m\u001b[0;34m,\u001b[0m \u001b[0;34m'blue'\u001b[0m\u001b[0;34m]\u001b[0m\u001b[0;34m)\u001b[0m\u001b[0;34m\u001b[0m\u001b[0;34m\u001b[0m\u001b[0m\n\u001b[0m",
      "\u001b[0;32m<ipython-input-16-79ae094c6924>\u001b[0m in \u001b[0;36mages\u001b[0;34m(items, current_year)\u001b[0m\n\u001b[1;32m     24\u001b[0m         \u001b[0;31m# cell will be each of the items in the inner list\u001b[0m\u001b[0;34m\u001b[0m\u001b[0;34m\u001b[0m\u001b[0;34m\u001b[0m\u001b[0m\n\u001b[1;32m     25\u001b[0m         \u001b[0;32mif\u001b[0m \u001b[0mtype\u001b[0m\u001b[0;34m(\u001b[0m\u001b[0mitem\u001b[0m\u001b[0;34m)\u001b[0m \u001b[0;34m!=\u001b[0m \u001b[0mlist\u001b[0m\u001b[0;34m:\u001b[0m\u001b[0;34m\u001b[0m\u001b[0;34m\u001b[0m\u001b[0m\n\u001b[0;32m---> 26\u001b[0;31m             \u001b[0;32mraise\u001b[0m \u001b[0mValueError\u001b[0m\u001b[0;34m(\u001b[0m\u001b[0;34m'Items in your list must be lists. This item was a {}'\u001b[0m\u001b[0;34m.\u001b[0m\u001b[0mformat\u001b[0m\u001b[0;34m(\u001b[0m\u001b[0mtype\u001b[0m\u001b[0;34m(\u001b[0m\u001b[0mitem\u001b[0m\u001b[0;34m)\u001b[0m\u001b[0;34m)\u001b[0m\u001b[0;34m)\u001b[0m\u001b[0;34m\u001b[0m\u001b[0;34m\u001b[0m\u001b[0m\n\u001b[0m\u001b[1;32m     27\u001b[0m         \u001b[0;32mfor\u001b[0m \u001b[0mcell\u001b[0m \u001b[0;32min\u001b[0m \u001b[0mitem\u001b[0m\u001b[0;34m:\u001b[0m\u001b[0;34m\u001b[0m\u001b[0;34m\u001b[0m\u001b[0m\n\u001b[1;32m     28\u001b[0m \u001b[0;34m\u001b[0m\u001b[0m\n",
      "\u001b[0;31mValueError\u001b[0m: Items in your list must be lists. This item was a <class 'int'>"
     ]
    }
   ],
   "source": [
    "ages([1983, 'Paul Boal', 'blue'])"
   ]
  },
  {
   "cell_type": "code",
   "execution_count": 15,
   "metadata": {},
   "outputs": [
    {
     "name": "stdout",
     "output_type": "stream",
     "text": [
      "Help on function ages in module __main__:\n",
      "\n",
      "ages(items, current_year=2022)\n",
      "    (list) -> list\n",
      "    We want to output a list of ages based on the list of items.\n",
      "    We will assume that any integer between 1900 and 2100 is a year and we want to calculate ages based on any year we find.\n",
      "    \n",
      "    >>> ages([[1980]])\n",
      "    [42]\n",
      "    \n",
      "    >>> ages([[1980]], 2000)\n",
      "    [20]\n",
      "    \n",
      "    >>> ages([['abc', 1900]])\n",
      "    [122]\n",
      "\n"
     ]
    }
   ],
   "source": [
    "help(ages)"
   ]
  },
  {
   "cell_type": "code",
   "execution_count": 11,
   "metadata": {},
   "outputs": [
    {
     "data": {
      "text/plain": [
       "[45, 49, 15, 19, 11, 75]"
      ]
     },
     "execution_count": 11,
     "metadata": {},
     "output_type": "execute_result"
    }
   ],
   "source": [
    "ages(people)"
   ]
  },
  {
   "cell_type": "code",
   "execution_count": 12,
   "metadata": {},
   "outputs": [
    {
     "name": "stdout",
     "output_type": "stream",
     "text": [
      "Finding tests in NoName\n",
      "Trying:\n",
      "    ages([[1980]])\n",
      "Expecting:\n",
      "    [42]\n",
      "ok\n",
      "Trying:\n",
      "    ages([[1980]], 2000)\n",
      "Expecting:\n",
      "    [20]\n",
      "ok\n",
      "Trying:\n",
      "    ages([['abc', 1900]])\n",
      "Expecting:\n",
      "    [122]\n",
      "ok\n"
     ]
    }
   ],
   "source": [
    "import doctest\n",
    "doctest.run_docstring_examples(ages, globals(), verbose=True)"
   ]
  },
  {
   "cell_type": "code",
   "execution_count": 29,
   "metadata": {},
   "outputs": [
    {
     "name": "stdout",
     "output_type": "stream",
     "text": [
      "Help on function ages in module __main__:\n",
      "\n",
      "ages(items)\n",
      "    (list) -> list\n",
      "    We want to output a list of ages based on the list of items.\n",
      "    We will assume that any integer between 1900 and 2100 is a year and we want to calculate ages based on any year we find.\n",
      "    \n",
      "    >>> ages([[1980]])\n",
      "    [42]\n",
      "    \n",
      "    >>> ages([['abc', 1900]])\n",
      "    [122]\n",
      "\n"
     ]
    }
   ],
   "source": [
    "help(ages)"
   ]
  },
  {
   "cell_type": "code",
   "execution_count": null,
   "metadata": {},
   "outputs": [],
   "source": []
  },
  {
   "cell_type": "code",
   "execution_count": null,
   "metadata": {},
   "outputs": [],
   "source": []
  },
  {
   "cell_type": "code",
   "execution_count": null,
   "metadata": {},
   "outputs": [],
   "source": []
  },
  {
   "cell_type": "code",
   "execution_count": null,
   "metadata": {},
   "outputs": [],
   "source": []
  },
  {
   "cell_type": "code",
   "execution_count": null,
   "metadata": {},
   "outputs": [],
   "source": []
  },
  {
   "cell_type": "code",
   "execution_count": null,
   "metadata": {},
   "outputs": [],
   "source": []
  },
  {
   "cell_type": "code",
   "execution_count": null,
   "metadata": {},
   "outputs": [],
   "source": []
  },
  {
   "cell_type": "code",
   "execution_count": null,
   "metadata": {},
   "outputs": [],
   "source": []
  }
 ],
 "metadata": {
  "kernelspec": {
   "display_name": "Python 3",
   "language": "python",
   "name": "python3"
  },
  "language_info": {
   "codemirror_mode": {
    "name": "ipython",
    "version": 3
   },
   "file_extension": ".py",
   "mimetype": "text/x-python",
   "name": "python",
   "nbconvert_exporter": "python",
   "pygments_lexer": "ipython3",
   "version": "3.6.7"
  }
 },
 "nbformat": 4,
 "nbformat_minor": 4
}
