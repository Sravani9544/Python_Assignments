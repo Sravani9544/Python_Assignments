{
 "cells": [
  {
   "cell_type": "markdown",
   "metadata": {},
   "source": [
    "Use the range() function to create a list of integers from 0 to 100."
   ]
  },
  {
   "cell_type": "code",
   "execution_count": 59,
   "metadata": {},
   "outputs": [
    {
     "data": {
      "text/plain": [
       "list"
      ]
     },
     "execution_count": 59,
     "metadata": {},
     "output_type": "execute_result"
    }
   ],
   "source": [
    "a_list = []\n",
    "type(a_list)"
   ]
  },
  {
   "cell_type": "code",
   "execution_count": 60,
   "metadata": {},
   "outputs": [],
   "source": [
    "for num in range(1,101):\n",
    "    a_list.append(num)"
   ]
  },
  {
   "cell_type": "code",
   "execution_count": 62,
   "metadata": {},
   "outputs": [
    {
     "data": {
      "text/plain": [
       "100"
      ]
     },
     "execution_count": 62,
     "metadata": {},
     "output_type": "execute_result"
    }
   ],
   "source": [
    "len(a_list)"
   ]
  },
  {
   "cell_type": "code",
   "execution_count": 63,
   "metadata": {},
   "outputs": [],
   "source": [
    "names = [[\"Ada\", \"Boal\"],\n",
    "        [\"Paul\", \"Boal\"],\n",
    "        [\"Teddy\", \"Boal\"],\n",
    "        [\"Daisy\", \"Duck\"],\n",
    "        [\"Donald\", \"Duck\"],\n",
    "        [\"Eric\", \"Westhus\"]]"
   ]
  },
  {
   "cell_type": "markdown",
   "metadata": {},
   "source": [
    "Loop over the items in the list above and print out \"FirstName is a LastName\""
   ]
  },
  {
   "cell_type": "code",
   "execution_count": 66,
   "metadata": {},
   "outputs": [
    {
     "name": "stdout",
     "output_type": "stream",
     "text": [
      "Ada is a Boal\n",
      "Paul is a Boal\n",
      "Teddy is a Boal\n",
      "Daisy is a Duck\n",
      "Donald is a Duck\n",
      "Eric is a Westhus\n"
     ]
    }
   ],
   "source": [
    "for name in names:\n",
    "    first_name = name[0]\n",
    "    last_name = name[1]\n",
    "    print(\"{} is a {}\".format(first_name, last_name))"
   ]
  },
  {
   "cell_type": "markdown",
   "metadata": {},
   "source": [
    "Can you print out \"FirstName LastName\" in alphabetical order by last and then first name?"
   ]
  },
  {
   "cell_type": "code",
   "execution_count": 68,
   "metadata": {},
   "outputs": [],
   "source": [
    "ordered_names = []\n",
    "for name in names:\n",
    "    ordered_names.append([name[1], name[0]])"
   ]
  },
  {
   "cell_type": "code",
   "execution_count": 69,
   "metadata": {},
   "outputs": [
    {
     "data": {
      "text/plain": [
       "[['Boal', 'Ada'],\n",
       " ['Boal', 'Paul'],\n",
       " ['Boal', 'Teddy'],\n",
       " ['Duck', 'Daisy'],\n",
       " ['Duck', 'Donald'],\n",
       " ['Westhus', 'Eric']]"
      ]
     },
     "execution_count": 69,
     "metadata": {},
     "output_type": "execute_result"
    }
   ],
   "source": [
    "ordered_names"
   ]
  },
  {
   "cell_type": "code",
   "execution_count": 71,
   "metadata": {},
   "outputs": [],
   "source": [
    "ordered_names.sort()"
   ]
  },
  {
   "cell_type": "code",
   "execution_count": 72,
   "metadata": {},
   "outputs": [
    {
     "data": {
      "text/plain": [
       "[['Boal', 'Ada'],\n",
       " ['Boal', 'Paul'],\n",
       " ['Boal', 'Teddy'],\n",
       " ['Duck', 'Daisy'],\n",
       " ['Duck', 'Donald'],\n",
       " ['Westhus', 'Eric']]"
      ]
     },
     "execution_count": 72,
     "metadata": {},
     "output_type": "execute_result"
    }
   ],
   "source": [
    "ordered_names"
   ]
  },
  {
   "cell_type": "code",
   "execution_count": 74,
   "metadata": {},
   "outputs": [
    {
     "name": "stdout",
     "output_type": "stream",
     "text": [
      "Ada Boal\n",
      "Paul Boal\n",
      "Teddy Boal\n",
      "Daisy Duck\n",
      "Donald Duck\n",
      "Eric Westhus\n"
     ]
    }
   ],
   "source": [
    "for name in ordered_names:\n",
    "    print(\"{} {}\".format(name[1], name[0]))"
   ]
  },
  {
   "cell_type": "code",
   "execution_count": 1,
   "metadata": {},
   "outputs": [],
   "source": [
    "a_list = [1,2,5,4,3,2,1,5]"
   ]
  },
  {
   "cell_type": "code",
   "execution_count": 2,
   "metadata": {},
   "outputs": [
    {
     "data": {
      "text/plain": [
       "list"
      ]
     },
     "execution_count": 2,
     "metadata": {},
     "output_type": "execute_result"
    }
   ],
   "source": [
    "type(a_list)"
   ]
  },
  {
   "cell_type": "code",
   "execution_count": 3,
   "metadata": {},
   "outputs": [
    {
     "data": {
      "text/plain": [
       "[1, 2, 5, 4, 3, 2, 1, 5]"
      ]
     },
     "execution_count": 3,
     "metadata": {},
     "output_type": "execute_result"
    }
   ],
   "source": [
    "a_list"
   ]
  },
  {
   "cell_type": "code",
   "execution_count": 5,
   "metadata": {},
   "outputs": [],
   "source": [
    "a_set = set(a_list)"
   ]
  },
  {
   "cell_type": "code",
   "execution_count": 6,
   "metadata": {},
   "outputs": [
    {
     "data": {
      "text/plain": [
       "set"
      ]
     },
     "execution_count": 6,
     "metadata": {},
     "output_type": "execute_result"
    }
   ],
   "source": [
    "type(a_set)"
   ]
  },
  {
   "cell_type": "code",
   "execution_count": 7,
   "metadata": {},
   "outputs": [
    {
     "data": {
      "text/plain": [
       "{1, 2, 3, 4, 5}"
      ]
     },
     "execution_count": 7,
     "metadata": {},
     "output_type": "execute_result"
    }
   ],
   "source": [
    "a_set"
   ]
  },
  {
   "cell_type": "code",
   "execution_count": 8,
   "metadata": {},
   "outputs": [
    {
     "data": {
      "text/plain": [
       "[1, 1, 2, 2, 3, 4, 5, 5]"
      ]
     },
     "execution_count": 8,
     "metadata": {},
     "output_type": "execute_result"
    }
   ],
   "source": [
    "sorted(a_list)"
   ]
  },
  {
   "cell_type": "code",
   "execution_count": 10,
   "metadata": {},
   "outputs": [
    {
     "data": {
      "text/plain": [
       "list"
      ]
     },
     "execution_count": 10,
     "metadata": {},
     "output_type": "execute_result"
    }
   ],
   "source": [
    "type(sorted(a_set))"
   ]
  },
  {
   "cell_type": "code",
   "execution_count": 12,
   "metadata": {},
   "outputs": [
    {
     "ename": "TypeError",
     "evalue": "'set' object is not subscriptable",
     "output_type": "error",
     "traceback": [
      "\u001b[0;31m---------------------------------------------------------------------------\u001b[0m",
      "\u001b[0;31mTypeError\u001b[0m                                 Traceback (most recent call last)",
      "\u001b[0;32m<ipython-input-12-0b2564c262c6>\u001b[0m in \u001b[0;36m<module>\u001b[0;34m\u001b[0m\n\u001b[0;32m----> 1\u001b[0;31m \u001b[0ma_set\u001b[0m\u001b[0;34m[\u001b[0m\u001b[0;36m0\u001b[0m\u001b[0;34m:\u001b[0m\u001b[0;36m2\u001b[0m\u001b[0;34m]\u001b[0m\u001b[0;34m\u001b[0m\u001b[0;34m\u001b[0m\u001b[0m\n\u001b[0m",
      "\u001b[0;31mTypeError\u001b[0m: 'set' object is not subscriptable"
     ]
    }
   ],
   "source": [
    "a_set[0:2]"
   ]
  },
  {
   "cell_type": "code",
   "execution_count": null,
   "metadata": {},
   "outputs": [],
   "source": []
  },
  {
   "cell_type": "code",
   "execution_count": null,
   "metadata": {},
   "outputs": [],
   "source": []
  },
  {
   "cell_type": "code",
   "execution_count": null,
   "metadata": {},
   "outputs": [],
   "source": []
  },
  {
   "cell_type": "code",
   "execution_count": 13,
   "metadata": {},
   "outputs": [],
   "source": [
    "import random"
   ]
  },
  {
   "cell_type": "code",
   "execution_count": 25,
   "metadata": {},
   "outputs": [
    {
     "data": {
      "text/plain": [
       "8"
      ]
     },
     "execution_count": 25,
     "metadata": {},
     "output_type": "execute_result"
    }
   ],
   "source": [
    "random.randrange(1,11)"
   ]
  },
  {
   "cell_type": "code",
   "execution_count": null,
   "metadata": {},
   "outputs": [],
   "source": [
    "help(random.randrange)"
   ]
  },
  {
   "cell_type": "code",
   "execution_count": 26,
   "metadata": {},
   "outputs": [],
   "source": [
    "from random import randrange"
   ]
  },
  {
   "cell_type": "code",
   "execution_count": 81,
   "metadata": {},
   "outputs": [],
   "source": [
    "a_list = []\n",
    "for i in range(1000):\n",
    "    a_list.append(randrange(1,101))"
   ]
  },
  {
   "cell_type": "code",
   "execution_count": 82,
   "metadata": {},
   "outputs": [
    {
     "data": {
      "text/plain": [
       "100"
      ]
     },
     "execution_count": 82,
     "metadata": {},
     "output_type": "execute_result"
    }
   ],
   "source": [
    "len(set(a_list))"
   ]
  },
  {
   "cell_type": "code",
   "execution_count": 1,
   "metadata": {},
   "outputs": [],
   "source": [
    "families = {\n",
    "    \"Lester-Boal\": [\"Paul\", \"Sarahlynn\", \"Ellie\", \"Ada\", \"Teddy\"],\n",
    "    \"Duck\": [\"Donald\", \"Daisy\"],\n",
    "    \"Kardashian\": [\"Kim\", \"Chloe\", \"Courtney\", \"Rob\"]\n",
    "}"
   ]
  },
  {
   "cell_type": "code",
   "execution_count": 5,
   "metadata": {},
   "outputs": [
    {
     "name": "stdout",
     "output_type": "stream",
     "text": [
      "Paul Lester-Boal\n",
      "Sarahlynn Lester-Boal\n",
      "Ellie Lester-Boal\n",
      "Ada Lester-Boal\n",
      "Teddy Lester-Boal\n",
      "Donald Duck\n",
      "Daisy Duck\n",
      "Kim Kardashian\n",
      "Chloe Kardashian\n",
      "Courtney Kardashian\n",
      "Rob Kardashian\n"
     ]
    }
   ],
   "source": [
    "for surname, family in families.items():\n",
    "    for firstname in family:\n",
    "        print(\"{} {}\".format(firstname, surname))"
   ]
  },
  {
   "cell_type": "code",
   "execution_count": null,
   "metadata": {},
   "outputs": [],
   "source": []
  },
  {
   "cell_type": "code",
   "execution_count": null,
   "metadata": {},
   "outputs": [],
   "source": []
  },
  {
   "cell_type": "code",
   "execution_count": null,
   "metadata": {},
   "outputs": [],
   "source": []
  },
  {
   "cell_type": "code",
   "execution_count": 7,
   "metadata": {},
   "outputs": [],
   "source": [
    "subjects = {\n",
    "    \"A1\": { \"PatientID\": \"E143291\", \"Age\": 19 },\n",
    "    \"B2\": { \"PatientID\": \"E872839\", \"Age\": 32 },\n",
    "    \"C3\": { \"PatientID\": \"E878198\", \"Age\": 19 },\n",
    "    \"D4\": { \"PatientID\": \"E871111\", \"Age\": 21 },\n",
    "    \"E5\": { \"PatientID\": \"E143299\", \"Age\": 3  },\n",
    "    \"F6\": { \"PatientID\": \"E123332\", \"Age\": 21 },\n",
    "    \"H7\": { \"PatientID\": \"E989891\", \"Age\": 19 }\n",
    "}"
   ]
  },
  {
   "cell_type": "code",
   "execution_count": 9,
   "metadata": {},
   "outputs": [],
   "source": [
    "patients = {}\n",
    "for subject, info in subjects.items():\n",
    "    patientid = info[\"PatientID\"]\n",
    "    age = info[\"Age\"]\n",
    "    patients[patientid] = { \"SubjectID\": subject, \"Age\": age }"
   ]
  },
  {
   "cell_type": "code",
   "execution_count": 10,
   "metadata": {},
   "outputs": [
    {
     "data": {
      "text/plain": [
       "{'E143291': {'SubjectID': 'A1', 'Age': 19},\n",
       " 'E872839': {'SubjectID': 'B2', 'Age': 32},\n",
       " 'E878198': {'SubjectID': 'C3', 'Age': 19},\n",
       " 'E871111': {'SubjectID': 'D4', 'Age': 21},\n",
       " 'E143299': {'SubjectID': 'E5', 'Age': 3},\n",
       " 'E123332': {'SubjectID': 'F6', 'Age': 21},\n",
       " 'E989891': {'SubjectID': 'H7', 'Age': 19}}"
      ]
     },
     "execution_count": 10,
     "metadata": {},
     "output_type": "execute_result"
    }
   ],
   "source": [
    "patients"
   ]
  },
  {
   "cell_type": "code",
   "execution_count": null,
   "metadata": {},
   "outputs": [],
   "source": []
  },
  {
   "cell_type": "code",
   "execution_count": null,
   "metadata": {},
   "outputs": [],
   "source": []
  },
  {
   "cell_type": "code",
   "execution_count": 85,
   "metadata": {},
   "outputs": [],
   "source": [
    "patients = {}\n",
    "for subj_id, subject in subjects.items():\n",
    "    patient_id = subject[\"PatientID\"]\n",
    "    age = subject[\"Age\"]\n",
    "    patients[patient_id] = { \"SubjectID\": subj_id, \"Age\": age }"
   ]
  },
  {
   "cell_type": "code",
   "execution_count": 86,
   "metadata": {},
   "outputs": [
    {
     "data": {
      "text/plain": [
       "{'E143291': {'SubjectID': 'A1', 'Age': 19},\n",
       " 'E872839': {'SubjectID': 'B2', 'Age': 32},\n",
       " 'E878198': {'SubjectID': 'C3', 'Age': 19},\n",
       " 'E871111': {'SubjectID': 'D4', 'Age': 21},\n",
       " 'E143299': {'SubjectID': 'E5', 'Age': 3},\n",
       " 'E123332': {'SubjectID': 'F6', 'Age': 21},\n",
       " 'E989891': {'SubjectID': 'H7', 'Age': 19}}"
      ]
     },
     "execution_count": 86,
     "metadata": {},
     "output_type": "execute_result"
    }
   ],
   "source": [
    "patients"
   ]
  },
  {
   "cell_type": "code",
   "execution_count": 89,
   "metadata": {},
   "outputs": [
    {
     "data": {
      "text/plain": [
       "19"
      ]
     },
     "execution_count": 89,
     "metadata": {},
     "output_type": "execute_result"
    }
   ],
   "source": [
    "patients[\"E989891\"][\"Age\"]"
   ]
  },
  {
   "cell_type": "code",
   "execution_count": 11,
   "metadata": {},
   "outputs": [],
   "source": [
    "families = {\n",
    "    \"Lester-Boal\": [\n",
    "        { \"First Name\": \"Paul\", \"Age\": 43 },\n",
    "        { \"First Name\": \"Ada\", \"Age\": 13 },\n",
    "        { \"First Name\": \"Ellie\", \"Age\": 16 }\n",
    "    ],\n",
    "    \"Duck\": [\n",
    "        { \"First Name\": \"Daisy\", \"Age\": 64 },\n",
    "        { \"First Name\": \"Donald\", \"Age\": 67 }\n",
    "    ]\n",
    "}"
   ]
  },
  {
   "cell_type": "code",
   "execution_count": 91,
   "metadata": {},
   "outputs": [
    {
     "data": {
      "text/plain": [
       "{'Lester-Boal': [{'First Name': 'Paul', 'Age': 43},\n",
       "  {'First Name': 'Ada', 'Age': 13},\n",
       "  {'First Name': 'Ellie', 'Age': 16}],\n",
       " 'Duck': [{'First Name': 'Daisy', 'Age': 64},\n",
       "  {'First Name': 'Donald', 'Age': 67}]}"
      ]
     },
     "execution_count": 91,
     "metadata": {},
     "output_type": "execute_result"
    }
   ],
   "source": [
    "families"
   ]
  },
  {
   "cell_type": "code",
   "execution_count": 15,
   "metadata": {},
   "outputs": [
    {
     "name": "stdout",
     "output_type": "stream",
     "text": [
      "****\n",
      "The average age of 3 Lester-Boals is 24.0\n",
      "****\n",
      "The average age of 2 Ducks is 65.5\n"
     ]
    }
   ],
   "source": [
    "for family, members in families.items():\n",
    "    print(\"****\")\n",
    "#     print(members)\n",
    "    count = len(members)\n",
    "    total_age = 0\n",
    "    for member in members:\n",
    "        total_age += member[\"Age\"]\n",
    "    print(\"The average age of {} {}s is {}\".format(count, family, total_age / count))"
   ]
  },
  {
   "cell_type": "code",
   "execution_count": null,
   "metadata": {},
   "outputs": [],
   "source": []
  },
  {
   "cell_type": "code",
   "execution_count": 16,
   "metadata": {},
   "outputs": [],
   "source": [
    "names = [[\"Ada\", \"Boal\"],\n",
    "        [\"Paul\", \"Boal\"],\n",
    "        [\"Teddy\", \"Boal\"],\n",
    "        [\"Daisy\", \"Duck\"],\n",
    "        [\"Donald\", \"Duck\"],\n",
    "        [\"Eric\", \"Westhus\"]]"
   ]
  },
  {
   "cell_type": "code",
   "execution_count": 17,
   "metadata": {},
   "outputs": [
    {
     "data": {
      "text/plain": [
       "['Ada Boal',\n",
       " 'Paul Boal',\n",
       " 'Teddy Boal',\n",
       " 'Daisy Duck',\n",
       " 'Donald Duck',\n",
       " 'Eric Westhus']"
      ]
     },
     "execution_count": 17,
     "metadata": {},
     "output_type": "execute_result"
    }
   ],
   "source": [
    "output = []\n",
    "for name in names:\n",
    "    output.append(name[0] + ' ' + name[1])\n",
    "output"
   ]
  },
  {
   "cell_type": "code",
   "execution_count": 18,
   "metadata": {},
   "outputs": [
    {
     "data": {
      "text/plain": [
       "['Ada Boal',\n",
       " 'Paul Boal',\n",
       " 'Teddy Boal',\n",
       " 'Daisy Duck',\n",
       " 'Donald Duck',\n",
       " 'Eric Westhus']"
      ]
     },
     "execution_count": 18,
     "metadata": {},
     "output_type": "execute_result"
    }
   ],
   "source": [
    "[ name[0] + \" \" + name[1] for name in names ]"
   ]
  },
  {
   "cell_type": "code",
   "execution_count": null,
   "metadata": {},
   "outputs": [],
   "source": []
  },
  {
   "cell_type": "code",
   "execution_count": 19,
   "metadata": {},
   "outputs": [],
   "source": [
    "names = [\"PAUL\", \"Ada\", \"ellie\", \"TEddY\", \"SarahLynn\"]"
   ]
  },
  {
   "cell_type": "code",
   "execution_count": 20,
   "metadata": {},
   "outputs": [
    {
     "data": {
      "text/plain": [
       "['Paul', 'Ada', 'Ellie', 'Teddy', 'Sarahlynn']"
      ]
     },
     "execution_count": 20,
     "metadata": {},
     "output_type": "execute_result"
    }
   ],
   "source": [
    "[ name[0].upper() + name[1:].lower() for name in names ]"
   ]
  },
  {
   "cell_type": "code",
   "execution_count": 23,
   "metadata": {},
   "outputs": [
    {
     "data": {
      "text/plain": [
       "['Paul', 'Ada', 'Ellie', 'Teddy', 'Sarahlynn']"
      ]
     },
     "execution_count": 23,
     "metadata": {},
     "output_type": "execute_result"
    }
   ],
   "source": [
    "[ name.title() for name in names ]"
   ]
  },
  {
   "cell_type": "code",
   "execution_count": null,
   "metadata": {},
   "outputs": [],
   "source": []
  }
 ],
 "metadata": {
  "kernelspec": {
   "display_name": "Python 3",
   "language": "python",
   "name": "python3"
  },
  "language_info": {
   "codemirror_mode": {
    "name": "ipython",
    "version": 3
   },
   "file_extension": ".py",
   "mimetype": "text/x-python",
   "name": "python",
   "nbconvert_exporter": "python",
   "pygments_lexer": "ipython3",
   "version": "3.6.7"
  }
 },
 "nbformat": 4,
 "nbformat_minor": 4
}
